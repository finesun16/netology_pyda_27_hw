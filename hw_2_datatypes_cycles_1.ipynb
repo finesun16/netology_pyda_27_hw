{
  "nbformat": 4,
  "nbformat_minor": 0,
  "metadata": {
    "kernelspec": {
      "display_name": "Python 3",
      "language": "python",
      "name": "python3"
    },
    "language_info": {
      "codemirror_mode": {
        "name": "ipython",
        "version": 3
      },
      "file_extension": ".py",
      "mimetype": "text/x-python",
      "name": "python",
      "nbconvert_exporter": "python",
      "pygments_lexer": "ipython3",
      "version": "3.8.5"
    },
    "colab": {
      "name": "hw_2_datatypes_cycles_1.ipynb",
      "provenance": [],
      "collapsed_sections": [],
      "include_colab_link": true
    }
  },
  "cells": [
    {
      "cell_type": "markdown",
      "metadata": {
        "id": "view-in-github",
        "colab_type": "text"
      },
      "source": [
        "<a href=\"https://colab.research.google.com/github/finesun16/netology_pyda_27_hw/blob/master/hw_2_datatypes_cycles_1.ipynb\" target=\"_parent\"><img src=\"https://colab.research.google.com/assets/colab-badge.svg\" alt=\"Open In Colab\"/></a>"
      ]
    },
    {
      "cell_type": "markdown",
      "metadata": {
        "id": "6AXp2Et4JiVA"
      },
      "source": [
        "# Домашнее задание к лекции \"Введение в типы данных и циклы. Часть 1\""
      ]
    },
    {
      "cell_type": "markdown",
      "metadata": {
        "id": "uWMArvRcJiVV"
      },
      "source": [
        "## Задание 1\n",
        "Дана переменная, в которой хранится слово из латинских букв. Напишите код, который выводит на экран:\n",
        "- среднюю букву, если число букв в слове нечетное;\n",
        "- две средних буквы, если число букв четное.\n",
        "\n",
        "Примеры работы программы:  \n",
        "1. `word = 'test'`\n",
        "\n",
        "Результат:  \n",
        "`es`\n",
        "2.     \n",
        "`word = 'testing'`\n",
        "\n",
        "Результат:  \n",
        "`t`"
      ]
    },
    {
      "cell_type": "code",
      "metadata": {
        "colab": {
          "base_uri": "https://localhost:8080/"
        },
        "id": "rHOIS13VJr48",
        "outputId": "ac52a6ba-8034-41e7-e77c-235f1100ac7b"
      },
      "source": [
        "word = 'test'\n",
        "if len(word) % 2 == 0:\n",
        "  print(word[int(len(word)/2-1):int(len(word)/2+1)])\n",
        "else:\n",
        "  print(word[int(len(word)/2)])"
      ],
      "execution_count": 28,
      "outputs": [
        {
          "output_type": "stream",
          "name": "stdout",
          "text": [
            "es\n"
          ]
        }
      ]
    },
    {
      "cell_type": "code",
      "metadata": {
        "id": "4aQrW1RbN0oU"
      },
      "source": [
        ""
      ],
      "execution_count": null,
      "outputs": []
    },
    {
      "cell_type": "markdown",
      "metadata": {
        "id": "4mZxYfyYJiVZ"
      },
      "source": [
        "## Задание 2\n",
        "Напишите программу, которая последовательно запрашивает у пользователя числа (по одному за раз) и после первого нуля выводит сумму всех ранее введенных чисел.\n",
        "\n",
        "Примеры работы программы:  \n",
        "1.   \n",
        "\n",
        "```\n",
        "Введите число:  \n",
        "1\n",
        "\n",
        "Введите число:  \n",
        "4\n",
        "\n",
        "Введите число:  \n",
        "6\n",
        "\n",
        "Введите число:  \n",
        "0\n",
        "```\n",
        "\n",
        "Результат:  \n",
        "`11`\n",
        "\n",
        "2.      \n",
        "\n",
        "```\n",
        "Введите число:  \n",
        "0\n",
        "```  \n",
        "\n",
        "Результат:  \n",
        "`0`"
      ]
    },
    {
      "cell_type": "code",
      "metadata": {
        "colab": {
          "base_uri": "https://localhost:8080/"
        },
        "id": "prvz6m1FPhfK",
        "outputId": "10ac9176-997e-453e-d51b-4d194126f2aa"
      },
      "source": [
        "result=0\n",
        "number=None\n",
        "while number != 0:\n",
        "    number = int(input('Введите число: '))\n",
        "    result+=number\n",
        "print(result)"
      ],
      "execution_count": 35,
      "outputs": [
        {
          "output_type": "stream",
          "name": "stdout",
          "text": [
            "Введите число: 1\n",
            "Введите число: 5\n",
            "Введите число: 8\n",
            "Введите число: 24\n",
            "Введите число: 0\n",
            "38\n"
          ]
        }
      ]
    },
    {
      "cell_type": "markdown",
      "metadata": {
        "id": "XisTqTA1JiVb"
      },
      "source": [
        "## Задание 3\n",
        "\n",
        "Мы делаем [MVP](https://ru.wikipedia.org/wiki/%D0%9C%D0%B8%D0%BD%D0%B8%D0%BC%D0%B0%D0%BB%D1%8C%D0%BD%D0%BE_%D0%B6%D0%B8%D0%B7%D0%BD%D0%B5%D1%81%D0%BF%D0%BE%D1%81%D0%BE%D0%B1%D0%BD%D1%8B%D0%B9_%D0%BF%D1%80%D0%BE%D0%B4%D1%83%D0%BA%D1%82) dating-сервиса, и у нас есть список парней и девушек.  \n",
        "Выдвигаем гипотезу: лучшие рекомендации мы получим, если просто отсортируем имена по алфавиту и познакомим людей с одинаковыми индексами после сортировки!\n",
        "Но мы не будем никого знакомить, если кто-то может остаться без пары:\n",
        "\n",
        "Примеры работы программы:  \n",
        "1.  \n",
        "\n",
        "```\n",
        "boys = ['Peter', 'Alex', 'John', 'Arthur', 'Richard']\n",
        "girls = ['Kate', 'Liza', 'Kira', 'Emma', 'Trisha']\n",
        "```\n",
        "\n",
        "Результат:  \n",
        "```\n",
        "Идеальные пары:  \n",
        "Alex и Emma  \n",
        "Arthur и Kate  \n",
        "John и Kira  \n",
        "Peter и Liza  \n",
        "Richard и Trisha \n",
        "```\n",
        "2.     \n",
        "\n",
        "```\n",
        "boys = ['Peter', 'Alex', 'John', 'Arthur', 'Richard', 'Michael']\n",
        "girls = ['Kate', 'Liza', 'Kira', 'Emma', 'Trisha']\n",
        "```\n",
        "\n",
        "Результат:  \n",
        "`Внимание, кто-то может остаться без пары!`"
      ]
    },
    {
      "cell_type": "code",
      "metadata": {
        "id": "x62fUEkLSgJV"
      },
      "source": [
        "boys = ['Peter', 'Alex', 'John', 'Arthur', 'Richard', 'Michael']\n",
        "girls = ['Kate', 'Liza', 'Kira', 'Emma', 'Trisha']"
      ],
      "execution_count": 50,
      "outputs": []
    },
    {
      "cell_type": "code",
      "metadata": {
        "id": "BlYEGOy9ShB8"
      },
      "source": [
        "boys = ['Peter', 'Alex', 'John', 'Arthur', 'Richard']\n",
        "girls = ['Kate', 'Liza', 'Kira', 'Emma', 'Trisha']"
      ],
      "execution_count": 52,
      "outputs": []
    },
    {
      "cell_type": "code",
      "metadata": {
        "colab": {
          "base_uri": "https://localhost:8080/"
        },
        "id": "rHKhSdYXSA1S",
        "outputId": "a28f6357-bd18-42ff-9fde-fdc450a68523"
      },
      "source": [
        "pairs =[]\n",
        "if len(boys)!=len(girls):\n",
        "  print('Внимание, кто-то может остаться без пары!')\n",
        "else:\n",
        "  pairs = list(zip(sorted(boys), sorted(girls)))\n",
        "  print('Идеальные пары:')\n",
        "  for pair in pairs:\n",
        "    print(f'{pair[0]} и {pair[1]}')"
      ],
      "execution_count": 53,
      "outputs": [
        {
          "output_type": "stream",
          "name": "stdout",
          "text": [
            "Идеальные пары:\n",
            "Alex и Emma\n",
            "Arthur и Kate\n",
            "John и Kira\n",
            "Peter и Liza\n",
            "Richard и Trisha\n"
          ]
        }
      ]
    },
    {
      "cell_type": "markdown",
      "metadata": {
        "id": "rZG-tSZJJiVd"
      },
      "source": [
        "## Задание 4\n",
        "\n",
        "У нас есть список, содержащий информацию о среднедневной температуре в Фаренгейтах за произвольный период по странам (структура данных в примере).\n",
        "Необходимо написать код, который рассчитает среднюю температуру за период в Цельсиях(!) для каждой страны.\n",
        "\n",
        "Пример работы программы:  \n",
        "```\n",
        "countries_temperature = [\n",
        "    ['Thailand', [75.2, 77, 78.8, 73.4, 68, 75.2, 77]],\n",
        "    ['Germany', [57.2, 55.4, 59, 59, 53.6]],\n",
        "    ['Russia', [35.6, 37.4, 39.2, 41, 42.8, 39.2, 35.6]],\n",
        "    ['Poland', [50, 50, 53.6, 57.2, 55.4, 55.4]]\n",
        "]\n",
        "```\n",
        "\n",
        "Результат:  \n",
        "```\n",
        "Средняя температура в странах:\n",
        "Thailand  -  23.9 С\n",
        "Germany  -  13.8 С\n",
        "Russia  -  3.7 С\n",
        "Poland  -  12.0 С\n",
        "```"
      ]
    },
    {
      "cell_type": "markdown",
      "metadata": {
        "id": "no0xkA--VT2v"
      },
      "source": [
        "![image.png](data:image/png;base64,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)\n",
        "\n",
        "![image.png](data:image/png;base64,iVBORw0KGgoAAAANSUhEUgAAAJsAAAA1CAYAAABWd5kSAAAFeklEQVR4Ae2YgW3jMAxFu1/36SZdo3N0li7Rwyvu4VhGchzHVnIWBQiSZYmkPp9lJy/fVUqBQQq8DPJTbkqB74KtIBimQME2TOpyVLAVA8MUKNiGSV2OCrZiYJgC08D29fX1/fb29v36+vr98vLy0x+mcjn6UWAK2D4/P38gAzT6FKErDsYpMAVsgsXpZqHPCff+/u5QtQcrcHrYOMmAippLbzzPq+t9FLjMwD52n8bKx8fHD2icbrkIm6/WfL+u91VgGthaJ5uvV4CscrwCp4fNb7MMW3y9FmzHg4aH08PGJj3B4g8Efhj4Gi3YCrbdFAAygKMCGaeaAAJcfbPtJvWioSlONhXgT10rY55s8cRzbrX7KzAVbFE+v+U44aqMUWAK2HxlxhPMv0Tqe20MaHiZCjbB8huOV2oEcJzsc3qaAjZPMb/XOOmoBdpY6KeADUkBi1+i/hodK/P/6Y2HlAeUB3PpLZDn+QbJu+7C5qumtzAbquu+Ap6o/RnPd8fTn7+FYIDr1t9E3vNBdh5tLl3YMIJxjFTZrgAPLTq2xN9u9fpKIAHyLaWVe8fYi8W95f8pmdNi599KLfxtJRSDVbYrYJJGP7R7wBbBwp4QyYR7i/NQCsidG5Xrwsbk0U9jDOws/Uc9tMBxT/7yt61gRZuebBm2Fpjk8xdsOMCYAglcdHAWCI7cB0no6eipcKR/bN9zsuXY3A88AF0s+Ml7aoHJml+wsYiJHoPSjcEjCvZvrXmzR8S1h000i6J7vYftNTbwfe8hQcweQIC2lgMPq/zN+As2N+HkTKz33QjGmJtbAlxTbgXN+WtsHzmnp0v2KWy0SwV7aoieVMbY71pf2T4+c7LznGvXxoAdYFtjDyB9I+bYm7A5eSkYhVQQDFMVbWntiHuKTTxr65on130DxLXCHLTMosd16Mcc7DqPvmvj3Fbf04c1Poz0zUMci/2WraUxbF7jgviJm+peos0L2CKZcWLuK1I2yjUbfXQxYW5+TcuerpU1omsDnySoV7SVNWS+sPTWOk7MPkyx7369Rxvvt3xqs9eyF2pLJ+zps2f7QgkFoF0qGnYOAeCE2grGebEFbPzcUtecPtHHEX3i7QmqP+4vnQTY4H5vP8KhvVtb7JOjLYX8sTbvkbHWnpgn1HFN9n8BmwZdhBgYygWnjjM3G87zW9cGeEu7FuSWv5FjwmS8WSP0WtKM+eZgS9z4Nz+3rie3Mb+u742bP+fR5v0y1oXNhQhC4LEAII4VrBVYnD9jnwSgi7DFhKjfVhjW6HnPySZUMe/A43g8jdkf47DAfmJL3/Kz3gtbRTJYxfI+rQ50ynUMLM6dtY8eJEHIaD2pvLekmdpu1Q/b+NxSBIv1xEEFHPYTY2ZcAFvtVdgIDniovQ1jJBpinkJu2dzRa3qx9cb3igddTFi0KWw9fbkfkxrXru2zPuZo7TrnoQ0MmOvWPphjrK0263vxGtXZUusTuzTnme6RVGJGOERTQMZ6CT8yfpKAb5KZC/eI8d4i6Pfa2XP9TbCxAQgWtkckasvmjZm4rQDH+KOKMcUYBCSfCI+KcW+/N8HGE8fTSGvdO6Aj7Pk6oKWS1GdIKHEAvQ8vsT1DXEfkAJs3wXZUEEfb5fQgqVUeq0DB9lj9p/I+FWy8+nll+QPhf/nmPAuRU8AGVEAWP8b9VjrzN9KzQToFbAAVQSMJjHnKPVtSzhrPFLC1kidsAFenW0uh/cemgK33Nw2gUevbbX+wWhZPD5vfa/kEiydbwdZCY/+x08MmVPxhGosQ1v9vUZVj+6eHDfl4jWao/DVap9qxgEXrU8AmcLxKhYy2QIsoHN+fBjal5C+Q+vWpGmPb6WAbK295iwoUbFGN6h+qwB8FemelhevtjgAAAABJRU5ErkJggg==)"
      ]
    },
    {
      "cell_type": "code",
      "metadata": {
        "id": "ytl8KhvgVmu5"
      },
      "source": [
        "countries_temperature = [\n",
        "    ['Thailand', [75.2, 77, 78.8, 73.4, 68, 75.2, 77]],\n",
        "    ['Germany', [57.2, 55.4, 59, 59, 53.6]],\n",
        "    ['Russia', [35.6, 37.4, 39.2, 41, 42.8, 39.2, 35.6]],\n",
        "    ['Poland', [50, 50, 53.6, 57.2, 55.4, 55.4]]\n",
        "]"
      ],
      "execution_count": 54,
      "outputs": []
    },
    {
      "cell_type": "code",
      "metadata": {
        "colab": {
          "base_uri": "https://localhost:8080/"
        },
        "id": "vbt16hYNV0sp",
        "outputId": "87dd502b-d46f-47c5-a90b-6e55224451ce"
      },
      "source": [
        "countries_temperature[0][1]"
      ],
      "execution_count": 55,
      "outputs": [
        {
          "output_type": "execute_result",
          "data": {
            "text/plain": [
              "[75.2, 77, 78.8, 73.4, 68, 75.2, 77]"
            ]
          },
          "metadata": {},
          "execution_count": 55
        }
      ]
    },
    {
      "cell_type": "code",
      "metadata": {
        "colab": {
          "base_uri": "https://localhost:8080/"
        },
        "id": "998rtqjXWNpW",
        "outputId": "71affaa2-c575-4390-81c3-e38ba1a4dd6f"
      },
      "source": [
        "for temp in countries_temperature:\n",
        "  print(f'{temp[0]} - {round(5/9*(sum(temp[1])/len(temp[1])-32) , 1)} C')\n",
        "  "
      ],
      "execution_count": 67,
      "outputs": [
        {
          "output_type": "stream",
          "name": "stdout",
          "text": [
            "Thailand - 23.9 C\n",
            "Germany - 13.8 C\n",
            "Russia - 3.7 C\n",
            "Poland - 12.0 C\n"
          ]
        }
      ]
    },
    {
      "cell_type": "markdown",
      "metadata": {
        "id": "reo37QlbJiVf"
      },
      "source": [
        "## Задание 5 (необязательное)\n",
        "\n",
        "Дан поток логов по количеству просмотренных страниц для каждого пользователя. Вам необходимо написать алгоритм, который считает среднее значение просмотров на пользователя. \n",
        "Т. е. надо посчитать отношение суммы всех просмотров к количеству уникальных пользователей.\n",
        "\n",
        "Примеры работы программы:  \n",
        "1.  \n",
        "\n",
        "```\n",
        "stream = [\n",
        "    '2018-01-01,user1,3',\n",
        "    '2018-01-07,user1,4',\n",
        "    '2018-03-29,user1,1',\n",
        "    '2018-04-04,user1,13',\n",
        "    '2018-01-05,user2,7',\n",
        "    '2018-06-14,user3,4',\n",
        "    '2018-07-02,user3,10',\n",
        "    '2018-03-21,user4,19',\n",
        "    '2018-03-22,user4,4',\n",
        "    '2018-04-22,user4,8',\n",
        "    '2018-05-03,user4,9',\n",
        "    '2018-05-11,user4,11',\n",
        "]\n",
        "```\n",
        "\n",
        "Результат:  \n",
        "`Среднее количество просмотров на уникального пользователя: 23.25`\n",
        "2.     \n",
        "\n",
        "```\n",
        "stream = [\n",
        "    '2018-01-01,user100,150',\n",
        "    '2018-01-07,user99,205',\n",
        "    '2018-03-29,user1001,81'\n",
        "]\n",
        "```\n",
        "\n",
        "Результат:  \n",
        "`Среднее количество просмотров на уникального пользователя: 145.33`"
      ]
    },
    {
      "cell_type": "code",
      "metadata": {
        "id": "xrZ7Zxq0ZfyO"
      },
      "source": [
        "stream = [\n",
        "    '2018-01-01,user100,150',\n",
        "    '2018-01-07,user99,205',\n",
        "    '2018-03-29,user1001,81'\n",
        "]"
      ],
      "execution_count": 68,
      "outputs": []
    },
    {
      "cell_type": "code",
      "metadata": {
        "colab": {
          "base_uri": "https://localhost:8080/"
        },
        "id": "vohEqo7bZj2x",
        "outputId": "296b2f27-eb69-4f73-a280-f7da15b847bc"
      },
      "source": [
        "\n",
        "for line in stream:\n",
        "  print(line.split(','))"
      ],
      "execution_count": 69,
      "outputs": [
        {
          "output_type": "stream",
          "name": "stdout",
          "text": [
            "['2018-01-01', 'user100', '150']\n",
            "['2018-01-07', 'user99', '205']\n",
            "['2018-03-29', 'user1001', '81']\n"
          ]
        }
      ]
    },
    {
      "cell_type": "markdown",
      "metadata": {
        "id": "ngNpz3D5JiVi"
      },
      "source": [
        "## Задание 6 (необязательное)\n",
        "\n",
        "Необходимо у пользователя запрашивать набор чисел разделенных пробелом. В результате в отсортированном порядке должны выводиться числа, которые повторяются в вводе более одного раза.\n",
        "\n",
        "Примеры работы программы:  \n",
        "1.  \n",
        "\n",
        "```\n",
        "Введите числа:\n",
        "4 8 0 3 4 2 0 3\n",
        "```\n",
        "\n",
        "Результат:  \n",
        "`0 3 4`\n",
        "\n",
        "2.     \n",
        "\n",
        "```\n",
        "Введите числа:\n",
        "1 1 2 2 3 3\n",
        "```\n",
        "\n",
        "Результат:  \n",
        "`1 2 3`\n",
        "\n",
        "3.     \n",
        "\n",
        "```\n",
        "Введите числа:\n",
        "10 15 15 103 200 200 200 1 1 1 1 1 2 2 2\n",
        "```\n",
        "\n",
        "Результат:  \n",
        "`1 2 15 200`"
      ]
    },
    {
      "cell_type": "markdown",
      "metadata": {
        "id": "OSjBgPnKJiVj"
      },
      "source": [
        "#### ПРИМЕЧАНИЕ\n",
        "Домашнее задание сдается ссылкой [Google Colab](https://colab.research.google.com/).\n",
        "Не сможем проверить или помочь, если вы пришлете:\n",
        "- файлы;\n",
        "- архивы;\n",
        "- скриншоты кода.\n",
        "\n",
        "Все обсуждения и консультации по выполнению домашнего задания ведутся только на соответствующем канале в slack.\n",
        "\n",
        "##### Как правильно задавать вопросы аспирантам, преподавателям и коллегам\n",
        "Прежде чем задать вопрос, попробуйте найти ответ в интернете. Навык самостоятельного поиска информации — один из важнейших. Каждый практикующий специалист любого уровня делает это ежедневно.\n",
        "\n",
        "Сформулируйте вопрос по алгоритму:  \n",
        "1) Что я делаю?  \n",
        "2) Какого результата я ожидаю?  \n",
        "3) Как фактический результат отличается от ожидаемого?  \n",
        "4) Что я уже попробовал сделать, чтобы исправить проблему?  \n",
        "\n",
        "По возможности прикрепите к вопросу скриншоты либо ссылки на код. Не выкладывайте все решение, оставляйте только проблемный и воспроизводимый участок кода.\n"
      ]
    }
  ]
}