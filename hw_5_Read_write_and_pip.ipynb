{
  "nbformat": 4,
  "nbformat_minor": 0,
  "metadata": {
    "colab": {
      "name": "hw_5_Read-write and pip.ipynb",
      "provenance": [],
      "collapsed_sections": [],
      "mount_file_id": "1qb-33sYP6sH83IiRNi6rKsbGe8LmH37V",
      "authorship_tag": "ABX9TyOaqCMPs5WDufWbJNw7eLif",
      "include_colab_link": true
    },
    "kernelspec": {
      "name": "python3",
      "display_name": "Python 3"
    },
    "language_info": {
      "name": "python"
    }
  },
  "cells": [
    {
      "cell_type": "markdown",
      "metadata": {
        "id": "view-in-github",
        "colab_type": "text"
      },
      "source": [
        "<a href=\"https://colab.research.google.com/github/finesun16/netology_pyda_27_hw/blob/master/hw_5_Read_write_and_pip.ipynb\" target=\"_parent\"><img src=\"https://colab.research.google.com/assets/colab-badge.svg\" alt=\"Open In Colab\"/></a>"
      ]
    },
    {
      "cell_type": "markdown",
      "metadata": {
        "id": "0-VZ0JvrrqFu"
      },
      "source": [
        "# Домашнее задание\n",
        "1. Переведите содержимое файла purchase_log.txt в словарь purchases вида:\n",
        "```python\n",
        "{'1840e0b9d4': 'Продукты', ...}\n",
        "```\n",
        "\n",
        "2. Для каждого user_id в файле visit_log.csv определите третий столбец с категорией покупки (если покупка была, сам файл visit_log.csv изменять не надо). Запишите в файл funnel.csv визиты из файла visit_log.csv, в которых были покупки с указанием категории.\n",
        "\n",
        "Учтите условия на данные:\n",
        "- содержимое purchase_log.txt помещается в оперативную память компьютера\n",
        "- содержимое visit_log.csv - нет; используйте только построчную обработку этого файла"
      ]
    },
    {
      "cell_type": "code",
      "metadata": {
        "id": "tJzpXOTIt7A2"
      },
      "source": [
        "import os\n",
        "import json\n",
        "from pprint import pprint"
      ],
      "execution_count": 1,
      "outputs": []
    },
    {
      "cell_type": "code",
      "metadata": {
        "id": "ndB4UM6DrqFf"
      },
      "source": [
        "# чтение всех файлов и папок, в том числе вложенных\n",
        "for root, directory, file in os.walk('drive'):\n",
        "    print(root, directory, file)"
      ],
      "execution_count": null,
      "outputs": []
    },
    {
      "cell_type": "code",
      "metadata": {
        "id": "y5EUy98tsN1z"
      },
      "source": [
        "new_dict = {}\n",
        "with open('drive/MyDrive/Colab Notebooks/netology_pyda27_hw/data/purchase_log.txt') as f :\n",
        "    # f.readline()\n",
        "    for line in f:\n",
        "        # print(line)\n",
        "        # break\n",
        "        dict_ = json.loads(line.strip())\n",
        "        if dict_['user_id'] not in new_dict:\n",
        "            new_dict[dict_['user_id']] = [dict_['category']]\n",
        "            # print(new_dict)\n",
        "            # break\n",
        "        else:\n",
        "            new_dict[dict_['user_id']] += [dict_['category']]\n"
      ],
      "execution_count": 39,
      "outputs": []
    },
    {
      "cell_type": "code",
      "metadata": {
        "id": "c0iM-sa_zyeu"
      },
      "source": [
        "with open('drive/MyDrive/Colab Notebooks/netology_pyda27_hw/data/visit_log.csv') as vis, open('drive/MyDrive/Colab Notebooks/netology_pyda27_hw/data/funnel.csv', 'w') as funnel :\n",
        "    for line in vis:\n",
        "        line = line.strip().split(',')\n",
        "      \n",
        "        if line[0] in new_dict:\n",
        "            \n",
        "            line += new_dict[line[0]]\n",
        "            funnel.write(f'{\",\".join(line)}\\n') \n"
      ],
      "execution_count": 42,
      "outputs": []
    },
    {
      "cell_type": "code",
      "metadata": {
        "colab": {
          "base_uri": "https://localhost:8080/"
        },
        "id": "fKoenngrOdnf",
        "outputId": "fb456d36-0352-46e0-fb96-16dec77bd40e"
      },
      "source": [
        "with open('drive/MyDrive/Colab Notebooks/netology_pyda27_hw/data/funnel.csv', 'r') as funnel:\n",
        "    pprint([next(funnel).strip() for x in range(10)])\n"
      ],
      "execution_count": 47,
      "outputs": [
        {
          "output_type": "stream",
          "name": "stdout",
          "text": [
            "['user_id,source,category',\n",
            " '1840e0b9d4,other,Продукты',\n",
            " '4e4f90fcfb,context,Электроника',\n",
            " 'afea8d72fc,other,Электроника',\n",
            " '2824221f38,email,Продукты',\n",
            " '373a6055fe,other,Бытовая техника',\n",
            " '9b2ab046f3,other,Электроника',\n",
            " '9f39d307c3,context,Электроника',\n",
            " '44edeffc91,context,Продукты',\n",
            " '704474fa2d,other,Продукты']\n"
          ]
        }
      ]
    }
  ]
}