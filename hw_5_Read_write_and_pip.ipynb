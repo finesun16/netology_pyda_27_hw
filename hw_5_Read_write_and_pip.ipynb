{
  "nbformat": 4,
  "nbformat_minor": 0,
  "metadata": {
    "colab": {
      "name": "hw_5_Read-write and pip.ipynb",
      "provenance": [],
      "collapsed_sections": [],
      "mount_file_id": "1qb-33sYP6sH83IiRNi6rKsbGe8LmH37V",
      "authorship_tag": "ABX9TyOaqCMPs5WDufWbJNw7eLif",
      "include_colab_link": true
    },
    "kernelspec": {
      "name": "python3",
      "display_name": "Python 3"
    },
    "language_info": {
      "name": "python"
    }
  },
  "cells": [
    {
      "cell_type": "markdown",
      "metadata": {
        "id": "view-in-github",
        "colab_type": "text"
      },
      "source": [
        "<a href=\"https://colab.research.google.com/github/finesun16/netology_pyda_27_hw/blob/master/hw_5_Read_write_and_pip.ipynb\" target=\"_parent\"><img src=\"https://colab.research.google.com/assets/colab-badge.svg\" alt=\"Open In Colab\"/></a>"
      ]
    },
    {
      "cell_type": "markdown",
      "metadata": {
        "id": "0-VZ0JvrrqFu"
      },
      "source": [
        "# Домашнее задание\n",
        "1. Переведите содержимое файла purchase_log.txt в словарь purchases вида:\n",
        "```python\n",
        "{'1840e0b9d4': 'Продукты', ...}\n",
        "```\n",
        "\n",
        "2. Для каждого user_id в файле visit_log.csv определите третий столбец с категорией покупки (если покупка была, сам файл visit_log.csv изменять не надо). Запишите в файл funnel.csv визиты из файла visit_log.csv, в которых были покупки с указанием категории.\n",
        "\n",
        "Учтите условия на данные:\n",
        "- содержимое purchase_log.txt помещается в оперативную память компьютера\n",
        "- содержимое visit_log.csv - нет; используйте только построчную обработку этого файла"
      ]
    },
    {
      "cell_type": "code",
      "metadata": {
        "id": "tJzpXOTIt7A2"
      },
      "source": [
        "import os\n",
        "import json\n",
        "from pprint import pprint"
      ],
      "execution_count": 1,
      "outputs": []
    },
    {
      "cell_type": "code",
      "metadata": {
        "id": "ndB4UM6DrqFf",
        "colab": {
          "base_uri": "https://localhost:8080/"
        },
        "outputId": "8f55d268-b6ab-4cbe-a426-988fae33fac6"
      },
      "source": [
        "# чтение всех файлов и папок, в том числе вложенных\n",
        "for root, directory, file in os.walk('drive'):\n",
        "    print(root, directory, file)"
      ],
      "execution_count": null,
      "outputs": [
        {
          "output_type": "stream",
          "name": "stdout",
          "text": [
            "drive ['MyDrive', '.shortcut-targets-by-id', '.file-revisions-by-id', '.Trash-0'] []\n",
            "drive/MyDrive ['Backup Your Mobile', 'FBReader® book network', 'Colab Notebooks', 'big data', 'certificates', 'SQL', 'Модуль 7. Типографика'] ['Вильнюс.gmap', 'киев .gmap', 'Шагомер_Backup.txt', 'rzd_finesun_passengers.json', 'Чеклист - КАК БЫСТРО НАЙТИ ДЫРЫ В РЕКЛАМЕ.pdf', 'ДЗ Модуль1_Урок1_Правильный тип диаграммы  (1) (1).xlsx', 'ДЗ Модуль1_Урок1_Правильный тип диаграммы  (1).xlsx', 'ДЗ Модуль1_Урок1_Правильный тип диаграммы .xlsx', 'ДЗ Модуль1_Урок2_Логический порядок.xlsx', 'ДЗ Модуль1_Урок3_Простой дизайн.xlsx', 'ДЗ Модуль1_Урок4_Легкое сравнение данных.xlsx', 'ДЗ Модуль1_Урок6_Не перегружайте информацией.xlsx', 'ДЗ Модуль1_Урок5_Минимум элементов.xlsx', 'ДЗ Модуль1_Урок5_Минимум элементов (1).xlsx', 'ДЗ Модуль1_Урок7_Понятный формат чисел.xlsx', 'ДЗ Модуль1_Урок8_Название и подписи.xlsx', 'ДЗ Модуль1_Урок9_Общепринятые цветовые решения.xlsx', 'ДЗ Модуль1_Урок10_Минимум типов диаграмм (1).xlsx', 'ДЗ Модуль1_Урок10_Минимум типов диаграмм.xlsx', 'ДЗ Модуль1_Урок10_Минимум типов диаграмм - дубль 2.xlsx', 'ДЗ Модуль1_Урок11_Единая цветовая палитра.xlsx', 'ДЗ Модуль2_Урок1_Пространство между столбцами (1).xlsx', 'ДЗ Модуль2_Урок2_Перекрытие столбцов (1).xlsx', 'ДЗ Модуль2_Урок3_Одна подпись для нескольких диаграмм (1) (1).xlsx', 'ДЗ Модуль2_Урок3_Одна подпись для нескольких диаграмм (2).xlsx', 'ДЗ Модуль2_Урок3_Одна подпись для нескольких диаграмм (1).xlsx', 'Copy of Мегафайл. ДЗ. Курс \"Профессия: Аналитик\". Старт 30.03.2020 (пример) (1).gsheet', 'Copy of Мегафайл. ДЗ. Курс \"Профессия: Аналитик\". Старт 30.03.2020 (пример).gsheet', 'ДЗ Модуль2_Урок4_Вспомогательная ось.xlsx', 'ДЗ Модуль2_Урок5_Скользящее среднее.xlsx', 'ДЗ Модуль3_Урок1_Как показать положительные и отрицательные значения.xlsx', 'ДЗ Модуль3_Урок2_ Как показать ответы Да-Нет-Не знаю.xlsx', 'ДЗ Модуль3_Урок3_Как выделить значения максимум и минимум.xlsx', 'ДЗ Модуль3_Урок4_Как отобразить данные о мужчинах и женщинах.xlsx', 'Copy of Мегафайл. ДЗ. Курс \"Профессия: Аналитик\". Старт 30.03.2020 _Наталья Булбук.gsheet', 'Copy of Чигинцева. Мегафайл. ДЗ. Курс \"Профессия: Аналитик\". Старт 30.03.2020.gsheet', 'Copy of Поджарова Елена_Мегафайл. ДЗ. Курс \"Профессия: Аналитик\". Старт 30.03.2020 (1).gsheet', 'Copy of Поджарова Елена_Мегафайл. ДЗ. Курс \"Профессия: Аналитик\". Старт 30.03.2020.gsheet', 'Copy of Копия Мегафайл. ДЗ. Курс \"Профессия: Аналитик\". Старт 30.03.2020 (1).gsheet', 'Copy of Inna Filipenko Мегафайл. ДЗ. Курс \"Профессия: Аналитик\". Старт 30.03.2020.gsheet', 'Copy of Копия Мегафайл. ДЗ. Курс \"Профессия: Аналитик\". Старт 30.03.2020.gsheet', ' Лекиця 3. HADI-циклы.  Пример описания гипотезы..gdoc', 'IMG_8751-Edit2.jpg', 'СР1-Понимание целей бизнеса.xlsx', 'продажи.csv', 'продажи (1).gsheet', 'продажи.gsheet', 'продажи _ДЗ.xlsx', 'Мегафайл. ДЗ. Курс \"Профессия: Аналитик\". Старт 30.03.2020 Синельникова Наталия.gsheet', 'OnlineRetail_end.csv', 'OnlineRetail_end.gsheet', 'OnlineRetail_end.xlsx', 'Data Sample (AIC) для итоговой работы .gsheet', 'OnlineRetail_end_pivot.csv', 'Copy of Лекиця 3. HADI-циклы.  Пример описания гипотезы..gdoc', 'OnlineRetail_end_pivot2 (1).xlsx', 'Copy of OnlineRetail_end_pivot2.gsheet', 'OnlineRetail_end_pivot2 (3).gsheet', 'OnlineRetail_end_pivot2 (2).gsheet', 'OnlineRetail_end_pivot2 (1).gsheet', 'OnlineRetail_end_pivot2.xlsx', 'OnlineRetail_end_pivot2.gsheet', 'OnlineRetail_groupby.xlsx', 'OnlineRetail_groupby.gsheet', 'Copy of Ссылки.gdoc', '02-Синельникова Наталия.pdf', '02-Синельникова Наталия.gdoc', 'Матрица компетенций.gsheet', 'HADI.xlsx', 'HADI.gsheet', 'HADI_нетология.xlsx', 'Copy of Тестовое задание на аналитика Skyeng v3.gdoc', 'joined655 (1).gsheet', 'joined655.csv', 'joined655.gsheet', 'Copy of Резюме. Синельникова Наталия. .gdoc', 'DataViz in Storytelling.gdoc', 'OnlineRetail_end_pivot.xlsx', 'click_stream3.csv', 'sql-16 Инструкция по установке ПО для студентов.gdoc', 'click_stream3.gsheet', 'Adobe Indesign_Тестовые вопросы.docx', 'БД ОТВЕТЫ НА ТЕСТ (95 вопросов).gdoc', 'Пример технического задания для добавления кода отслеживания Google Analytics на сайт.gdoc', 'Лабораторная работа SQL-6 решение.gdoc', 'Untitled spreadsheet.gsheet', 'Testovoe_zadanie.xlsx', 'Testovoe_zadanie.gsheet', '______~1.PDF', '______~1.PDF.gdoc', 'Типичная задача аналитика (1).gsheet', 'Типичная задача аналитика (домашнее задание, часть 2).gsheet', 'Типичная задача аналитика.gsheet', 'Основы Верстки. Тестовые вопросы.docx', 'Test_for_Сравни.ру.ipynb', 'test_for_Сравни.ру.xlsx', 'количество руководителей органов управления.xlsx', 'Тестовое задание к вакансии дата-аналитика, Синельникова Наталия.gdoc', 'Резюме. Синельникова Наталия. .gdoc', 'пример УФ и график.xlsx', 'Резюме_Синельникова Наталия..gdoc', 'Untitled document (1).gdoc', 'kiva_loans.csv', 'kiva_mpi_region_locations.csv', 'Untitled document.gdoc', 'Введение 1.1 - 1.10.docx', 'Типографика_Тестовые вопросы.docx', 'календарь на 2012.rar', 'годовой отчет 2008.rar', 'годовой отчет 2011.rar', 'календарь на 2013рф.zip', 'иллюстрация и основы фотографии- тестовое задание.docx', 'айдентика, разработка логотипа - тестовые вопросы.docx', 'Заявление_КОМПЕНСАЦИЯ_Дистанционная работа.doc', '02. Datatypes and loops (1).ipynb', '02. Datatypes and loops.ipynb', 'Read-write and pip.ipynb']\n",
            "drive/MyDrive/Backup Your Mobile [] ['backup_2018-02-16-20-47-53', 'backup_2018-02-18-01-57-42']\n",
            "drive/MyDrive/FBReader® book network [] ['Печать.pdf', 'Несладкая месть.fb2', 'Натали.fb2', 'Покаяние души.fb2', 'Путешествие с шейхом.fb2', 'resume.pdf', 'Доверься судьбе.fb2', 'Женщина, которую стоит ждать.fb2', 'Волшебные кони Мирримы.fb2', 'паспорт_загран_Н.С..pdf', 'Не сможешь отказаться.fb2', 'Дверь в Зазеркалье.fb2', 'Кузина-самозванка.fb2', 'Выбор Ричарда Сеймура.fb2', 'miniclipId.txt', 'Навеки.fb2', 'Король роз.fb2', 'Возвращение сказочной феи (1).fb2', 'Выписка из лицевого счёта (1).pdf', 'Второй медовый месяц.fb2', 'Все цвета счастья.fb2', 'Opisanie vakansii (1).doc', 'доверенность на получение социалки.rtf', 'recommendations-tinkoffblack.pdf', 'Возвращение сказочной феи.fb2', 'Песня малиновки.fb2', 'Coupons_android_KFC.pdf', 'Охота на наследницу.fb2', 'Женская гордость.fb2', 'Мост любви.fb2', 'Ангел с рекламного щита.fb2', 'Повелительница грез.fb2', 'Любовь опасная, как порох.fb2', 'Выписка из лицевого счёта.pdf', 'Япония_ язык и общество.fb2.zip', 'Вся правда о нас.fb2', 'Я иду искать.fb2', 'Сундук мертвеца.fb2', 'Уважаемые заявители.doc', 'moluch_157.1.pdf', 'Электронный билет.pdf', 'Отчет.pdf', 'Грей. Кристиан Грей о пятидесяти оттенках.fb2', 'На пятьдесят оттенков темнее.fb2', 'Пятьдесят оттенков серого.fb2', 'Пятьдесят оттенков свободы.fb2']\n",
            "drive/MyDrive/Colab Notebooks ['netology_pyda27_hw', 'netology_27_pyda'] ['Copy of Webinar_test (1).ipynb', 'Copy of Webinar_test.ipynb', 'Copy of MusicFM (1).ipynb', 'Copy of WebinarNotebook.ipynb', 'Copy of MusicFM.ipynb', 'Copy of Copy of MusicFM.ipynb', 'PySpark_for_teacher2.ipynb', 'Copy of PySpark_for_teacher.ipynb', 'Copy of PySpark_for_students_after (1).ipynb', 'Python Visualization (6.10.2019).ipynb', 'Spark_Practice2_students_after2.ipynb', 'Spark_Practice2_teacher.ipynb', 'Spark_Practice2_students_after (1).ipynb', 'разбор датасета .ipynb', 'Machine Learning и Возвращение Короля.ipynb', 'Copy of PySpark_for_students_after.ipynb', 'Решение Pandas.ipynb', 'Решение PySpark.ipynb', 'finish_work (1).ipynb', 'finish_work_ver2.ipynb', 'Код для загрузки данных из файла.ipynb', 'finish_work.ipynb', 'Решение задания из Урока 3.ipynb', 'чей-то код разберу потом', ' \"qiwi_student_case.ipynb\"', 'Untitled0.ipynb', 'дроби.ipynb\"', 'exams.ipynb', ' \"11.2 Детали графика.ipynb\"', '\"11.3 Разные типы графиков.ipynb\"', '\"11.1 Основы matplotlib.ipynb\"', '\"11.2 Детали графика.ipynb\"', 'Spark_Practice2_students_after.ipynb', 'PySpark_for_students_after.ipynb', '\"11.4  Несколько графиков, subplots.ipynb\"', '\"Чтение и запись данных 1 - ДЗ.ipynb\"', 'Чтение и запись данных 1 - ДЗ.ipynb', '\"Мастер-класс: Разведочный анализ данных & Подготовка отчетов.ipynb\"', 'Мастер_класс_Разведочный_анализ_данных_&_Подготовка_отчетов_Домашнее_задание.ipynb', 'Untitled', 'netology_practice_1_28_10_21.ipynb', 'Копия блокнота \"netology_practice_2_01_11_21.ipynb\"', 'Untitled1.ipynb', 'Untitled2.ipynb', 'Untitled3.ipynb']\n",
            "drive/MyDrive/Colab Notebooks/netology_pyda27_hw ['data'] ['hw_1_python_basics.ipynb', 'hw_2_datatypes_cycles_1.ipynb', 'hw_4_functions.ipynb', 'hw_3_datatypes_cycles_2.ipynb', 'hw_5_Read-write and pip.ipynb.ipynb']\n",
            "drive/MyDrive/Colab Notebooks/netology_pyda27_hw/data [] ['purchase_log.txt', 'visit_log.csv']\n",
            "drive/MyDrive/Colab Notebooks/netology_27_pyda ['вебинары', 'Лекции'] []\n",
            "drive/MyDrive/Colab Notebooks/netology_27_pyda/вебинары [] ['netology_practice_4_08_11_21_Read-write and pip.ipynb', '\"netology_practice_1_28_10_21.ipynb\"', '\"netology_practice_2_01_11_21.ipynb\"', '\"netology_practice_3_03_11_21.ipynb\"', 'netology_practice_5_11_11_21_errors_datetime.ipynb']\n",
            "drive/MyDrive/Colab Notebooks/netology_27_pyda/Лекции [] ['02._Datatypes_and_loops.zip', 'Read-write_and_pip.zip']\n",
            "drive/MyDrive/big data [] ['rating.csv', 'users.csv', 'movie.csv', 'movie.gsheet', 'rating.gsheet', 'users.gsheet', 'bigdata_new.xlsx', 'bigdata_new.gsheet', 'Теоретическая часть.docx', 'bigdata.gsheet']\n",
            "drive/MyDrive/certificates [] ['02-Синельникова Наталия.pdf', 'ABD66553600_diplom2.pdf', 'ABD66553600_diplom.pdf', 'Course_Certificate.pdf', 'SQL_certificate.pdf', 'python_certificate.pdf', 'Сертификат овладения компетенциями.pdf']\n",
            "drive/MyDrive/SQL [] ['Итоговая работа.sql', 'Итоговая работа.docx']\n",
            "drive/MyDrive/Модуль 7. Типографика [] []\n",
            "drive/.shortcut-targets-by-id [] []\n",
            "drive/.file-revisions-by-id [] []\n",
            "drive/.Trash-0 ['files', 'info'] []\n",
            "drive/.Trash-0/files [] []\n",
            "drive/.Trash-0/info [] []\n"
          ]
        }
      ]
    },
    {
      "cell_type": "code",
      "metadata": {
        "id": "y5EUy98tsN1z"
      },
      "source": [
        "new_dict = {}\n",
        "with open('drive/MyDrive/Colab Notebooks/netology_pyda27_hw/data/purchase_log.txt') as f :\n",
        "    # f.readline()\n",
        "    for line in f:\n",
        "        # print(line)\n",
        "        # break\n",
        "        dict_ = json.loads(line.strip())\n",
        "        if dict_['user_id'] not in new_dict:\n",
        "            new_dict[dict_['user_id']] = [dict_['category']]\n",
        "            # print(new_dict)\n",
        "            # break\n",
        "        else:\n",
        "            new_dict[dict_['user_id']] += [dict_['category']]\n"
      ],
      "execution_count": 39,
      "outputs": []
    },
    {
      "cell_type": "code",
      "metadata": {
        "id": "c0iM-sa_zyeu"
      },
      "source": [
        "with open('drive/MyDrive/Colab Notebooks/netology_pyda27_hw/data/visit_log.csv') as vis, open('drive/MyDrive/Colab Notebooks/netology_pyda27_hw/data/funnel.csv', 'w') as funnel :\n",
        "    for line in vis:\n",
        "        line = line.strip().split(',')\n",
        "      \n",
        "        if line[0] in new_dict:\n",
        "            \n",
        "            line += new_dict[line[0]]\n",
        "            funnel.write(f'{\",\".join(line)}\\n') \n"
      ],
      "execution_count": 42,
      "outputs": []
    },
    {
      "cell_type": "code",
      "metadata": {
        "colab": {
          "base_uri": "https://localhost:8080/"
        },
        "id": "fKoenngrOdnf",
        "outputId": "fb456d36-0352-46e0-fb96-16dec77bd40e"
      },
      "source": [
        "with open('drive/MyDrive/Colab Notebooks/netology_pyda27_hw/data/funnel.csv', 'r') as funnel:\n",
        "    pprint([next(funnel).strip() for x in range(10)])\n"
      ],
      "execution_count": 47,
      "outputs": [
        {
          "output_type": "stream",
          "name": "stdout",
          "text": [
            "['user_id,source,category',\n",
            " '1840e0b9d4,other,Продукты',\n",
            " '4e4f90fcfb,context,Электроника',\n",
            " 'afea8d72fc,other,Электроника',\n",
            " '2824221f38,email,Продукты',\n",
            " '373a6055fe,other,Бытовая техника',\n",
            " '9b2ab046f3,other,Электроника',\n",
            " '9f39d307c3,context,Электроника',\n",
            " '44edeffc91,context,Продукты',\n",
            " '704474fa2d,other,Продукты']\n"
          ]
        }
      ]
    }
  ]
}