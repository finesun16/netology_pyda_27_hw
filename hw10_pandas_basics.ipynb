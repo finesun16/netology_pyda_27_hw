{
  "nbformat": 4,
  "nbformat_minor": 0,
  "metadata": {
    "colab": {
      "name": "hw10_pandas_basics.ipynb",
      "provenance": [],
      "collapsed_sections": [],
      "mount_file_id": "1glLIRdy9oMp2KFRODeLOXkApttQ34M_K",
      "authorship_tag": "ABX9TyOjy4klhdkGVffHO+m+8DY4",
      "include_colab_link": true
    },
    "kernelspec": {
      "name": "python3",
      "display_name": "Python 3"
    },
    "language_info": {
      "name": "python"
    }
  },
  "cells": [
    {
      "cell_type": "markdown",
      "metadata": {
        "id": "view-in-github",
        "colab_type": "text"
      },
      "source": [
        "<a href=\"https://colab.research.google.com/github/finesun16/netology_pyda_27_hw/blob/master/hw10_pandas_basics.ipynb\" target=\"_parent\"><img src=\"https://colab.research.google.com/assets/colab-badge.svg\" alt=\"Open In Colab\"/></a>"
      ]
    },
    {
      "cell_type": "code",
      "metadata": {
        "id": "n3g5dqhbbk1H"
      },
      "source": [
        "import pandas as pd"
      ],
      "execution_count": 1,
      "outputs": []
    },
    {
      "cell_type": "markdown",
      "metadata": {
        "id": "YSEYbEmgbzFH"
      },
      "source": [
        "##Задание 1\n",
        "Скачайте с сайта https://grouplens.org/datasets/movielens/ датасет любого размера. Определите какому фильму было выставлено больше всего оценок 5.0."
      ]
    },
    {
      "cell_type": "code",
      "metadata": {
        "id": "l3udv8_tjqWa"
      },
      "source": [
        "from zipfile import ZipFile\n",
        "archive = 'drive/MyDrive/Colab Notebooks/netology_pyda27_hw/data/ml-25m.zip'\n",
        "zip_file = ZipFile(archive)\n",
        "\n",
        "# dfs = {text_file.filename: pd.read_csv(zip_file.open(text_file.filename))\n",
        "#        for text_file in zip_file.infolist()\n",
        "#        if text_file.filename.endswith('.csv')}\n",
        "# dfs"
      ],
      "execution_count": 20,
      "outputs": []
    },
    {
      "cell_type": "code",
      "metadata": {
        "id": "1WSSuOs8fLTV"
      },
      "source": [
        "import zipfile\n",
        "with zipfile.ZipFile(archive, 'r') as zip_file:\n",
        "    # zip_file.extract('ml-25m/ratings.csv',  '.'),\n",
        "    # zip_file.extract('ml-25m/movies.csv', '.')\n",
        "    zip_file.extractall('drive/MyDrive/Colab Notebooks/netology_pyda27_hw/data/')"
      ],
      "execution_count": 18,
      "outputs": []
    },
    {
      "cell_type": "code",
      "metadata": {
        "colab": {
          "base_uri": "https://localhost:8080/",
          "height": 204
        },
        "id": "hP04E3BrcX_3",
        "outputId": "ffb73c1f-add9-45f2-f03f-fb171e0a3df2"
      },
      "source": [
        "df = pd.read_csv('drive/MyDrive/Colab Notebooks/netology_pyda27_hw/data/ml-25m/ratings.csv')\n",
        "df.head()"
      ],
      "execution_count": 19,
      "outputs": [
        {
          "output_type": "execute_result",
          "data": {
            "text/html": [
              "<div>\n",
              "<style scoped>\n",
              "    .dataframe tbody tr th:only-of-type {\n",
              "        vertical-align: middle;\n",
              "    }\n",
              "\n",
              "    .dataframe tbody tr th {\n",
              "        vertical-align: top;\n",
              "    }\n",
              "\n",
              "    .dataframe thead th {\n",
              "        text-align: right;\n",
              "    }\n",
              "</style>\n",
              "<table border=\"1\" class=\"dataframe\">\n",
              "  <thead>\n",
              "    <tr style=\"text-align: right;\">\n",
              "      <th></th>\n",
              "      <th>userId</th>\n",
              "      <th>movieId</th>\n",
              "      <th>rating</th>\n",
              "      <th>timestamp</th>\n",
              "    </tr>\n",
              "  </thead>\n",
              "  <tbody>\n",
              "    <tr>\n",
              "      <th>0</th>\n",
              "      <td>1</td>\n",
              "      <td>296</td>\n",
              "      <td>5.0</td>\n",
              "      <td>1147880044</td>\n",
              "    </tr>\n",
              "    <tr>\n",
              "      <th>1</th>\n",
              "      <td>1</td>\n",
              "      <td>306</td>\n",
              "      <td>3.5</td>\n",
              "      <td>1147868817</td>\n",
              "    </tr>\n",
              "    <tr>\n",
              "      <th>2</th>\n",
              "      <td>1</td>\n",
              "      <td>307</td>\n",
              "      <td>5.0</td>\n",
              "      <td>1147868828</td>\n",
              "    </tr>\n",
              "    <tr>\n",
              "      <th>3</th>\n",
              "      <td>1</td>\n",
              "      <td>665</td>\n",
              "      <td>5.0</td>\n",
              "      <td>1147878820</td>\n",
              "    </tr>\n",
              "    <tr>\n",
              "      <th>4</th>\n",
              "      <td>1</td>\n",
              "      <td>899</td>\n",
              "      <td>3.5</td>\n",
              "      <td>1147868510</td>\n",
              "    </tr>\n",
              "  </tbody>\n",
              "</table>\n",
              "</div>"
            ],
            "text/plain": [
              "   userId  movieId  rating   timestamp\n",
              "0       1      296     5.0  1147880044\n",
              "1       1      306     3.5  1147868817\n",
              "2       1      307     5.0  1147868828\n",
              "3       1      665     5.0  1147878820\n",
              "4       1      899     3.5  1147868510"
            ]
          },
          "metadata": {},
          "execution_count": 19
        }
      ]
    },
    {
      "cell_type": "code",
      "metadata": {
        "colab": {
          "base_uri": "https://localhost:8080/"
        },
        "id": "Fihl7jf3mOPP",
        "outputId": "2ffb4188-27ef-401e-f95b-adec81107cbc"
      },
      "source": [
        "df.info()"
      ],
      "execution_count": 43,
      "outputs": [
        {
          "output_type": "stream",
          "name": "stdout",
          "text": [
            "<class 'pandas.core.frame.DataFrame'>\n",
            "RangeIndex: 25000095 entries, 0 to 25000094\n",
            "Data columns (total 4 columns):\n",
            " #   Column     Dtype  \n",
            "---  ------     -----  \n",
            " 0   userId     int64  \n",
            " 1   movieId    int64  \n",
            " 2   rating     float64\n",
            " 3   timestamp  int64  \n",
            "dtypes: float64(1), int64(3)\n",
            "memory usage: 762.9 MB\n"
          ]
        }
      ]
    },
    {
      "cell_type": "code",
      "metadata": {
        "colab": {
          "base_uri": "https://localhost:8080/",
          "height": 142
        },
        "id": "D4_nwpiznaJx",
        "outputId": "3eda68b8-ee02-45f3-abf8-ad51f751227b"
      },
      "source": [
        "movies = pd.read_csv('drive/MyDrive/Colab Notebooks/netology_pyda27_hw/data/ml-25m/movies.csv')\n",
        "movies.head(3)"
      ],
      "execution_count": 39,
      "outputs": [
        {
          "output_type": "execute_result",
          "data": {
            "text/html": [
              "<div>\n",
              "<style scoped>\n",
              "    .dataframe tbody tr th:only-of-type {\n",
              "        vertical-align: middle;\n",
              "    }\n",
              "\n",
              "    .dataframe tbody tr th {\n",
              "        vertical-align: top;\n",
              "    }\n",
              "\n",
              "    .dataframe thead th {\n",
              "        text-align: right;\n",
              "    }\n",
              "</style>\n",
              "<table border=\"1\" class=\"dataframe\">\n",
              "  <thead>\n",
              "    <tr style=\"text-align: right;\">\n",
              "      <th></th>\n",
              "      <th>movieId</th>\n",
              "      <th>title</th>\n",
              "      <th>genres</th>\n",
              "    </tr>\n",
              "  </thead>\n",
              "  <tbody>\n",
              "    <tr>\n",
              "      <th>0</th>\n",
              "      <td>1</td>\n",
              "      <td>Toy Story (1995)</td>\n",
              "      <td>Adventure|Animation|Children|Comedy|Fantasy</td>\n",
              "    </tr>\n",
              "    <tr>\n",
              "      <th>1</th>\n",
              "      <td>2</td>\n",
              "      <td>Jumanji (1995)</td>\n",
              "      <td>Adventure|Children|Fantasy</td>\n",
              "    </tr>\n",
              "    <tr>\n",
              "      <th>2</th>\n",
              "      <td>3</td>\n",
              "      <td>Grumpier Old Men (1995)</td>\n",
              "      <td>Comedy|Romance</td>\n",
              "    </tr>\n",
              "  </tbody>\n",
              "</table>\n",
              "</div>"
            ],
            "text/plain": [
              "   movieId  ...                                       genres\n",
              "0        1  ...  Adventure|Animation|Children|Comedy|Fantasy\n",
              "1        2  ...                   Adventure|Children|Fantasy\n",
              "2        3  ...                               Comedy|Romance\n",
              "\n",
              "[3 rows x 3 columns]"
            ]
          },
          "metadata": {},
          "execution_count": 39
        }
      ]
    },
    {
      "cell_type": "code",
      "metadata": {
        "colab": {
          "base_uri": "https://localhost:8080/",
          "height": 204
        },
        "id": "YaRC31IXpj5H",
        "outputId": "edbf8bbc-da80-45e3-f82d-448f1fc17f34"
      },
      "source": [
        "df_new = df.merge(movies, on='movieId', how='left')\n",
        "df_new.head(5)"
      ],
      "execution_count": 45,
      "outputs": [
        {
          "output_type": "execute_result",
          "data": {
            "text/html": [
              "<div>\n",
              "<style scoped>\n",
              "    .dataframe tbody tr th:only-of-type {\n",
              "        vertical-align: middle;\n",
              "    }\n",
              "\n",
              "    .dataframe tbody tr th {\n",
              "        vertical-align: top;\n",
              "    }\n",
              "\n",
              "    .dataframe thead th {\n",
              "        text-align: right;\n",
              "    }\n",
              "</style>\n",
              "<table border=\"1\" class=\"dataframe\">\n",
              "  <thead>\n",
              "    <tr style=\"text-align: right;\">\n",
              "      <th></th>\n",
              "      <th>userId</th>\n",
              "      <th>movieId</th>\n",
              "      <th>rating</th>\n",
              "      <th>timestamp</th>\n",
              "      <th>title</th>\n",
              "      <th>genres</th>\n",
              "    </tr>\n",
              "  </thead>\n",
              "  <tbody>\n",
              "    <tr>\n",
              "      <th>0</th>\n",
              "      <td>1</td>\n",
              "      <td>296</td>\n",
              "      <td>5.0</td>\n",
              "      <td>1147880044</td>\n",
              "      <td>Pulp Fiction (1994)</td>\n",
              "      <td>Comedy|Crime|Drama|Thriller</td>\n",
              "    </tr>\n",
              "    <tr>\n",
              "      <th>1</th>\n",
              "      <td>1</td>\n",
              "      <td>306</td>\n",
              "      <td>3.5</td>\n",
              "      <td>1147868817</td>\n",
              "      <td>Three Colors: Red (Trois couleurs: Rouge) (1994)</td>\n",
              "      <td>Drama</td>\n",
              "    </tr>\n",
              "    <tr>\n",
              "      <th>2</th>\n",
              "      <td>1</td>\n",
              "      <td>307</td>\n",
              "      <td>5.0</td>\n",
              "      <td>1147868828</td>\n",
              "      <td>Three Colors: Blue (Trois couleurs: Bleu) (1993)</td>\n",
              "      <td>Drama</td>\n",
              "    </tr>\n",
              "    <tr>\n",
              "      <th>3</th>\n",
              "      <td>1</td>\n",
              "      <td>665</td>\n",
              "      <td>5.0</td>\n",
              "      <td>1147878820</td>\n",
              "      <td>Underground (1995)</td>\n",
              "      <td>Comedy|Drama|War</td>\n",
              "    </tr>\n",
              "    <tr>\n",
              "      <th>4</th>\n",
              "      <td>1</td>\n",
              "      <td>899</td>\n",
              "      <td>3.5</td>\n",
              "      <td>1147868510</td>\n",
              "      <td>Singin' in the Rain (1952)</td>\n",
              "      <td>Comedy|Musical|Romance</td>\n",
              "    </tr>\n",
              "  </tbody>\n",
              "</table>\n",
              "</div>"
            ],
            "text/plain": [
              "   userId  ...                       genres\n",
              "0       1  ...  Comedy|Crime|Drama|Thriller\n",
              "1       1  ...                        Drama\n",
              "2       1  ...                        Drama\n",
              "3       1  ...             Comedy|Drama|War\n",
              "4       1  ...       Comedy|Musical|Romance\n",
              "\n",
              "[5 rows x 6 columns]"
            ]
          },
          "metadata": {},
          "execution_count": 45
        }
      ]
    },
    {
      "cell_type": "code",
      "metadata": {
        "colab": {
          "base_uri": "https://localhost:8080/",
          "height": 35
        },
        "id": "acP0vZELl9Hl",
        "outputId": "117b109e-7b7d-4709-91b4-9a56556da5a3"
      },
      "source": [
        "df_new[df_new.rating == 5.0].title.value_counts().index.values[0]"
      ],
      "execution_count": 47,
      "outputs": [
        {
          "output_type": "execute_result",
          "data": {
            "application/vnd.google.colaboratory.intrinsic+json": {
              "type": "string"
            },
            "text/plain": [
              "'Shawshank Redemption, The (1994)'"
            ]
          },
          "metadata": {},
          "execution_count": 47
        }
      ]
    },
    {
      "cell_type": "code",
      "metadata": {
        "colab": {
          "base_uri": "https://localhost:8080/"
        },
        "id": "RsprA8Ujr9C-",
        "outputId": "91211580-76c4-4e4b-fea2-4c49f848e9e0"
      },
      "source": [
        "df_new[df_new.rating == 5.0].title.value_counts().values[0]"
      ],
      "execution_count": 48,
      "outputs": [
        {
          "output_type": "execute_result",
          "data": {
            "text/plain": [
              "39553"
            ]
          },
          "metadata": {},
          "execution_count": 48
        }
      ]
    },
    {
      "cell_type": "code",
      "metadata": {
        "colab": {
          "base_uri": "https://localhost:8080/"
        },
        "id": "hTnoIoJyn1qR",
        "outputId": "03fe482f-54b4-4580-b034-41afb9e2d331"
      },
      "source": [
        "print(f'Фильму {df_new[df_new.rating == 5.0].title.value_counts().index.values[0]} поставили наибольшее количество оценок {df_new[df_new.rating == 5.0].title.value_counts().values[0]}')"
      ],
      "execution_count": 49,
      "outputs": [
        {
          "output_type": "stream",
          "name": "stdout",
          "text": [
            "Фильму Shawshank Redemption, The (1994) поставили наибольшее количество оценок 39553\n"
          ]
        }
      ]
    },
    {
      "cell_type": "markdown",
      "metadata": {
        "id": "JaIx56aqsV3x"
      },
      "source": [
        "## Задание 2\n",
        "По данным файла power.csv посчитайте суммарное потребление стран Прибалтики (Латвия, Литва и Эстония) категорий 4, 12 и 21 за период с 2005 по 2010 года. Не учитывайте в расчетах отрицательные значения quantity."
      ]
    },
    {
      "cell_type": "code",
      "metadata": {
        "colab": {
          "base_uri": "https://localhost:8080/",
          "height": 204
        },
        "id": "PvVtoRU5siiy",
        "outputId": "5487d9ec-b0ce-425e-84ef-f44df2f33971"
      },
      "source": [
        "power = pd.read_csv('/content/drive/MyDrive/Colab Notebooks/netology_27_pyda/Лекции/09_pandas_basics/power.csv')\n",
        "power.head(5)"
      ],
      "execution_count": 51,
      "outputs": [
        {
          "output_type": "execute_result",
          "data": {
            "text/html": [
              "<div>\n",
              "<style scoped>\n",
              "    .dataframe tbody tr th:only-of-type {\n",
              "        vertical-align: middle;\n",
              "    }\n",
              "\n",
              "    .dataframe tbody tr th {\n",
              "        vertical-align: top;\n",
              "    }\n",
              "\n",
              "    .dataframe thead th {\n",
              "        text-align: right;\n",
              "    }\n",
              "</style>\n",
              "<table border=\"1\" class=\"dataframe\">\n",
              "  <thead>\n",
              "    <tr style=\"text-align: right;\">\n",
              "      <th></th>\n",
              "      <th>country</th>\n",
              "      <th>year</th>\n",
              "      <th>quantity</th>\n",
              "      <th>category</th>\n",
              "    </tr>\n",
              "  </thead>\n",
              "  <tbody>\n",
              "    <tr>\n",
              "      <th>0</th>\n",
              "      <td>Austria</td>\n",
              "      <td>1996</td>\n",
              "      <td>5.0</td>\n",
              "      <td>1</td>\n",
              "    </tr>\n",
              "    <tr>\n",
              "      <th>1</th>\n",
              "      <td>Austria</td>\n",
              "      <td>1995</td>\n",
              "      <td>17.0</td>\n",
              "      <td>1</td>\n",
              "    </tr>\n",
              "    <tr>\n",
              "      <th>2</th>\n",
              "      <td>Belgium</td>\n",
              "      <td>2014</td>\n",
              "      <td>0.0</td>\n",
              "      <td>1</td>\n",
              "    </tr>\n",
              "    <tr>\n",
              "      <th>3</th>\n",
              "      <td>Belgium</td>\n",
              "      <td>2013</td>\n",
              "      <td>0.0</td>\n",
              "      <td>1</td>\n",
              "    </tr>\n",
              "    <tr>\n",
              "      <th>4</th>\n",
              "      <td>Belgium</td>\n",
              "      <td>2012</td>\n",
              "      <td>35.0</td>\n",
              "      <td>1</td>\n",
              "    </tr>\n",
              "  </tbody>\n",
              "</table>\n",
              "</div>"
            ],
            "text/plain": [
              "   country  year  quantity  category\n",
              "0  Austria  1996       5.0         1\n",
              "1  Austria  1995      17.0         1\n",
              "2  Belgium  2014       0.0         1\n",
              "3  Belgium  2013       0.0         1\n",
              "4  Belgium  2012      35.0         1"
            ]
          },
          "metadata": {},
          "execution_count": 51
        }
      ]
    },
    {
      "cell_type": "code",
      "metadata": {
        "colab": {
          "base_uri": "https://localhost:8080/"
        },
        "id": "n71A0VQNuB4D",
        "outputId": "3ccc9094-14ba-4c44-e549-6ed06b163e4a"
      },
      "source": [
        "power[(power.country.isin(['Estonia', 'Latvia', 'Lithuania'])) \\\n",
        "      & power.category.isin([4,12,21]) \\\n",
        "      & (power.year >= 2005) & (power.year <=  2010) \\\n",
        "      & (power.quantity > 0)].quantity.sum()"
      ],
      "execution_count": 63,
      "outputs": [
        {
          "output_type": "execute_result",
          "data": {
            "text/plain": [
              "240580.0"
            ]
          },
          "metadata": {},
          "execution_count": 63
        }
      ]
    },
    {
      "cell_type": "markdown",
      "metadata": {
        "id": "-lI7AYdSxQFk"
      },
      "source": [
        "## Задание 3\n",
        "Выберите страницу любого сайта с табличными данными. Импортируйте таблицы в pandas dataframe.\n",
        "\n",
        "#### Примеры страниц \n",
        "https://fortrader.org/quotes\n",
        "\n",
        "https://www.finanz.ru/valyuty/v-realnom-vremeni\n",
        "\n",
        "(необязательно брать именно эти):"
      ]
    },
    {
      "cell_type": "code",
      "metadata": {
        "colab": {
          "base_uri": "https://localhost:8080/",
          "height": 266
        },
        "id": "iyz0ncUQxvMw",
        "outputId": "ca93c2ba-756e-4616-ca05-732695c2da90"
      },
      "source": [
        "df_html = pd.read_html('https://fortrader.org/quotes')\n",
        "df_html[1]"
      ],
      "execution_count": 67,
      "outputs": [
        {
          "output_type": "execute_result",
          "data": {
            "text/html": [
              "<div>\n",
              "<style scoped>\n",
              "    .dataframe tbody tr th:only-of-type {\n",
              "        vertical-align: middle;\n",
              "    }\n",
              "\n",
              "    .dataframe tbody tr th {\n",
              "        vertical-align: top;\n",
              "    }\n",
              "\n",
              "    .dataframe thead th {\n",
              "        text-align: right;\n",
              "    }\n",
              "</style>\n",
              "<table border=\"1\" class=\"dataframe\">\n",
              "  <thead>\n",
              "    <tr style=\"text-align: right;\">\n",
              "      <th></th>\n",
              "      <th>Название</th>\n",
              "      <th>Цена</th>\n",
              "      <th>Изменение</th>\n",
              "      <th>Изменение(%)</th>\n",
              "      <th>Обновлено</th>\n",
              "    </tr>\n",
              "  </thead>\n",
              "  <tbody>\n",
              "    <tr>\n",
              "      <th>0</th>\n",
              "      <td>Нефть Brent Курс нефти сегодня</td>\n",
              "      <td>70.22</td>\n",
              "      <td>1.24</td>\n",
              "      <td>1.80</td>\n",
              "      <td>NaN</td>\n",
              "    </tr>\n",
              "    <tr>\n",
              "      <th>1</th>\n",
              "      <td>Нефть WTI Цены на нефть WTI</td>\n",
              "      <td>67.03</td>\n",
              "      <td>0.76</td>\n",
              "      <td>1.15</td>\n",
              "      <td>NaN</td>\n",
              "    </tr>\n",
              "    <tr>\n",
              "      <th>2</th>\n",
              "      <td>Природный газ Цена на природный газ</td>\n",
              "      <td>4.10</td>\n",
              "      <td>-0.21</td>\n",
              "      <td>-4.85</td>\n",
              "      <td>NaN</td>\n",
              "    </tr>\n",
              "    <tr>\n",
              "      <th>3</th>\n",
              "      <td>Кофе</td>\n",
              "      <td>237.50</td>\n",
              "      <td>5.25</td>\n",
              "      <td>2.26</td>\n",
              "      <td>NaN</td>\n",
              "    </tr>\n",
              "    <tr>\n",
              "      <th>4</th>\n",
              "      <td>Кукуруза</td>\n",
              "      <td>577.00</td>\n",
              "      <td>6.00</td>\n",
              "      <td>1.05</td>\n",
              "      <td>NaN</td>\n",
              "    </tr>\n",
              "    <tr>\n",
              "      <th>5</th>\n",
              "      <td>Соя</td>\n",
              "      <td>348.20</td>\n",
              "      <td>-1.50</td>\n",
              "      <td>-0.43</td>\n",
              "      <td>NaN</td>\n",
              "    </tr>\n",
              "    <tr>\n",
              "      <th>6</th>\n",
              "      <td>Хлопок</td>\n",
              "      <td>103.70</td>\n",
              "      <td>-0.49</td>\n",
              "      <td>-0.47</td>\n",
              "      <td>NaN</td>\n",
              "    </tr>\n",
              "  </tbody>\n",
              "</table>\n",
              "</div>"
            ],
            "text/plain": [
              "                              Название    Цена  ...  Изменение(%)  Обновлено\n",
              "0       Нефть Brent Курс нефти сегодня   70.22  ...          1.80        NaN\n",
              "1          Нефть WTI Цены на нефть WTI   67.03  ...          1.15        NaN\n",
              "2  Природный газ Цена на природный газ    4.10  ...         -4.85        NaN\n",
              "3                                 Кофе  237.50  ...          2.26        NaN\n",
              "4                             Кукуруза  577.00  ...          1.05        NaN\n",
              "5                                  Соя  348.20  ...         -0.43        NaN\n",
              "6                               Хлопок  103.70  ...         -0.47        NaN\n",
              "\n",
              "[7 rows x 5 columns]"
            ]
          },
          "metadata": {},
          "execution_count": 67
        }
      ]
    },
    {
      "cell_type": "code",
      "metadata": {
        "colab": {
          "base_uri": "https://localhost:8080/",
          "height": 1000
        },
        "id": "PlV43LaYx5dt",
        "outputId": "83da09d6-3908-48d0-8c62-6040701c9428"
      },
      "source": [
        "df_html[3]"
      ],
      "execution_count": 68,
      "outputs": [
        {
          "output_type": "execute_result",
          "data": {
            "text/html": [
              "<div>\n",
              "<style scoped>\n",
              "    .dataframe tbody tr th:only-of-type {\n",
              "        vertical-align: middle;\n",
              "    }\n",
              "\n",
              "    .dataframe tbody tr th {\n",
              "        vertical-align: top;\n",
              "    }\n",
              "\n",
              "    .dataframe thead th {\n",
              "        text-align: right;\n",
              "    }\n",
              "</style>\n",
              "<table border=\"1\" class=\"dataframe\">\n",
              "  <thead>\n",
              "    <tr style=\"text-align: right;\">\n",
              "      <th></th>\n",
              "      <th>Название</th>\n",
              "      <th>Цена</th>\n",
              "      <th>Изменение</th>\n",
              "      <th>Изменение(%)</th>\n",
              "      <th>Обновлено</th>\n",
              "    </tr>\n",
              "  </thead>\n",
              "  <tbody>\n",
              "    <tr>\n",
              "      <th>0</th>\n",
              "      <td>ВТБ Акции ВТБ</td>\n",
              "      <td>0.048800</td>\n",
              "      <td>0.001220</td>\n",
              "      <td>2.564103</td>\n",
              "      <td>NaN</td>\n",
              "    </tr>\n",
              "    <tr>\n",
              "      <th>1</th>\n",
              "      <td>Газпром Акции газпрома</td>\n",
              "      <td>350.37</td>\n",
              "      <td>5.160000</td>\n",
              "      <td>1.490000</td>\n",
              "      <td>NaN</td>\n",
              "    </tr>\n",
              "    <tr>\n",
              "      <th>2</th>\n",
              "      <td>Лукойл Акции Лукойл</td>\n",
              "      <td>6 722.5</td>\n",
              "      <td>146.000000</td>\n",
              "      <td>2.200000</td>\n",
              "      <td>NaN</td>\n",
              "    </tr>\n",
              "    <tr>\n",
              "      <th>3</th>\n",
              "      <td>Роснефть Акции Роснефти</td>\n",
              "      <td>582.05</td>\n",
              "      <td>12.100000</td>\n",
              "      <td>2.120000</td>\n",
              "      <td>NaN</td>\n",
              "    </tr>\n",
              "    <tr>\n",
              "      <th>4</th>\n",
              "      <td>Сбербанк Акции Сбербанка</td>\n",
              "      <td>326.38</td>\n",
              "      <td>1.980000</td>\n",
              "      <td>0.610000</td>\n",
              "      <td>NaN</td>\n",
              "    </tr>\n",
              "    <tr>\n",
              "      <th>5</th>\n",
              "      <td>Сургутнефтегаз Акции Сургутнефтегаза</td>\n",
              "      <td>38.830</td>\n",
              "      <td>1.810000</td>\n",
              "      <td>4.889000</td>\n",
              "      <td>NaN</td>\n",
              "    </tr>\n",
              "    <tr>\n",
              "      <th>6</th>\n",
              "      <td>Норникель Акции Норникель</td>\n",
              "      <td>22 100</td>\n",
              "      <td>148.000000</td>\n",
              "      <td>1.000000</td>\n",
              "      <td>NaN</td>\n",
              "    </tr>\n",
              "    <tr>\n",
              "      <th>7</th>\n",
              "      <td>Аэрофлот Акции Аерофлота</td>\n",
              "      <td>62.88</td>\n",
              "      <td>0.880000</td>\n",
              "      <td>1.420000</td>\n",
              "      <td>NaN</td>\n",
              "    </tr>\n",
              "    <tr>\n",
              "      <th>8</th>\n",
              "      <td>Северсталь Акции Северсталь</td>\n",
              "      <td>1 581.60</td>\n",
              "      <td>18.600000</td>\n",
              "      <td>1.190000</td>\n",
              "      <td>NaN</td>\n",
              "    </tr>\n",
              "    <tr>\n",
              "      <th>9</th>\n",
              "      <td>Транснефть Акции Транснефть</td>\n",
              "      <td>143 500</td>\n",
              "      <td>300.000000</td>\n",
              "      <td>0.000000</td>\n",
              "      <td>NaN</td>\n",
              "    </tr>\n",
              "    <tr>\n",
              "      <th>10</th>\n",
              "      <td>Ростелеком Курс акций ростелекома</td>\n",
              "      <td>87.19</td>\n",
              "      <td>0.870000</td>\n",
              "      <td>1.010000</td>\n",
              "      <td>NaN</td>\n",
              "    </tr>\n",
              "    <tr>\n",
              "      <th>11</th>\n",
              "      <td>РУСАЛ Акции РУСАЛ (RUAL)</td>\n",
              "      <td>69.530</td>\n",
              "      <td>0.225000</td>\n",
              "      <td>0.325000</td>\n",
              "      <td>NaN</td>\n",
              "    </tr>\n",
              "    <tr>\n",
              "      <th>12</th>\n",
              "      <td>Детский мир iDreamSky Technology Limited</td>\n",
              "      <td>138.40</td>\n",
              "      <td>0.920000</td>\n",
              "      <td>0.670000</td>\n",
              "      <td>NaN</td>\n",
              "    </tr>\n",
              "    <tr>\n",
              "      <th>13</th>\n",
              "      <td>Петропавловск Акции Петропавловск</td>\n",
              "      <td>20.88</td>\n",
              "      <td>-0.180000</td>\n",
              "      <td>-0.850000</td>\n",
              "      <td>NaN</td>\n",
              "    </tr>\n",
              "    <tr>\n",
              "      <th>14</th>\n",
              "      <td>Алроса Акции АЛРОСА (ALRS)</td>\n",
              "      <td>130.010</td>\n",
              "      <td>1.180000</td>\n",
              "      <td>0.916000</td>\n",
              "      <td>NaN</td>\n",
              "    </tr>\n",
              "    <tr>\n",
              "      <th>15</th>\n",
              "      <td>Магнит Акции Магнит (MGNT)</td>\n",
              "      <td>5 775.0</td>\n",
              "      <td>7.000000</td>\n",
              "      <td>0.100000</td>\n",
              "      <td>NaN</td>\n",
              "    </tr>\n",
              "    <tr>\n",
              "      <th>16</th>\n",
              "      <td>НМЛК Акции НЛМК (NLMK)</td>\n",
              "      <td>217.760</td>\n",
              "      <td>1.540000</td>\n",
              "      <td>0.712000</td>\n",
              "      <td>NaN</td>\n",
              "    </tr>\n",
              "    <tr>\n",
              "      <th>17</th>\n",
              "      <td>М.видео Акции М.видео (MVID)</td>\n",
              "      <td>563.60</td>\n",
              "      <td>3.600000</td>\n",
              "      <td>0.640000</td>\n",
              "      <td>NaN</td>\n",
              "    </tr>\n",
              "    <tr>\n",
              "      <th>18</th>\n",
              "      <td>Газпром нефть Акции \"Газпром нефть\" (SIBN)</td>\n",
              "      <td>518.20</td>\n",
              "      <td>2.750000</td>\n",
              "      <td>0.530000</td>\n",
              "      <td>NaN</td>\n",
              "    </tr>\n",
              "    <tr>\n",
              "      <th>19</th>\n",
              "      <td>НМТП Акции НМТП (NMTP)</td>\n",
              "      <td>7.2000</td>\n",
              "      <td>0.025000</td>\n",
              "      <td>0.348400</td>\n",
              "      <td>NaN</td>\n",
              "    </tr>\n",
              "    <tr>\n",
              "      <th>20</th>\n",
              "      <td>Полиметалл Акции Полиметалл (POLY)</td>\n",
              "      <td>1 332.40</td>\n",
              "      <td>-8.100000</td>\n",
              "      <td>-0.600000</td>\n",
              "      <td>NaN</td>\n",
              "    </tr>\n",
              "    <tr>\n",
              "      <th>21</th>\n",
              "      <td>Полюс Золото Акции Полюс Золото (PLZL)</td>\n",
              "      <td>13 746.5</td>\n",
              "      <td>-213.500000</td>\n",
              "      <td>-1.500000</td>\n",
              "      <td>NaN</td>\n",
              "    </tr>\n",
              "    <tr>\n",
              "      <th>22</th>\n",
              "      <td>НОВАТЭК Акции НОВАТЭК (NVTK)</td>\n",
              "      <td>1 722.40</td>\n",
              "      <td>43.600000</td>\n",
              "      <td>2.600000</td>\n",
              "      <td>NaN</td>\n",
              "    </tr>\n",
              "    <tr>\n",
              "      <th>23</th>\n",
              "      <td>РусГидро Акции РусГидро (HYDR)</td>\n",
              "      <td>0.7602</td>\n",
              "      <td>0.014000</td>\n",
              "      <td>1.876200</td>\n",
              "      <td>NaN</td>\n",
              "    </tr>\n",
              "    <tr>\n",
              "      <th>24</th>\n",
              "      <td>Татнефть Акции Татнефть (TATN)</td>\n",
              "      <td>500.20</td>\n",
              "      <td>22.300000</td>\n",
              "      <td>4.670000</td>\n",
              "      <td>NaN</td>\n",
              "    </tr>\n",
              "    <tr>\n",
              "      <th>25</th>\n",
              "      <td>АФК Система Акции АФК \"Система\" (AFKS)</td>\n",
              "      <td>25.020</td>\n",
              "      <td>-0.010000</td>\n",
              "      <td>-0.040000</td>\n",
              "      <td>NaN</td>\n",
              "    </tr>\n",
              "    <tr>\n",
              "      <th>26</th>\n",
              "      <td>МТС Акции МТС</td>\n",
              "      <td>297.80</td>\n",
              "      <td>1.350000</td>\n",
              "      <td>0.460000</td>\n",
              "      <td>NaN</td>\n",
              "    </tr>\n",
              "    <tr>\n",
              "      <th>27</th>\n",
              "      <td>Башнефть Акции Башнефть (BANE)</td>\n",
              "      <td>1 409.0</td>\n",
              "      <td>4.500000</td>\n",
              "      <td>0.300000</td>\n",
              "      <td>NaN</td>\n",
              "    </tr>\n",
              "    <tr>\n",
              "      <th>28</th>\n",
              "      <td>Яндекс Акции Яндекс (YNDX)</td>\n",
              "      <td>5 248.2</td>\n",
              "      <td>-82.600000</td>\n",
              "      <td>-1.500000</td>\n",
              "      <td>NaN</td>\n",
              "    </tr>\n",
              "    <tr>\n",
              "      <th>29</th>\n",
              "      <td>X5 Retail Group Акции X5 Retail Group (FIVE)</td>\n",
              "      <td>2 131.00</td>\n",
              "      <td>15.000000</td>\n",
              "      <td>0.710000</td>\n",
              "      <td>NaN</td>\n",
              "    </tr>\n",
              "    <tr>\n",
              "      <th>30</th>\n",
              "      <td>ФСК ЕЭС Акции ФСК ЕЭС (FEES)</td>\n",
              "      <td>0.17150</td>\n",
              "      <td>0.004800</td>\n",
              "      <td>2.879420</td>\n",
              "      <td>NaN</td>\n",
              "    </tr>\n",
              "    <tr>\n",
              "      <th>31</th>\n",
              "      <td>Мечел Акции Мечел (MTLR)</td>\n",
              "      <td>112.26</td>\n",
              "      <td>-0.910000</td>\n",
              "      <td>-0.800000</td>\n",
              "      <td>NaN</td>\n",
              "    </tr>\n",
              "    <tr>\n",
              "      <th>32</th>\n",
              "      <td>МосБиржа Акции МосБиржа (MOEX)</td>\n",
              "      <td>160.68</td>\n",
              "      <td>3.470000</td>\n",
              "      <td>2.210000</td>\n",
              "      <td>NaN</td>\n",
              "    </tr>\n",
              "    <tr>\n",
              "      <th>33</th>\n",
              "      <td>Интер РАО Акции Интер РАО (IRAO)</td>\n",
              "      <td>4.49</td>\n",
              "      <td>0.100000</td>\n",
              "      <td>2.310000</td>\n",
              "      <td>NaN</td>\n",
              "    </tr>\n",
              "    <tr>\n",
              "      <th>34</th>\n",
              "      <td>Mail.ru Акции Mail.ru (MAIL, ДР)</td>\n",
              "      <td>1 345.00</td>\n",
              "      <td>80.200000</td>\n",
              "      <td>6.340000</td>\n",
              "      <td>NaN</td>\n",
              "    </tr>\n",
              "    <tr>\n",
              "      <th>35</th>\n",
              "      <td>Киви Акции Киви (QIWI)</td>\n",
              "      <td>632.0</td>\n",
              "      <td>-2.500000</td>\n",
              "      <td>-0.400000</td>\n",
              "      <td>NaN</td>\n",
              "    </tr>\n",
              "    <tr>\n",
              "      <th>36</th>\n",
              "      <td>Лента Акции Лента (LNTA, ДР)</td>\n",
              "      <td>201.90</td>\n",
              "      <td>0.000000</td>\n",
              "      <td>0.000000</td>\n",
              "      <td>NaN</td>\n",
              "    </tr>\n",
              "    <tr>\n",
              "      <th>37</th>\n",
              "      <td>Тинькофф Акции Тинькофф (TCSG, др)</td>\n",
              "      <td>7 232.00</td>\n",
              "      <td>-126.000000</td>\n",
              "      <td>-1.710000</td>\n",
              "      <td>NaN</td>\n",
              "    </tr>\n",
              "    <tr>\n",
              "      <th>38</th>\n",
              "      <td>TGKA.MM</td>\n",
              "      <td>0.010154</td>\n",
              "      <td>-0.000224</td>\n",
              "      <td>-2.158412</td>\n",
              "      <td>NaN</td>\n",
              "    </tr>\n",
              "    <tr>\n",
              "      <th>39</th>\n",
              "      <td>Озон Акции Озон (Ozon)</td>\n",
              "      <td>2 891.50</td>\n",
              "      <td>-112.000000</td>\n",
              "      <td>-3.730000</td>\n",
              "      <td>NaN</td>\n",
              "    </tr>\n",
              "  </tbody>\n",
              "</table>\n",
              "</div>"
            ],
            "text/plain": [
              "                                        Название  ... Обновлено\n",
              "0                                  ВТБ Акции ВТБ  ...       NaN\n",
              "1                         Газпром Акции газпрома  ...       NaN\n",
              "2                            Лукойл Акции Лукойл  ...       NaN\n",
              "3                        Роснефть Акции Роснефти  ...       NaN\n",
              "4                       Сбербанк Акции Сбербанка  ...       NaN\n",
              "5           Сургутнефтегаз Акции Сургутнефтегаза  ...       NaN\n",
              "6                      Норникель Акции Норникель  ...       NaN\n",
              "7                       Аэрофлот Акции Аерофлота  ...       NaN\n",
              "8                    Северсталь Акции Северсталь  ...       NaN\n",
              "9                    Транснефть Акции Транснефть  ...       NaN\n",
              "10             Ростелеком Курс акций ростелекома  ...       NaN\n",
              "11                      РУСАЛ Акции РУСАЛ (RUAL)  ...       NaN\n",
              "12      Детский мир iDreamSky Technology Limited  ...       NaN\n",
              "13             Петропавловск Акции Петропавловск  ...       NaN\n",
              "14                    Алроса Акции АЛРОСА (ALRS)  ...       NaN\n",
              "15                    Магнит Акции Магнит (MGNT)  ...       NaN\n",
              "16                        НМЛК Акции НЛМК (NLMK)  ...       NaN\n",
              "17                  М.видео Акции М.видео (MVID)  ...       NaN\n",
              "18    Газпром нефть Акции \"Газпром нефть\" (SIBN)  ...       NaN\n",
              "19                        НМТП Акции НМТП (NMTP)  ...       NaN\n",
              "20            Полиметалл Акции Полиметалл (POLY)  ...       NaN\n",
              "21        Полюс Золото Акции Полюс Золото (PLZL)  ...       NaN\n",
              "22                  НОВАТЭК Акции НОВАТЭК (NVTK)  ...       NaN\n",
              "23                РусГидро Акции РусГидро (HYDR)  ...       NaN\n",
              "24                Татнефть Акции Татнефть (TATN)  ...       NaN\n",
              "25        АФК Система Акции АФК \"Система\" (AFKS)  ...       NaN\n",
              "26                                 МТС Акции МТС  ...       NaN\n",
              "27                Башнефть Акции Башнефть (BANE)  ...       NaN\n",
              "28                    Яндекс Акции Яндекс (YNDX)  ...       NaN\n",
              "29  X5 Retail Group Акции X5 Retail Group (FIVE)  ...       NaN\n",
              "30                  ФСК ЕЭС Акции ФСК ЕЭС (FEES)  ...       NaN\n",
              "31                      Мечел Акции Мечел (MTLR)  ...       NaN\n",
              "32                МосБиржа Акции МосБиржа (MOEX)  ...       NaN\n",
              "33              Интер РАО Акции Интер РАО (IRAO)  ...       NaN\n",
              "34              Mail.ru Акции Mail.ru (MAIL, ДР)  ...       NaN\n",
              "35                        Киви Акции Киви (QIWI)  ...       NaN\n",
              "36                  Лента Акции Лента (LNTA, ДР)  ...       NaN\n",
              "37            Тинькофф Акции Тинькофф (TCSG, др)  ...       NaN\n",
              "38                                       TGKA.MM  ...       NaN\n",
              "39                        Озон Акции Озон (Ozon)  ...       NaN\n",
              "\n",
              "[40 rows x 5 columns]"
            ]
          },
          "metadata": {},
          "execution_count": 68
        }
      ]
    }
  ]
}