{
  "nbformat": 4,
  "nbformat_minor": 0,
  "metadata": {
    "colab": {
      "name": "hw6_errors_datetime.ipynb",
      "provenance": [],
      "collapsed_sections": [],
      "authorship_tag": "ABX9TyMXIWaSydUac22Zlfbnw8Vs",
      "include_colab_link": true
    },
    "kernelspec": {
      "name": "python3",
      "display_name": "Python 3"
    },
    "language_info": {
      "name": "python"
    }
  },
  "cells": [
    {
      "cell_type": "markdown",
      "metadata": {
        "id": "view-in-github",
        "colab_type": "text"
      },
      "source": [
        "<a href=\"https://colab.research.google.com/github/finesun16/netology_pyda_27_hw/blob/master/hw6_errors_datetime.ipynb\" target=\"_parent\"><img src=\"https://colab.research.google.com/assets/colab-badge.svg\" alt=\"Open In Colab\"/></a>"
      ]
    },
    {
      "cell_type": "markdown",
      "metadata": {
        "id": "bH59CHsEpMft"
      },
      "source": [
        "## Задание 1\n",
        "Печатные газеты использовали свой формат дат для каждого выпуска. Для каждой газеты из списка напишите формат указанной даты для перевода в объект datetime:\n",
        "\n",
        "*   The Moscow Times - Wednesday, October 2, 2002\n",
        "*   The Guardian - Friday, 11.10.13\n",
        "*   Daily News - Thursday, 18 August 1977\n"
      ]
    },
    {
      "cell_type": "code",
      "metadata": {
        "id": "7hTF768Poc6Z"
      },
      "source": [
        "from datetime import datetime\n",
        "from datetime import timedelta"
      ],
      "execution_count": 68,
      "outputs": []
    },
    {
      "cell_type": "code",
      "metadata": {
        "colab": {
          "base_uri": "https://localhost:8080/"
        },
        "id": "sBmn-XpJp6Kh",
        "outputId": "a353bbb7-4925-4ffe-c2d5-4a9619d149d3"
      },
      "source": [
        "date_string_mt = 'Wednesday, October 2, 2002'\n",
        "datetime.strptime(date_string_mt, '%A, %B %d, %Y')"
      ],
      "execution_count": 6,
      "outputs": [
        {
          "output_type": "execute_result",
          "data": {
            "text/plain": [
              "datetime.datetime(2002, 10, 2, 0, 0)"
            ]
          },
          "metadata": {},
          "execution_count": 6
        }
      ]
    },
    {
      "cell_type": "code",
      "metadata": {
        "colab": {
          "base_uri": "https://localhost:8080/"
        },
        "id": "xI99JYzUsQpu",
        "outputId": "69930e59-bb0f-4765-c95b-99394466f7be"
      },
      "source": [
        "date_string_g = 'Friday, 11.10.13'\n",
        "datetime.strptime(date_string_g, '%A, %d.%m.%y')"
      ],
      "execution_count": 12,
      "outputs": [
        {
          "output_type": "execute_result",
          "data": {
            "text/plain": [
              "datetime.datetime(2013, 10, 11, 0, 0)"
            ]
          },
          "metadata": {},
          "execution_count": 12
        }
      ]
    },
    {
      "cell_type": "code",
      "metadata": {
        "colab": {
          "base_uri": "https://localhost:8080/"
        },
        "id": "KPKTHvkD0fBu",
        "outputId": "6697a84d-d266-4ec5-9fba-a1cf8c3fc975"
      },
      "source": [
        "date_string_dn = 'Thursday, 18 August 1977'\n",
        "datetime.strptime(date_string_dn, '%A, %d %B %Y')"
      ],
      "execution_count": 13,
      "outputs": [
        {
          "output_type": "execute_result",
          "data": {
            "text/plain": [
              "datetime.datetime(1977, 8, 18, 0, 0)"
            ]
          },
          "metadata": {},
          "execution_count": 13
        }
      ]
    },
    {
      "cell_type": "markdown",
      "metadata": {
        "id": "C5xbHM1l1VRp"
      },
      "source": [
        "## Задание 2\n",
        "Дан поток дат в формате YYYY-MM-DD, в которых встречаются некорректные значения:\n",
        "stream = [‘2018-04-02’, ‘2018-02-29’, ‘2018-19-02’]\n",
        "\n",
        "Напишите функцию, которая проверяет эти даты на корректность. Т. е. для каждой даты возвращает True (дата корректна) или False (некорректная дата)."
      ]
    },
    {
      "cell_type": "code",
      "metadata": {
        "id": "y53mzpMW1hUQ"
      },
      "source": [
        "def check_datestream(stream):\n",
        "  for date in stream:\n",
        "    try:\n",
        "        datetime.strptime(date, '%Y-%m-%d')\n",
        "        print(date, True)\n",
        "    except:\n",
        "        print(date, False)"
      ],
      "execution_count": 35,
      "outputs": []
    },
    {
      "cell_type": "code",
      "metadata": {
        "colab": {
          "base_uri": "https://localhost:8080/"
        },
        "id": "Fxaxg77F4G-E",
        "outputId": "f61b28c3-05f7-4344-9ac6-ddf5d54391da"
      },
      "source": [
        "stream = ['2018-04-02', '2018-02-29', '2018-19-02']\n",
        "check_datestream(stream)"
      ],
      "execution_count": 36,
      "outputs": [
        {
          "output_type": "stream",
          "name": "stdout",
          "text": [
            "2018-04-02 True\n",
            "2018-02-29 False\n",
            "2018-19-02 False\n"
          ]
        }
      ]
    },
    {
      "cell_type": "markdown",
      "metadata": {
        "id": "8cbmsG8W6cxT"
      },
      "source": [
        "## Задание 3\n",
        "Напишите функцию date_range, которая возвращает список дат за период от start_date до end_date. Даты должны вводиться в формате YYYY-MM-DD. В случае неверного формата или при start_date > end_date должен возвращаться пустой список."
      ]
    },
    {
      "cell_type": "code",
      "metadata": {
        "id": "sDl8P-K46plm"
      },
      "source": [
        "def check_dates(date):\n",
        "    try:\n",
        "        return datetime.strptime(date, '%Y-%m-%d')\n",
        "    except:\n",
        "        pass"
      ],
      "execution_count": 50,
      "outputs": []
    },
    {
      "cell_type": "code",
      "metadata": {
        "id": "BN36kvAl9gJl"
      },
      "source": [
        "check_dates(date = '2018-19-02')"
      ],
      "execution_count": 49,
      "outputs": []
    },
    {
      "cell_type": "code",
      "metadata": {
        "id": "rF-a5xPh8TA4"
      },
      "source": [
        "def date_range(start_date, end_date):\n",
        "    start_date = check_dates(start_date)\n",
        "    end_date = check_dates(end_date)\n",
        "    dates = []\n",
        "    if start_date is None or end_date is None or start_date > end_date:\n",
        "        return dates\n",
        "    else:\n",
        "        current_date = start_date\n",
        "        while current_date <= end_date:\n",
        "            dates.append(current_date.strftime('%Y-%m-%d'))\n",
        "            current_date += timedelta(days=1)\n",
        "        return dates"
      ],
      "execution_count": 66,
      "outputs": []
    },
    {
      "cell_type": "code",
      "metadata": {
        "colab": {
          "base_uri": "https://localhost:8080/"
        },
        "id": "G41D67ObSiZQ",
        "outputId": "3da43a36-371e-43c5-8eb1-742b42a6e05b"
      },
      "source": [
        "date_range('2021-10-01', '2021-10-10')"
      ],
      "execution_count": 73,
      "outputs": [
        {
          "output_type": "execute_result",
          "data": {
            "text/plain": [
              "['2021-10-01',\n",
              " '2021-10-02',\n",
              " '2021-10-03',\n",
              " '2021-10-04',\n",
              " '2021-10-05',\n",
              " '2021-10-06',\n",
              " '2021-10-07',\n",
              " '2021-10-08',\n",
              " '2021-10-09',\n",
              " '2021-10-10']"
            ]
          },
          "metadata": {},
          "execution_count": 73
        }
      ]
    }
  ]
}