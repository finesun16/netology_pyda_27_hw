{
  "nbformat": 4,
  "nbformat_minor": 0,
  "metadata": {
    "kernelspec": {
      "display_name": "Python 3",
      "language": "python",
      "name": "python3"
    },
    "language_info": {
      "codemirror_mode": {
        "name": "ipython",
        "version": 3
      },
      "file_extension": ".py",
      "mimetype": "text/x-python",
      "name": "python",
      "nbconvert_exporter": "python",
      "pygments_lexer": "ipython3",
      "version": "3.7.6"
    },
    "colab": {
      "name": "hw_1_python_basics.ipynb",
      "provenance": [],
      "collapsed_sections": []
    }
  },
  "cells": [
    {
      "cell_type": "markdown",
      "metadata": {
        "id": "P9GFGSf2hoBX"
      },
      "source": [
        "# Домашнее задание к лекции \"Основы Python\""
      ]
    },
    {
      "cell_type": "markdown",
      "metadata": {
        "id": "uaZkj3NyhoBe"
      },
      "source": [
        "## Задание 1"
      ]
    },
    {
      "cell_type": "markdown",
      "metadata": {
        "id": "ufuSLswkhoBf"
      },
      "source": [
        "Даны 2 переменных, в которых хранятся строки произвольной длины: *phrase_1* и *phrase_2*.  \n",
        "Напишите код, который проверяет какая из этих строк длиннее."
      ]
    },
    {
      "cell_type": "markdown",
      "metadata": {
        "id": "DezuRXYkhoBh"
      },
      "source": [
        "Примеры работы программы:  \n",
        "1.  \n",
        "\n",
        "```\n",
        "phrase_1 = 'Насколько проще было бы писать программы, если бы не заказчики'\n",
        "phrase_2 = '640Кб должно хватить для любых задач. Билл Гейтс (по легенде)'\n",
        "\n",
        "```\n",
        "\n",
        "Результат:  \n",
        "`Фраза 1 длиннее фразы 2`\n",
        "2.     \n",
        "\n",
        "```\n",
        "phrase_1 = '640Кб должно хватить для любых задач. Билл Гейтс (по легенде)'\n",
        "phrase_2 = 'Насколько проще было бы писать программы, если бы не заказчики'\n",
        "```\n",
        "\n",
        "Результат:  \n",
        "`Фраза 2 длиннее фразы 1`\n",
        "3.     \n",
        "\n",
        "```\n",
        "phrase_1 = 'Насколько проще было бы писать программы, если бы не заказчики'\n",
        "phrase_2 = 'Насколько проще было бы писать программы, если бы не заказчики'\n",
        "```\n",
        "\n",
        "Результат:  \n",
        "`Фразы равной длины`"
      ]
    },
    {
      "cell_type": "code",
      "metadata": {
        "id": "OvTMjsC_hoBi"
      },
      "source": [
        "def length_phrase(phrase_1, phrase_2):\n",
        "    if len(phrase_1) > len(phrase_2):\n",
        "        print('Фраза 1 длиннее фразы 2')\n",
        "    elif len(phrase_1) < len(phrase_2):\n",
        "        print('Фраза 2 длиннее фразы 1')\n",
        "    else:\n",
        "        print('Фразы равной длины')"
      ],
      "execution_count": 2,
      "outputs": []
    },
    {
      "cell_type": "code",
      "metadata": {
        "colab": {
          "base_uri": "https://localhost:8080/"
        },
        "id": "Qgk6ZG-ThoBk",
        "outputId": "c328cc6c-cf74-45be-b8e0-617e58680041"
      },
      "source": [
        "phrase_1 = 'Насколько проще было бы писать программы, если бы не заказчики'\n",
        "phrase_2 = '640Кб должно хватить для любых задач. Билл Гейтс (по легенде)'\n",
        "length_phrase (phrase_1, phrase_2)"
      ],
      "execution_count": 3,
      "outputs": [
        {
          "output_type": "stream",
          "name": "stdout",
          "text": [
            "Фраза 1 длиннее фразы 2\n"
          ]
        }
      ]
    },
    {
      "cell_type": "code",
      "metadata": {
        "colab": {
          "base_uri": "https://localhost:8080/"
        },
        "id": "9qjxkpqnhoBm",
        "outputId": "b7b7b5ce-ec6e-4551-e5f1-66d171d4feae"
      },
      "source": [
        "phrase_1 = '640Кб должно хватить для любых задач. Билл Гейтс (по легенде)'\n",
        "phrase_2 = 'Насколько проще было бы писать программы, если бы не заказчики'\n",
        "length_phrase (phrase_1, phrase_2)"
      ],
      "execution_count": 4,
      "outputs": [
        {
          "output_type": "stream",
          "name": "stdout",
          "text": [
            "Фраза 2 длиннее фразы 1\n"
          ]
        }
      ]
    },
    {
      "cell_type": "code",
      "metadata": {
        "colab": {
          "base_uri": "https://localhost:8080/"
        },
        "id": "3UzV_kLbhoBn",
        "outputId": "a36cb02f-5de9-40fb-b748-f0763e6f23d0"
      },
      "source": [
        "phrase_1 = 'Насколько проще было бы писать программы, если бы не заказчики'\n",
        "phrase_2 = 'Насколько проще было бы писать программы, если бы не заказчики'\n",
        "length_phrase (phrase_1, phrase_2)"
      ],
      "execution_count": 5,
      "outputs": [
        {
          "output_type": "stream",
          "name": "stdout",
          "text": [
            "Фразы равной длины\n"
          ]
        }
      ]
    },
    {
      "cell_type": "markdown",
      "metadata": {
        "id": "yR4ePcaOhoBn"
      },
      "source": [
        "## Задание 2"
      ]
    },
    {
      "cell_type": "markdown",
      "metadata": {
        "id": "lopuhNakhoBo"
      },
      "source": [
        "Дана переменная, в которой хранится четырехзначное число (год). Необходимо написать программу, которая выведет, является ли данный год високосным или обычным.\n",
        "\n",
        "Пример работы программы:\n",
        "1.  \n",
        "\n",
        "```\n",
        "year = 2020\n",
        "```\n",
        "Результат:  \n",
        "`Високосный год` \n",
        "\n",
        "2.  \n",
        "\n",
        "```\n",
        "year = 2019\n",
        "```\n",
        "Результат:  \n",
        "`Обычный год` "
      ]
    },
    {
      "cell_type": "markdown",
      "metadata": {
        "id": "mt-ehF7tj-V_"
      },
      "source": [
        "Год является високосным, если его номер кратен 4, но при этом не кратен 100. Так же год будет високосным если он кратен 400. Пример: 1900 – не високосный, а 1600 високосный."
      ]
    },
    {
      "cell_type": "code",
      "metadata": {
        "colab": {
          "base_uri": "https://localhost:8080/"
        },
        "id": "XyKXd1JGhoBo",
        "outputId": "c470340e-fbfd-4d13-f2f2-4406c4ff0251"
      },
      "source": [
        "year = int(input('ВВЕДИТЕ ГОД: '))\n",
        "if year % 4 == 0 and (year % 100 != 0 or year % 400 == 0):\n",
        "    print(f'{year} - високосный год')\n",
        "else:\n",
        "    print(f'{year} - обычный год' )"
      ],
      "execution_count": 16,
      "outputs": [
        {
          "output_type": "stream",
          "name": "stdout",
          "text": [
            "ВВЕДИТЕ ГОД: 1800\n",
            "1800 - обычный год\n"
          ]
        }
      ]
    },
    {
      "cell_type": "markdown",
      "metadata": {
        "id": "9j2cM8johoBp"
      },
      "source": [
        "## Задание 3"
      ]
    },
    {
      "cell_type": "markdown",
      "metadata": {
        "id": "sJesbvpOhoBp"
      },
      "source": [
        "Необходимо написать программу, которая будет запрашивать у пользователя месяц и дату рождения и выводить соответствующий знак зодиака.\n",
        "\n",
        "Пример работы программы:  \n",
        "1.  \n",
        "\n",
        "```\n",
        "Введите день:\n",
        "30\n",
        "\n",
        "Введите месяц:\n",
        "Август\n",
        "```\n",
        "Результат:  \n",
        "`Ваш знак зодиака: Дева` \n",
        "\n",
        "2.  \n",
        "\n",
        "```\n",
        "Введите день:\n",
        "29\n",
        "\n",
        "Введите месяц:\n",
        "Октябрь\n",
        "```\n",
        "Результат:  \n",
        "`Ваш знак зодиака: Скорпион` \n"
      ]
    },
    {
      "cell_type": "code",
      "metadata": {
        "colab": {
          "base_uri": "https://localhost:8080/"
        },
        "id": "AoPIuuyihoBq",
        "outputId": "4914f28e-a526-493b-9c70-9d75758eb085"
      },
      "source": [
        "day = int(input('Введите день: '))\n",
        "month = input('Введите месяц: ')\n",
        "if (day >= 21 and month == \"Март\") or (day <= 20 and month == \"Апрель\"):\n",
        "    print ('Ваш знак зодиака: Овен')\n",
        "elif (day >= 21 and month == \"Апрель\") or (day <= 21 and month == \"Май\"):\n",
        "    print ('Ваш знак зодиака: Телец')\n",
        "elif (day >= 22 and month == \"Май\") or (day <= 21 and month == \"Июнь\"):\n",
        "    print ('Ваш знак зодиака: Близнецы')\n",
        "elif (day >= 22 and month == \"Июнь\") or (day <= 22 and month == \"Июль\"):\n",
        "    print ('Ваш знак зодиака: Рак')\n",
        "elif (day >= 23 and month == \"Июль\") or (day <= 23 and month == \"Август\"):\n",
        "    print ('Ваш знак зодиака: Лев')\n",
        "elif (day >= 24 and month == \"Август\") or (day <= 22 and month == \"Сентябрь\"):\n",
        "    print ('Ваш знак зодиака: Дева')\n",
        "elif (day >= 23 and month == \"Сентябрь\") or (day <= 23 and month == \"Октябрь\"):\n",
        "    print ('Ваш знак зодиака: Весы')\n",
        "elif (day >= 24 and month == \"Октябрь\") or (day <= 22 and month == \"Ноябрь\"):\n",
        "    print ('Ваш знак зодиака: Скорпион')\n",
        "elif (day >= 23 and month == \"Ноябрь\") or (day <= 22 and month == \"Декабрь\"):\n",
        "    print ('Ваш знак зодиака: Стрелец')\n",
        "elif (day >= 23 and month == \"Декабрь\") or (day <= 20 and month == \"Январь\"):\n",
        "    print ('Ваш знак зодиака: Козерог')\n",
        "elif (day >= 21 and month == \"Январь\") or (day <= 19 and month == \"Февраль\"):\n",
        "    print ('Ваш знак зодиака: Водолей')\n",
        "elif (day >= 20 and month == \"Февраль\") or (day <= 20 and month == \"Март\"):\n",
        "    print ('Ваш знак зодиака: Рыбы')\n",
        "else:\n",
        "    print ('Вы ввели некорректные значения')"
      ],
      "execution_count": 7,
      "outputs": [
        {
          "output_type": "stream",
          "name": "stdout",
          "text": [
            "Введите день: 54\n",
            "Введите месяц: 123\n",
            "Вы ввели некорректные значения\n"
          ]
        }
      ]
    },
    {
      "cell_type": "markdown",
      "metadata": {
        "id": "pQfbZqJ_hoBs"
      },
      "source": [
        "## Задание 4"
      ]
    },
    {
      "cell_type": "markdown",
      "metadata": {
        "id": "dFnRGXAXhoBs"
      },
      "source": [
        "Вам нужно написать программу для подбора упаковок по размерам товара. Размеры хранятся в переменных (в сантиметрах):\n",
        "\n",
        "```\n",
        "width = 10\n",
        "length = 205\n",
        "height = 5\n",
        "```\n",
        "\n",
        "Используйте следующие правила:\n",
        "- если каждое из трех измерений менее 15 сантиметров, то выведите на экран \"Коробка №1\";\n",
        "- если хотя бы одно из измерений больше 15 сантиметров, но менее 50 сантиметров, то выводите \"Коробка №2\";\n",
        "- если длина товара больше 2 метров, то выводите \"Упаковка для лыж\";\n",
        "- во всех остальных случаях выводите \"Стандартная коробка №3\".\n"
      ]
    },
    {
      "cell_type": "code",
      "metadata": {
        "colab": {
          "base_uri": "https://localhost:8080/"
        },
        "id": "ful6uEw8hoBt",
        "outputId": "f43382f3-b5c8-42f7-b17a-e5c818d55247"
      },
      "source": [
        "width = 205\n",
        "length = 45\n",
        "height = 45\n",
        "\n",
        "if  length > 200:\n",
        "    print ('Ищите упаковку для лыж')\n",
        "elif  15 < length < 50  and  15 < width < 50 and 15 < height < 50:\n",
        "    print ('Коробка №2')\n",
        "elif  length <= 15  and  width <= 15 and height <= 15:\n",
        "    print ('Коробка №1')\n",
        "else:\n",
        "    print ('Стандартная коробка №3')"
      ],
      "execution_count": 31,
      "outputs": [
        {
          "output_type": "stream",
          "name": "stdout",
          "text": [
            "Стандартная коробка №3\n"
          ]
        }
      ]
    },
    {
      "cell_type": "markdown",
      "metadata": {
        "id": "BUkHxAO9hoBt"
      },
      "source": [
        "## Задание 5 (необязательное)"
      ]
    },
    {
      "cell_type": "markdown",
      "metadata": {
        "id": "iSLd3n9XhoBu"
      },
      "source": [
        "Дана переменная, в которой хранится шестизначное число (номер проездного билета). Напишите программу, которая будет определять, является ли данный билет \"счастливым\". Билет считается счастливым, если сумма первых трех цифр совпадает с суммой последних трех цифр номера.   \n",
        "\n",
        "Примеры работы программы:  \n",
        "1. ```number = 123456```\n",
        "\n",
        "Результат:  \n",
        "`Неасчастливый билет`\n",
        "2. ```number = 123321```\n",
        "\n",
        "Результат:  \n",
        "`Счастливый билет`\n"
      ]
    },
    {
      "cell_type": "code",
      "metadata": {
        "colab": {
          "base_uri": "https://localhost:8080/"
        },
        "id": "eoSiid-dlTvx",
        "outputId": "acd8f9be-f585-4606-a129-67d7be499f83"
      },
      "source": [
        "number = 123456\n",
        "number = list(map(int, str(number)))\n",
        "number"
      ],
      "execution_count": 22,
      "outputs": [
        {
          "output_type": "execute_result",
          "data": {
            "text/plain": [
              "[1, 2, 3, 4, 5, 6]"
            ]
          },
          "metadata": {},
          "execution_count": 22
        }
      ]
    },
    {
      "cell_type": "code",
      "metadata": {
        "colab": {
          "base_uri": "https://localhost:8080/"
        },
        "id": "m6s-ggWblmTY",
        "outputId": "4bf1181b-fc4d-4f58-def0-d5ac965419d7"
      },
      "source": [
        "number[:3]"
      ],
      "execution_count": 20,
      "outputs": [
        {
          "output_type": "execute_result",
          "data": {
            "text/plain": [
              "[1, 2, 3]"
            ]
          },
          "metadata": {},
          "execution_count": 20
        }
      ]
    },
    {
      "cell_type": "code",
      "metadata": {
        "colab": {
          "base_uri": "https://localhost:8080/"
        },
        "id": "mKc_BndRhoBu",
        "outputId": "464649de-acbf-4c12-ad53-e3c8d6458c29"
      },
      "source": [
        "number = 123456\n",
        "# сразу через map\n",
        "number = list(map(int, str(number)))\n",
        "# берем сумму срезов\n",
        "if sum(number[:3])== sum(number[-3:]):\n",
        "    print(\"Счастливый\")\n",
        "else:\n",
        "    print(\"Обычный\")"
      ],
      "execution_count": 9,
      "outputs": [
        {
          "output_type": "stream",
          "name": "stdout",
          "text": [
            "Обычный\n"
          ]
        }
      ]
    },
    {
      "cell_type": "code",
      "metadata": {
        "colab": {
          "base_uri": "https://localhost:8080/"
        },
        "id": "B_kGLlSnlZeo",
        "outputId": "c26ccbd0-a842-4050-d78d-eb3d88032bae"
      },
      "source": [
        "number = 123456\n",
        "number = list(str(number))\n",
        "number"
      ],
      "execution_count": 26,
      "outputs": [
        {
          "output_type": "execute_result",
          "data": {
            "text/plain": [
              "['1', '2', '3', '4', '5', '6']"
            ]
          },
          "metadata": {},
          "execution_count": 26
        }
      ]
    },
    {
      "cell_type": "code",
      "metadata": {
        "colab": {
          "base_uri": "https://localhost:8080/"
        },
        "id": "ENADLFQ4m8nT",
        "outputId": "156bbbc7-2397-4295-f2f3-20a776c1f260"
      },
      "source": [
        "number = [int(i) for i in number]\n",
        "number"
      ],
      "execution_count": 28,
      "outputs": [
        {
          "output_type": "execute_result",
          "data": {
            "text/plain": [
              "[1, 2, 3, 4, 5, 6]"
            ]
          },
          "metadata": {},
          "execution_count": 28
        }
      ]
    },
    {
      "cell_type": "code",
      "metadata": {
        "id": "lEXYitCGnEm3"
      },
      "source": [
        ""
      ],
      "execution_count": null,
      "outputs": []
    },
    {
      "cell_type": "code",
      "metadata": {
        "colab": {
          "base_uri": "https://localhost:8080/"
        },
        "id": "vzAezuYRhoBu",
        "outputId": "811b8803-289a-44ec-f25e-1bbc6f0724aa"
      },
      "source": [
        "number = 123321\n",
        "number = list(str(number))\n",
        "# через генератор списков\n",
        "number = [int(i) for i in number]\n",
        "# берем сумму срезов\n",
        "if sum(number[:3]) == sum(number[-3:]):\n",
        "    print(\"Счастливый\")\n",
        "else:\n",
        "    print(\"Обычный\")"
      ],
      "execution_count": 10,
      "outputs": [
        {
          "output_type": "stream",
          "name": "stdout",
          "text": [
            "Счастливый\n"
          ]
        }
      ]
    },
    {
      "cell_type": "markdown",
      "metadata": {
        "id": "ieS7qCvFhoBv"
      },
      "source": [
        "## Задание 6 (необязательное)"
      ]
    },
    {
      "cell_type": "markdown",
      "metadata": {
        "id": "rsKLcqaJhoBv"
      },
      "source": [
        "Напишите программу, которая сможет вычислять площади трех фигур (круг, треугольник и прямоугольник).\n",
        "Тип фигуры запрашиваем через пользовательский ввод, после чего делаем запрос характеристик фигуры:\n",
        "\n",
        "- если пользователь выбрал круг, запрашиваем его радиус,\n",
        "- если треугольник – длины трех его сторон;\n",
        "- если прямоугольник – длины двух его сторон.\n",
        "\n",
        "Пример работы программы:\n",
        "1.  \n",
        "\n",
        "```\n",
        "Введите тип фигуры:\n",
        "Круг\n",
        "\n",
        "Введите радиус круга:\n",
        "10\n",
        "```\n",
        "Результат:  \n",
        "`Площадь круга: 314.16`\n",
        "\n",
        "2.  \n",
        "\n",
        "```\n",
        "Введите тип фигуры:\n",
        "Треугольник\n",
        "\n",
        "Введите длину стороны A:\n",
        "2\n",
        "\n",
        "Введите длину стороны B:\n",
        "2\n",
        "\n",
        "Введите длину стороны C:\n",
        "3\n",
        "```\n",
        "Результат:  \n",
        "`Площадь треугольника: 1.98`"
      ]
    },
    {
      "cell_type": "code",
      "metadata": {
        "colab": {
          "base_uri": "https://localhost:8080/"
        },
        "id": "m5twCI5DhoBw",
        "outputId": "96a72a50-ea12-40e6-f629-8eb3bf3aeede"
      },
      "source": [
        "import math\n",
        "figure = input('Введите тип фигуры (круг, прямоугольник или треугольник): ').lower()\n",
        "if figure == 'круг':\n",
        "    radius = float(input('Введите радиус круга: '))\n",
        "    print(f'Площадь круга: {round (math.pi * radius **2, 2)}')\n",
        "elif figure == 'прямоугольник':\n",
        "    len_a = float(input('Введите длину стороны A: '))\n",
        "    len_b = float(input('Введите длину стороны B: '))\n",
        "    print(f'Площадь прямоугольника: {round(len_a * len_b, 2)}')\n",
        "elif figure == 'треугольник':\n",
        "    len_a = float(input('Введите длину стороны A: '))\n",
        "    len_b = float(input('Введите длину стороны B: '))\n",
        "    len_с = float(input('Введите длину стороны С: '))\n",
        "    p = (len_a + len_b + len_с) / 2\n",
        "    # если не импортировать модуль math, квадратный корень  можно записать как ((число) **(1/2))\n",
        "    s = math.sqrt(p * (p - len_a)*(p - len_b)*(p - len_с))\n",
        "    print(f'Площадь треугольника: {round(s , 2)}')\n",
        "else:\n",
        "    print ('Вы ввели некорректные значения')"
      ],
      "execution_count": 32,
      "outputs": [
        {
          "output_type": "stream",
          "name": "stdout",
          "text": [
            "Введите тип фигуры (круг, прямоугольник или треугольник): круг\n",
            "Введите радиус круга: 5\n",
            "Площадь круга: 78.54\n"
          ]
        }
      ]
    },
    {
      "cell_type": "markdown",
      "metadata": {
        "id": "pYHMqDf0hoBw"
      },
      "source": [
        ""
      ]
    }
  ]
}