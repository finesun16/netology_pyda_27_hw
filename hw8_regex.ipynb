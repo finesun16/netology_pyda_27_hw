{
  "nbformat": 4,
  "nbformat_minor": 0,
  "metadata": {
    "kernelspec": {
      "display_name": "Python 3",
      "language": "python",
      "name": "python3"
    },
    "language_info": {
      "codemirror_mode": {
        "name": "ipython",
        "version": 3
      },
      "file_extension": ".py",
      "mimetype": "text/x-python",
      "name": "python",
      "nbconvert_exporter": "python",
      "pygments_lexer": "ipython3",
      "version": "3.7.6"
    },
    "colab": {
      "name": "hw8_regex.ipynb",
      "provenance": [],
      "collapsed_sections": [],
      "include_colab_link": true
    }
  },
  "cells": [
    {
      "cell_type": "markdown",
      "metadata": {
        "id": "view-in-github",
        "colab_type": "text"
      },
      "source": [
        "<a href=\"https://colab.research.google.com/github/finesun16/netology_pyda_27_hw/blob/master/hw8_regex.ipynb\" target=\"_parent\"><img src=\"https://colab.research.google.com/assets/colab-badge.svg\" alt=\"Open In Colab\"/></a>"
      ]
    },
    {
      "cell_type": "markdown",
      "metadata": {
        "id": "TGTCCj8ZV5CK"
      },
      "source": [
        "# Домашнее задание к лекции \"Регулярные выражения\"\n",
        "\n",
        "Внимание! При реализации всех заданий необходимо использовать именно функционал регулярных выражений для обработки текста."
      ]
    },
    {
      "cell_type": "code",
      "metadata": {
        "id": "CkvAsVKZY5Ge"
      },
      "source": [
        "import re"
      ],
      "execution_count": 62,
      "outputs": []
    },
    {
      "cell_type": "markdown",
      "metadata": {
        "id": "wTpDyX7gV5Ce"
      },
      "source": [
        "## Задание 1\n",
        "\n",
        "Напишите функцию, которая принимает на вход строку и проверяет является ли она валидным транспортным номером (1 буква, 3 цифры, 2 буквы, 2-3 цифры). Обратите внимание, что не все буквы кириллического алфавита используются в транспортных номерах.\n",
        "\n",
        "Если номер валиден, то функция должна возвращать отдельно номер и регион.\n",
        "\n",
        "Примеры работы программы:  \n",
        "\n",
        "1. `car_id = 'АВ222С96'`\n",
        "\n",
        "Результат: \n",
        "`Номер АВ222С валиден. Регион: 96`\n",
        "\n",
        "2. `car_id = 'АБ22ВВ193'`\n",
        "\n",
        "Результат: \n",
        "`Номер не валиден`"
      ]
    },
    {
      "cell_type": "code",
      "metadata": {
        "id": "wfleYp9VWAd7"
      },
      "source": [
        "def check_number(car_id):\n",
        "    \"\"\"\n",
        "    функция определяет валидность номера транспортного средства и возвращает отдельно номер и регион\n",
        "    \"\"\"\n",
        "    number_pattern = r'([A-QА-Я]{1}\\d{3}[A-QА-Я]{2})(\\d{2,3})'\n",
        "    if re.findall(number_pattern, car_id):\n",
        "        return f'Номер {re.search(number_pattern, car_id).group(1)} валиден. Регион: {re.search(number_pattern, car_id).group(2)}'\n",
        "    return f'Номер не валиден'"
      ],
      "execution_count": null,
      "outputs": []
    },
    {
      "cell_type": "code",
      "metadata": {
        "colab": {
          "base_uri": "https://localhost:8080/",
          "height": 35
        },
        "id": "TzHSx3auYw_Y",
        "outputId": "a0665c5a-5cce-4dfb-f046-0d56446b6f4b"
      },
      "source": [
        "car_id = 'А222ВС96'\n",
        "check_number(car_id)"
      ],
      "execution_count": null,
      "outputs": [
        {
          "output_type": "execute_result",
          "data": {
            "application/vnd.google.colaboratory.intrinsic+json": {
              "type": "string"
            },
            "text/plain": [
              "'Номер А222ВС валиден. Регион: 96'"
            ]
          },
          "metadata": {},
          "execution_count": 111
        }
      ]
    },
    {
      "cell_type": "code",
      "metadata": {
        "colab": {
          "base_uri": "https://localhost:8080/",
          "height": 35
        },
        "id": "JjYgU_OIhItg",
        "outputId": "f23e25e5-a79f-4f58-8207-b9f8272b4f2e"
      },
      "source": [
        "check_number('АБ22ВВ193')"
      ],
      "execution_count": null,
      "outputs": [
        {
          "output_type": "execute_result",
          "data": {
            "application/vnd.google.colaboratory.intrinsic+json": {
              "type": "string"
            },
            "text/plain": [
              "'Номер не валиден'"
            ]
          },
          "metadata": {},
          "execution_count": 112
        }
      ]
    },
    {
      "cell_type": "markdown",
      "metadata": {
        "id": "QnB-aXNNV5Cj"
      },
      "source": [
        "## Задание 2\n",
        "\n",
        "Напишите функцию, которая будет удалять все последовательные повторы слов из заданной строки при помощи регулярных выражений.\n",
        "\n",
        "Пример работы программы:  \n",
        "\n",
        "`some_string = 'Напишите функцию функцию, которая будет будет будет будет удалять все все все все последовательные повторы слов из из из из заданной строки строки при помощи регулярных выражений'`\n",
        "\n",
        "Результат: \n",
        "`Напишите функцию, которая будет удалять все последовательные повторы слов из заданной строки при помощи регулярных выражений.`"
      ]
    },
    {
      "cell_type": "code",
      "metadata": {
        "id": "CfU_hnYNj4Z1"
      },
      "source": [
        "some_string = 'Напишите функцию функцию, которая будет будет будет будет удалять все все все все последовательные повторы слов из из из из заданной строки строки при помощи регулярных выражений'"
      ],
      "execution_count": null,
      "outputs": []
    },
    {
      "cell_type": "code",
      "metadata": {
        "colab": {
          "base_uri": "https://localhost:8080/",
          "height": 35
        },
        "id": "w85u_7NHj28o",
        "outputId": "7745402c-4c62-49c3-c54b-384ee8b62beb"
      },
      "source": [
        "re.sub(r'(\\S+)(\\s\\1+)+', r'\\1', some_string)"
      ],
      "execution_count": null,
      "outputs": [
        {
          "output_type": "execute_result",
          "data": {
            "application/vnd.google.colaboratory.intrinsic+json": {
              "type": "string"
            },
            "text/plain": [
              "'Напишите функцию, которая будет удалять все последовательные повторы слов из заданной строки при помощи регулярных выражений'"
            ]
          },
          "metadata": {},
          "execution_count": 27
        }
      ]
    },
    {
      "cell_type": "markdown",
      "metadata": {
        "id": "B25DBx6oV5Cm"
      },
      "source": [
        "## Задание 3\n",
        "\n",
        "Напишите функцию, которая будет возвращать акроним по переданной в нее строке со словами.\n",
        "\n",
        "Примеры работы программы:  \n",
        "\n",
        "1. `some_words = 'Информационные технологии'`\n",
        "\n",
        "Результат: \n",
        "`ИТ`\n",
        "\n",
        "2. `some_words = 'Near Field Communication'`\n",
        "\n",
        "Результат: \n",
        "`NFC`"
      ]
    },
    {
      "cell_type": "code",
      "metadata": {
        "id": "oAgm4L-7DFb-"
      },
      "source": [
        "some_words = 'Информационные технологии'"
      ],
      "execution_count": null,
      "outputs": []
    },
    {
      "cell_type": "code",
      "metadata": {
        "colab": {
          "base_uri": "https://localhost:8080/",
          "height": 35
        },
        "id": "xeafN9yqDHN6",
        "outputId": "ab9f080d-5308-4078-8a10-8aff57da3fa8"
      },
      "source": [
        "re.sub(r'(\\w)(\\w+)(\\s|$)', r'\\1', some_words).upper()"
      ],
      "execution_count": null,
      "outputs": [
        {
          "output_type": "execute_result",
          "data": {
            "application/vnd.google.colaboratory.intrinsic+json": {
              "type": "string"
            },
            "text/plain": [
              "'ИТ'"
            ]
          },
          "metadata": {},
          "execution_count": 44
        }
      ]
    },
    {
      "cell_type": "code",
      "metadata": {
        "id": "FLH8WXcAGVya"
      },
      "source": [
        "def acronym(some_words):\n",
        "    \"\"\"\n",
        "    функция возвращает акроним по переданной в нее строке\n",
        "    \"\"\"\n",
        "    return re.sub(r'(\\w)(.+)(\\s|$)', r'\\1', some_words).upper()    "
      ],
      "execution_count": 91,
      "outputs": []
    },
    {
      "cell_type": "code",
      "metadata": {
        "colab": {
          "base_uri": "https://localhost:8080/",
          "height": 35
        },
        "id": "3b7nMfNzG0kk",
        "outputId": "9e4e6bdc-0828-4eca-b7e1-386b6a3a3993"
      },
      "source": [
        "acronym('Near Field Communication')"
      ],
      "execution_count": 49,
      "outputs": [
        {
          "output_type": "execute_result",
          "data": {
            "application/vnd.google.colaboratory.intrinsic+json": {
              "type": "string"
            },
            "text/plain": [
              "'NFC'"
            ]
          },
          "metadata": {},
          "execution_count": 49
        }
      ]
    },
    {
      "cell_type": "markdown",
      "metadata": {
        "id": "MqoLWhuIV5Cn"
      },
      "source": [
        "## Задание 4\n",
        "\n",
        "Напишите функцию, которая будет принимать на вход список email-адресов и выводить их распределение по доменным зонам.\n",
        "\n",
        "Пример работы программы:  \n",
        "\n",
        "`emails = ['test@gmail.com, xyz@test.in, test@ya.ru, xyz@mail.ru, xyz@ya.ru', xyz@gmail.com]`\n",
        "\n",
        "Результат: \n",
        "```\n",
        "gmail.com: 2\n",
        "test.in: 1 \n",
        "ya.ru: 2 \n",
        "mail.ru: 1\n",
        "```"
      ]
    },
    {
      "cell_type": "code",
      "metadata": {
        "id": "T1GDX1AXHX8B"
      },
      "source": [
        "emails = ['test@gmail.com', 'xyz@test.in', 'test@ya.ru', 'xyz@mail.ru', 'xyz@ya.ru', 'xyz@gmail.com']"
      ],
      "execution_count": 52,
      "outputs": []
    },
    {
      "cell_type": "code",
      "metadata": {
        "id": "R3CidpnTOmT5"
      },
      "source": [
        "def print_dict(dict_):\n",
        "    \"\"\"\n",
        "    функция для печати словарей в определенном формате\n",
        "    \"\"\"\n",
        "    for key, value in dict_.items():\n",
        "        print(f'{key}: {value}')"
      ],
      "execution_count": 76,
      "outputs": []
    },
    {
      "cell_type": "code",
      "metadata": {
        "id": "BJ4MVa1UPftK"
      },
      "source": [
        "def num_domen(list_):\n",
        "    \"\"\"\n",
        "    функция распределения e-mail по доменным зонам\n",
        "    \"\"\"\n",
        "    domens = {}\n",
        "    for email in emails:\n",
        "        domen = re.sub(r'\\S+@(\\S)', r'\\1', email)\n",
        "        if domen not in domens:\n",
        "            domens[domen]=1\n",
        "        else:\n",
        "            domens[domen]+=1\n",
        "    return print_dict(domens)"
      ],
      "execution_count": 78,
      "outputs": []
    },
    {
      "cell_type": "code",
      "metadata": {
        "colab": {
          "base_uri": "https://localhost:8080/"
        },
        "id": "Nkg_fPBQQYmh",
        "outputId": "9fa84ee3-5fcd-487c-8381-de32f16ad017"
      },
      "source": [
        "num_domen(emails)"
      ],
      "execution_count": 79,
      "outputs": [
        {
          "output_type": "stream",
          "name": "stdout",
          "text": [
            "gmail.com: 2\n",
            "test.in: 1\n",
            "ya.ru: 2\n",
            "mail.ru: 1\n"
          ]
        }
      ]
    },
    {
      "cell_type": "markdown",
      "metadata": {
        "id": "OduYPy9XV5Cp"
      },
      "source": [
        "## Задание 5 (необязательное)\n",
        "\n",
        "Напишите функцию, которая будет подсчитывать сколько слов начинается на гласные, а сколько на согласные буквы в тексте (текст может быть написан как с использованием букв кириллицы, так и латиницы).\n",
        "\n",
        "Пример работы программы:  \n",
        "\n",
        "`some_text = 'Эталонной реализацией Python является интерпретатор CPython, поддерживающий большинство активно используемых платформ. Он распространяется под свободной лицензией Python Software Foundation License, позволяющей использовать его без ограничений в любых приложениях, включая проприетарные.'`\n",
        "\n",
        "Результат: \n",
        "```\n",
        "Слов на гласные буквы: 9\n",
        "Слов на согласные буквы: 21 \n",
        "```"
      ]
    },
    {
      "cell_type": "code",
      "metadata": {
        "id": "MIN6U3k4WgkB"
      },
      "source": [
        "some_text = \"\"\"Эталонной реализацией Python является интерпретатор CPython, поддерживающий большинство активно используемых платформ. Он распространяется под свободной лицензией \n",
        "Python Software Foundation License, позволяющей использовать его без ограничений в любых приложениях, включая проприетарные.\"\"\""
      ],
      "execution_count": 81,
      "outputs": []
    },
    {
      "cell_type": "code",
      "metadata": {
        "colab": {
          "base_uri": "https://localhost:8080/"
        },
        "id": "CaDprkhkXAwv",
        "outputId": "5958c59a-8511-483e-e2ca-babbeaf42d02"
      },
      "source": [
        "re.split(r'[^\\d\\w\\s]?\\s+', some_text)"
      ],
      "execution_count": 86,
      "outputs": [
        {
          "output_type": "execute_result",
          "data": {
            "text/plain": [
              "['Эталонной',\n",
              " 'реализацией',\n",
              " 'Python',\n",
              " 'является',\n",
              " 'интерпретатор',\n",
              " 'CPython',\n",
              " 'поддерживающий',\n",
              " 'большинство',\n",
              " 'активно',\n",
              " 'используемых',\n",
              " 'платформ',\n",
              " 'Он',\n",
              " 'распространяется',\n",
              " 'под',\n",
              " 'свободной',\n",
              " 'лицензией',\n",
              " 'Python',\n",
              " 'Software',\n",
              " 'Foundation',\n",
              " 'License',\n",
              " 'позволяющей',\n",
              " 'использовать',\n",
              " 'его',\n",
              " 'без',\n",
              " 'ограничений',\n",
              " 'в',\n",
              " 'любых',\n",
              " 'приложениях',\n",
              " 'включая',\n",
              " 'проприетарные.']"
            ]
          },
          "metadata": {},
          "execution_count": 86
        }
      ]
    },
    {
      "cell_type": "code",
      "metadata": {
        "id": "WUM9xy8mWZre"
      },
      "source": [
        "def num_first_letter(text):\n",
        "    \"\"\"\n",
        "    функция, которая подсчитывает сколько слов начинается на гласные, а сколько на согласные буквы в тексте \n",
        "    \"\"\"\n",
        "    vowel = 0\n",
        "    consonant = 0\n",
        "    for word in re.split(r'[^\\d\\w\\s]?\\s+', some_text):\n",
        "        letter = acronym(word) # используем ранее написанную функцию выделения первой буквы в слове\n",
        "        # в качестве альтернитивы letter = re.sub(r'(\\w)(.+)(\\s|$)', r'\\1', word).upper()\n",
        "        if letter in 'АЯОЁЭЕИЫУЮAEIOUY':\n",
        "            vowel += 1\n",
        "        else:\n",
        "            consonant +=1\n",
        "    return f'Слов на гласные буквы: {vowel}\\nСлов на согласные буквы: {consonant}'"
      ],
      "execution_count": 100,
      "outputs": []
    },
    {
      "cell_type": "code",
      "metadata": {
        "colab": {
          "base_uri": "https://localhost:8080/"
        },
        "id": "UT-o9XksWRn9",
        "outputId": "3238aedb-c5ff-4d7d-cfdd-e5835f5f0a82"
      },
      "source": [
        "print (num_first_letter(some_text))"
      ],
      "execution_count": 102,
      "outputs": [
        {
          "output_type": "stream",
          "name": "stdout",
          "text": [
            "Слов на гласные буквы: 9\n",
            "Слов на согласные буквы: 21\n"
          ]
        }
      ]
    },
    {
      "cell_type": "markdown",
      "metadata": {
        "id": "iLcgI3xZV5Cs"
      },
      "source": [
        "## Задание 6 (необязательное)\n",
        "Напишите функцию, которая будет проверять номер сотового телефона на валидность, если он валиден, то переводить его в формат:   \n",
        "+7-xxx-xxx-xx-xx  \n",
        "Постарайтесь предусмотреть как можно больше адекватных форматов изначального ввода номера.\n",
        "Примеры работы программы:  \n",
        "\n",
        "1. `phone = '+7 955 555-55-55'`\n",
        "\n",
        "Результат: \n",
        "`+7-950-555-55-55`\n",
        "\n",
        "2. `phone = '8(955)555-55-55'`\n",
        "\n",
        "Результат: \n",
        "`+7-950-555-55-55`\n",
        "\n",
        "3. `phone = '+7 955 555 55 55'`\n",
        "\n",
        "Результат: \n",
        "`+7-950-555-55-55`\n",
        "\n",
        "4. `phone = '7(955) 555-55-55'`\n",
        "\n",
        "Результат: \n",
        "`+7-950-555-55-55`\n",
        "\n",
        "5. `phone = '423-555-55-5555'`\n",
        "\n",
        "Результат: \n",
        "`Номер не валиден`\n",
        "\n",
        "6. `phone = '123-456-789'`\n",
        "\n",
        "Результат: \n",
        "`Номер не валиден`"
      ]
    },
    {
      "cell_type": "code",
      "metadata": {
        "colab": {
          "base_uri": "https://localhost:8080/",
          "height": 35
        },
        "id": "QUaKLV5Vk8yR",
        "outputId": "241915ea-66ec-45b5-b88e-ff962d2d24e1"
      },
      "source": [
        "''.join(re.findall(r'\\d+', phone))[0]"
      ],
      "execution_count": 139,
      "outputs": [
        {
          "output_type": "execute_result",
          "data": {
            "application/vnd.google.colaboratory.intrinsic+json": {
              "type": "string"
            },
            "text/plain": [
              "'7'"
            ]
          },
          "metadata": {},
          "execution_count": 139
        }
      ]
    },
    {
      "cell_type": "code",
      "metadata": {
        "colab": {
          "base_uri": "https://localhost:8080/"
        },
        "id": "RXLQgrIkmzCA",
        "outputId": "1d4d2384-bc0a-4a78-fcf5-f74661877936"
      },
      "source": [
        "phone_number = ''.join(re.findall(r'\\d+', phone))\n",
        "len(phone_number)"
      ],
      "execution_count": 140,
      "outputs": [
        {
          "output_type": "execute_result",
          "data": {
            "text/plain": [
              "11"
            ]
          },
          "metadata": {},
          "execution_count": 140
        }
      ]
    },
    {
      "cell_type": "code",
      "metadata": {
        "id": "JgsrVx7pmSV_"
      },
      "source": [
        "def phone_validator(phone):\n",
        "  \"\"\"\n",
        "  проверка номера сотового телефона на валидность, если он валиден, то перевод его в формат: +7-xxx-xxx-xx-xx\n",
        "  \"\"\"\n",
        "  phone_number = ''.join(re.findall(r'\\d+', phone))\n",
        "  if phone_number[0] in ['7','8'] and len(phone_number) == 11:\n",
        "      return re.sub(r'(\\d{1})(\\d{3})(\\d{3})(\\d{2})(\\d{2})', r'+7-\\2-\\3-\\4-\\5', phone_number)\n",
        "  return f'Номер не валиден'"
      ],
      "execution_count": 162,
      "outputs": []
    },
    {
      "cell_type": "code",
      "metadata": {
        "colab": {
          "base_uri": "https://localhost:8080/",
          "height": 35
        },
        "id": "DH0gcV-_tj43",
        "outputId": "f6393436-ca3a-4c62-f09e-b56feb7f9388"
      },
      "source": [
        "phone_validator('+7 955 555-55-55')"
      ],
      "execution_count": 156,
      "outputs": [
        {
          "output_type": "execute_result",
          "data": {
            "application/vnd.google.colaboratory.intrinsic+json": {
              "type": "string"
            },
            "text/plain": [
              "'+7-955-555-55-55'"
            ]
          },
          "metadata": {},
          "execution_count": 156
        }
      ]
    },
    {
      "cell_type": "code",
      "metadata": {
        "colab": {
          "base_uri": "https://localhost:8080/",
          "height": 35
        },
        "id": "M_0hbMFLt1-V",
        "outputId": "b91496d5-3ab6-4b20-f4a0-2020a151e2f3"
      },
      "source": [
        "phone_validator('8(955)555-55-55')"
      ],
      "execution_count": 157,
      "outputs": [
        {
          "output_type": "execute_result",
          "data": {
            "application/vnd.google.colaboratory.intrinsic+json": {
              "type": "string"
            },
            "text/plain": [
              "'+7-955-555-55-55'"
            ]
          },
          "metadata": {},
          "execution_count": 157
        }
      ]
    },
    {
      "cell_type": "code",
      "metadata": {
        "colab": {
          "base_uri": "https://localhost:8080/",
          "height": 35
        },
        "id": "DXElLZ63t2Gs",
        "outputId": "de76ac8b-0c30-44ab-83fa-e1e8a9531189"
      },
      "source": [
        "phone_validator('+7 955 555 55 55')"
      ],
      "execution_count": 158,
      "outputs": [
        {
          "output_type": "execute_result",
          "data": {
            "application/vnd.google.colaboratory.intrinsic+json": {
              "type": "string"
            },
            "text/plain": [
              "'+7-955-555-55-55'"
            ]
          },
          "metadata": {},
          "execution_count": 158
        }
      ]
    },
    {
      "cell_type": "code",
      "metadata": {
        "colab": {
          "base_uri": "https://localhost:8080/",
          "height": 35
        },
        "id": "neVi8FQkt2PZ",
        "outputId": "2d8efb28-b7f7-4cfe-ae25-475caca8b3a7"
      },
      "source": [
        "phone_validator('7(955) 555-55-55')"
      ],
      "execution_count": 159,
      "outputs": [
        {
          "output_type": "execute_result",
          "data": {
            "application/vnd.google.colaboratory.intrinsic+json": {
              "type": "string"
            },
            "text/plain": [
              "'+7-955-555-55-55'"
            ]
          },
          "metadata": {},
          "execution_count": 159
        }
      ]
    },
    {
      "cell_type": "code",
      "metadata": {
        "colab": {
          "base_uri": "https://localhost:8080/",
          "height": 35
        },
        "id": "rKJben-Lt2ea",
        "outputId": "f6393436-ca3a-4c62-f09e-b56feb7f9388"
      },
      "source": [
        "phone_validator('+7 955 555-55-55')"
      ],
      "execution_count": null,
      "outputs": [
        {
          "output_type": "execute_result",
          "data": {
            "application/vnd.google.colaboratory.intrinsic+json": {
              "type": "string"
            },
            "text/plain": [
              "'+7-955-555-55-55'"
            ]
          },
          "metadata": {},
          "execution_count": 156
        }
      ]
    },
    {
      "cell_type": "code",
      "metadata": {
        "colab": {
          "base_uri": "https://localhost:8080/",
          "height": 35
        },
        "id": "taYr2q5Qt2lB",
        "outputId": "6e7b33c8-7e37-44af-ff4e-040e6979c591"
      },
      "source": [
        "phone_validator('423-555-55-5555')"
      ],
      "execution_count": 160,
      "outputs": [
        {
          "output_type": "execute_result",
          "data": {
            "application/vnd.google.colaboratory.intrinsic+json": {
              "type": "string"
            },
            "text/plain": [
              "'Номер не валиден'"
            ]
          },
          "metadata": {},
          "execution_count": 160
        }
      ]
    },
    {
      "cell_type": "code",
      "metadata": {
        "colab": {
          "base_uri": "https://localhost:8080/",
          "height": 35
        },
        "id": "vOsy8Izlt2rC",
        "outputId": "8ec31e8b-aaf7-460a-aa7a-49dcec88364a"
      },
      "source": [
        "phone_validator('123-456-789')"
      ],
      "execution_count": 161,
      "outputs": [
        {
          "output_type": "execute_result",
          "data": {
            "application/vnd.google.colaboratory.intrinsic+json": {
              "type": "string"
            },
            "text/plain": [
              "'Номер не валиден'"
            ]
          },
          "metadata": {},
          "execution_count": 161
        }
      ]
    },
    {
      "cell_type": "markdown",
      "metadata": {
        "id": "2UeDTUyLV5Cz"
      },
      "source": [
        "#### ПРИМЕЧАНИЕ\n",
        "Домашнее задание сдается ссылкой на репозиторий [GitHub](https://github.com/).\n",
        "Не сможем проверить или помочь, если вы пришлете:\n",
        "- файлы;\n",
        "- архивы;\n",
        "- скриншоты кода.\n",
        "\n",
        "Все обсуждения и консультации по выполнению домашнего задания ведутся только на соответствующем канале в slack.\n",
        "\n",
        "##### Как правильно задавать вопросы аспирантам, преподавателям и коллегам\n",
        "Прежде чем задать вопрос, попробуйте найти ответ в интернете. Навык самостоятельного поиска информации — один из важнейших. Каждый практикующий специалист любого уровня делает это ежедневно.\n",
        "\n",
        "Сформулируйте вопрос по алгоритму:\n",
        "1) Что я делаю?  \n",
        "2) Какого результата я ожидаю?  \n",
        "3) Как фактический результат отличается от ожидаемого?  \n",
        "4) Что я уже попробовал сделать, чтобы исправить проблему?  \n",
        "\n",
        "По возможности прикрепите к вопросу скриншоты либо ссылки на код. Не выкладывайте все решение, оставляйте только проблемный и воспроизводимый участок кода."
      ]
    }
  ]
}