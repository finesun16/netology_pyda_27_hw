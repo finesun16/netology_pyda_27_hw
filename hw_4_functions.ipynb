{
  "nbformat": 4,
  "nbformat_minor": 0,
  "metadata": {
    "kernelspec": {
      "display_name": "Python 3",
      "language": "python",
      "name": "python3"
    },
    "language_info": {
      "codemirror_mode": {
        "name": "ipython",
        "version": 3
      },
      "file_extension": ".py",
      "mimetype": "text/x-python",
      "name": "python",
      "nbconvert_exporter": "python",
      "pygments_lexer": "ipython3",
      "version": "3.7.6"
    },
    "colab": {
      "name": "hw_4_functions.ipynb",
      "provenance": [],
      "collapsed_sections": [],
      "include_colab_link": true
    }
  },
  "cells": [
    {
      "cell_type": "markdown",
      "metadata": {
        "id": "view-in-github",
        "colab_type": "text"
      },
      "source": [
        "<a href=\"https://colab.research.google.com/github/finesun16/netology_pyda_27_hw/blob/master/hw_4_functions.ipynb\" target=\"_parent\"><img src=\"https://colab.research.google.com/assets/colab-badge.svg\" alt=\"Open In Colab\"/></a>"
      ]
    },
    {
      "cell_type": "markdown",
      "metadata": {
        "id": "auRPp1AT7nAi"
      },
      "source": [
        "# Домашнее задание к лекции \"Функции\""
      ]
    },
    {
      "cell_type": "markdown",
      "metadata": {
        "id": "k7Y-hF007nAt"
      },
      "source": [
        "Вам нужно помочь секретарю автоматизировать работу. Для этого нужно написать программу, которая будет на основе хранимых данных исполнять пользовательские команды.\n",
        "\n",
        "Исходные данные имеют следующую структуру:\n",
        "\n",
        "1. перечень всех документов\n",
        "```\n",
        "documents = [\n",
        "    {'type': 'passport', 'number': '2207 876234', 'name': 'Василий Гупкин'},\n",
        "    {'type': 'invoice', 'number': '11-2', 'name': 'Геннадий Покемонов'},\n",
        "    {'type': 'insurance', 'number': '10006', 'name': 'Аристарх Павлов'}\n",
        "]\n",
        "```\n",
        "2. перечень полок, на которых хранятся документы (если документ есть в documents, то он обязательно должен быть и в directories)\n",
        "```\n",
        "directories = {\n",
        "    '1': ['2207 876234', '11-2'],\n",
        "    '2': ['10006'],\n",
        "    '3': []\n",
        "}\n",
        "```\n",
        "\n",
        "Общие требования к программе:\n",
        "- код должен быть грамотно декомпозирован (каждая функция отвечает за свою конкретную задачу, дублирующийся функционал переиспользуется, а его код не повторяется);\n",
        "- в коде отсутствуют глобальные переменные (за исключением **documents** и **directories**);\n",
        "- пользовательский ввод обрабатывается в цикле **while** до тех пор, пока пользователь явно не завершит программу (вводом команды \"**q**\")."
      ]
    },
    {
      "cell_type": "code",
      "metadata": {
        "id": "eHSNFXlS84CN"
      },
      "source": [
        "documents = [\n",
        " {'type': 'passport', 'number': '2207 876234', 'name': 'Василий Гупкин'},\n",
        " {'type': 'invoice', 'number': '11-2', 'name': 'Геннадий Покемонов'},\n",
        " {'type': 'insurance', 'number': '10006', 'name': 'Аристарх Павлов'}\n",
        "]"
      ],
      "execution_count": 40,
      "outputs": []
    },
    {
      "cell_type": "code",
      "metadata": {
        "id": "qjJhaeZy88eF"
      },
      "source": [
        "directories = {\n",
        " '1': ['2207 876234', '11-2'],\n",
        " '2': ['10006'],\n",
        " '3': []\n",
        "}"
      ],
      "execution_count": 41,
      "outputs": []
    },
    {
      "cell_type": "markdown",
      "metadata": {
        "id": "OgM2bHkp9K8F"
      },
      "source": [
        "## Задание 1\n",
        "\n",
        "### Пункт 1. Пользователь по команде \"*p*\" может узнать владельца документа по его номеру\n",
        "\n",
        "Примеры работы:\n",
        "\n",
        "1.\n",
        "\n",
        "```\n",
        "Введите команду:\n",
        "p\n",
        "\n",
        "Введите номер документа:\n",
        "10006\n",
        "```\n",
        "Результат:  \n",
        "`Владелец документа: Аристарх Павлов`\n",
        "\n",
        "2.\n",
        "```\n",
        "Введите команду:\n",
        "p\n",
        "\n",
        "Введите номер документа:\n",
        "12345\n",
        "```\n",
        "Результат:  \n",
        "`Документ не найден в базе`\n"
      ]
    },
    {
      "cell_type": "code",
      "metadata": {
        "colab": {
          "base_uri": "https://localhost:8080/"
        },
        "id": "wwpEK4zS9PEE",
        "outputId": "1ca8fdce-3603-46a1-a8ac-da8de55077f4"
      },
      "source": [
        "# если просто поиск документа\n",
        "while True:\n",
        "    order = input('Введите команду: \\n').lower()\n",
        "    if order == 'q':\n",
        "        print('Всего хорошего')\n",
        "        break\n",
        "    elif order == 'p':\n",
        "        num_doc = input('Введите номер документа: \\n')\n",
        "        for docs in documents:\n",
        "            if num_doc == docs['number']:\n",
        "                print(f'Владелец документа: {docs[\"name\"]}')\n",
        "                break\n",
        "        else:\n",
        "            print('Документ не найден в базе')\n",
        "    else:\n",
        "        print('Неверная команда')\n"
      ],
      "execution_count": 8,
      "outputs": [
        {
          "output_type": "stream",
          "name": "stdout",
          "text": [
            "Введите команду: \n",
            "k\n",
            "Неверная команда\n",
            "Введите команду: \n",
            "p\n",
            "Введите номер документа: \n",
            "1002\n",
            "Документ не найден в базе\n",
            "Введите команду: \n",
            "p\n",
            "Введите номер документа: \n",
            "10006\n",
            "Владелец документа: Аристарх Павлов\n",
            "Введите команду: \n",
            "q\n",
            "Всего хорошего\n"
          ]
        }
      ]
    },
    {
      "cell_type": "code",
      "metadata": {
        "id": "3m51Lg91Xswa"
      },
      "source": [
        "def owner_by_document (num_doc):\n",
        "  \"\"\"\n",
        "  Функция для поиска документа в списке documents\n",
        "  Осуществляет поиск вводимого пользователем значения и при успешном совпадении вывод владельца документа\n",
        "  \"\"\"\n",
        "  for docs in documents:\n",
        "    if num_doc == docs['number']:\n",
        "      return(f'Владелец документа: {docs[\"name\"]}')\n",
        "  return(f'Документ не найден в базе')"
      ],
      "execution_count": 9,
      "outputs": []
    },
    {
      "cell_type": "code",
      "metadata": {
        "colab": {
          "base_uri": "https://localhost:8080/",
          "height": 69
        },
        "id": "sutKfJqZY_WN",
        "outputId": "75d83db1-eadc-4376-9796-876f30c76038"
      },
      "source": [
        "num_doc = input('Введите номер документа: \\n')\n",
        "\n",
        "owner_by_document (num_doc)"
      ],
      "execution_count": 10,
      "outputs": [
        {
          "name": "stdout",
          "output_type": "stream",
          "text": [
            "Введите номер документа: \n",
            "11-2\n"
          ]
        },
        {
          "output_type": "execute_result",
          "data": {
            "application/vnd.google.colaboratory.intrinsic+json": {
              "type": "string"
            },
            "text/plain": [
              "'Владелец документа: Геннадий Покемонов'"
            ]
          },
          "metadata": {},
          "execution_count": 10
        }
      ]
    },
    {
      "cell_type": "markdown",
      "metadata": {
        "id": "fJQsYYxNZ_gp"
      },
      "source": [
        "### Пункт 2. Пользователь по команде \"*s*\" может по номеру документа узнать на какой полке он хранится\n",
        "\n",
        "Примеры работы:\n",
        "\n",
        "1.\n",
        "\n",
        "```\n",
        "Введите команду:\n",
        "s\n",
        "\n",
        "Введите номер документа:\n",
        "10006\n",
        "```\n",
        "Результат:  \n",
        "`Документ хранится на полке: 2`\n",
        "\n",
        "2.\n",
        "```\n",
        "Введите команду:\n",
        "p\n",
        "\n",
        "Введите номер документа:\n",
        "12345\n",
        "```\n",
        "Результат:  \n",
        "`Документ не найден в базе`"
      ]
    },
    {
      "cell_type": "code",
      "metadata": {
        "colab": {
          "base_uri": "https://localhost:8080/"
        },
        "id": "bvwTUjaxaJPs",
        "outputId": "c3dee890-bd9f-40c8-b299-b287d71e22e3"
      },
      "source": [
        "# если просто поиск полки\n",
        "while True:\n",
        "    order = input('Введите команду: \\n').lower()\n",
        "    if order == 'q':\n",
        "        print('Всего хорошего')\n",
        "        break\n",
        "    elif order == 's':\n",
        "        num_doc = input('Введите номер документа: \\n')\n",
        "        for shelf, docs in directories.items():\n",
        "            if num_doc in docs:\n",
        "                print(f'Документ хранится на полке: {shelf}')\n",
        "                break\n",
        "        else:\n",
        "            print('Документ не найден в базе')\n",
        "    else:\n",
        "        print('Неверная команда')"
      ],
      "execution_count": 11,
      "outputs": [
        {
          "output_type": "stream",
          "name": "stdout",
          "text": [
            "Введите команду: \n",
            "p\n",
            "Неверная команда\n",
            "Введите команду: \n",
            "s\n",
            "Введите номер документа: \n",
            "11-2\n",
            "Документ хранится на полке: 1\n",
            "Введите команду: \n",
            "s\n",
            "Введите номер документа: \n",
            "1002\n",
            "Документ не найден в базе\n",
            "Введите команду: \n",
            "q\n",
            "Всего хорошего\n"
          ]
        }
      ]
    },
    {
      "cell_type": "code",
      "metadata": {
        "id": "V4vv2TUlclT8"
      },
      "source": [
        "def shelf_by_document(num_doc):\n",
        "  \"\"\"\n",
        "  Функция для поиска документа в словаре directories\n",
        "  Осуществляет поиск вводимого пользователем значения и при успешном совпадении вывод соответствующего ключа словаря\n",
        "  \"\"\"\n",
        "  for shelf, docs in directories.items():\n",
        "      if num_doc in docs:\n",
        "          return(f'полка хранения: {shelf}')\n",
        "  return('Документ не найден в базе')"
      ],
      "execution_count": 12,
      "outputs": []
    },
    {
      "cell_type": "code",
      "metadata": {
        "colab": {
          "base_uri": "https://localhost:8080/",
          "height": 69
        },
        "id": "PTMpTlxjdKox",
        "outputId": "9e249466-f403-498d-a334-25b0ad43bb70"
      },
      "source": [
        "num_doc = input('Введите номер документа: \\n')\n",
        "shelf_by_document (num_doc)"
      ],
      "execution_count": 13,
      "outputs": [
        {
          "name": "stdout",
          "output_type": "stream",
          "text": [
            "Введите номер документа: \n",
            "10006\n"
          ]
        },
        {
          "output_type": "execute_result",
          "data": {
            "application/vnd.google.colaboratory.intrinsic+json": {
              "type": "string"
            },
            "text/plain": [
              "'полка хранения: 2'"
            ]
          },
          "metadata": {},
          "execution_count": 13
        }
      ]
    },
    {
      "cell_type": "markdown",
      "metadata": {
        "id": "CHYpNYfOpREZ"
      },
      "source": [
        "### Пункт 3. Пользователь по команде \"*l*\" может увидеть полную информацию по всем документам\n",
        "\n",
        "Пример работы:\n",
        "\n",
        "```\n",
        "Введите команду:\n",
        "l\n",
        "```\n",
        "\n",
        "Результат:  \n",
        "```\n",
        "№: 2207 876234, тип: passport, владелец: Василий Гупкин, полка хранения: 1\n",
        "№: 11-2, тип: invoice, владелец: Геннадий Покемонов, полка хранения: 1\n",
        "№: 10006, тип: insurance, владелец: Аристарх Павлов, полка хранения: 2\n",
        "```\n"
      ]
    },
    {
      "cell_type": "code",
      "metadata": {
        "colab": {
          "base_uri": "https://localhost:8080/"
        },
        "id": "wP6ZbDGipShv",
        "outputId": "79b80a25-61ee-41be-e9a3-e9d00c97352f"
      },
      "source": [
        "# если просто вывод информации\n",
        "while True:\n",
        "    order = input('Введите команду: \\n').lower()\n",
        "    if order == 'q':\n",
        "        print('Всего хорошего')\n",
        "        break\n",
        "    elif order == 'l':\n",
        "        for docs in documents:\n",
        "            print(f'№ {docs[\"number\"]}, тип: {docs[\"type\"]}, владелец: {docs[\"name\"]}, {shelf_by_document(docs[\"number\"])}')  # используем созданную ранее функцию для поиска по словарю\n",
        "    else:\n",
        "        print('Неверная команда')"
      ],
      "execution_count": 14,
      "outputs": [
        {
          "output_type": "stream",
          "name": "stdout",
          "text": [
            "Введите команду: \n",
            "о\n",
            "Неверная команда\n",
            "Введите команду: \n",
            "д\n",
            "Неверная команда\n",
            "Введите команду: \n",
            "l\n",
            "№ 2207 876234, тип: passport, владелец: Василий Гупкин, полка хранения: 1\n",
            "№ 11-2, тип: invoice, владелец: Геннадий Покемонов, полка хранения: 1\n",
            "№ 10006, тип: insurance, владелец: Аристарх Павлов, полка хранения: 2\n",
            "Введите команду: \n",
            "q\n",
            "Всего хорошего\n"
          ]
        }
      ]
    },
    {
      "cell_type": "code",
      "metadata": {
        "id": "zAK9XQiUuGc7"
      },
      "source": [
        "def full_info():\n",
        "  \"\"\"\n",
        "  Функция для вывода полной информации о документах: проходит по всем значениям списка словарей documents и словаря directories\n",
        "  \"\"\"\n",
        "  for docs in documents:\n",
        "    print(f'№ {docs[\"number\"]}, тип: {docs[\"type\"]}, владелец: {docs[\"name\"]}, {shelf_by_document(docs[\"number\"])}')"
      ],
      "execution_count": 15,
      "outputs": []
    },
    {
      "cell_type": "code",
      "metadata": {
        "colab": {
          "base_uri": "https://localhost:8080/"
        },
        "id": "NGEqEpuiup62",
        "outputId": "51f258f5-03fd-41c4-8d2d-e567c9ab670a"
      },
      "source": [
        "full_info()"
      ],
      "execution_count": 16,
      "outputs": [
        {
          "output_type": "stream",
          "name": "stdout",
          "text": [
            "№ 2207 876234, тип: passport, владелец: Василий Гупкин, полка хранения: 1\n",
            "№ 11-2, тип: invoice, владелец: Геннадий Покемонов, полка хранения: 1\n",
            "№ 10006, тип: insurance, владелец: Аристарх Павлов, полка хранения: 2\n"
          ]
        }
      ]
    },
    {
      "cell_type": "markdown",
      "metadata": {
        "id": "MGit3kfVuEBi"
      },
      "source": [
        "### Пункт 4. Пользователь по команде \"*ads*\" может добавить новую полку\n",
        "\n",
        "Примеры работы:\n",
        "\n",
        "1.\n",
        "\n",
        "```\n",
        "Введите команду:\n",
        "ads\n",
        "\n",
        "Введите номер полки:\n",
        "10\n",
        "```\n",
        "Результат:  \n",
        "`Полка добавлена. Текущий перечень полок: 1, 2, 3, 10.`\n",
        "\n",
        "2.\n",
        "```\n",
        "Введите команду:\n",
        "ads\n",
        "\n",
        "Введите номер полки:\n",
        "1\n",
        "```\n",
        "Результат:  \n",
        "`Такая полка уже существует. Текущий перечень полок: 1, 2, 3.`"
      ]
    },
    {
      "cell_type": "code",
      "metadata": {
        "colab": {
          "base_uri": "https://localhost:8080/"
        },
        "id": "Ry93zCUnuQqp",
        "outputId": "448945b3-7790-4934-d118-4d5c59bd9b58"
      },
      "source": [
        "# если просто отработка по команде ads с проверкой команды\n",
        "while True:\n",
        "    order = input('Введите команду: \\n').lower()\n",
        "    if order == 'q':\n",
        "        print('Всего хорошего')\n",
        "        break\n",
        "    elif order == 'ads':\n",
        "        new_num_shelf = input('Введите номер полки: \\n')\n",
        "        if new_num_shelf not in directories:\n",
        "                directories[new_num_shelf] = []\n",
        "                print (f'Полка добавлена. Текущий перечень полок: {\" \".join(list(directories))}')\n",
        "        else:\n",
        "                print(f'Такая полка уже существует. Текущий перечень полок: {\" \".join(list(directories))}')\n",
        "    else:\n",
        "        print('Неверная команда')"
      ],
      "execution_count": 17,
      "outputs": [
        {
          "output_type": "stream",
          "name": "stdout",
          "text": [
            "Введите команду: \n",
            "h\n",
            "Неверная команда\n",
            "Введите команду: \n",
            "asd\n",
            "Неверная команда\n",
            "Введите команду: \n",
            "ads\n",
            "Введите номер полки: \n",
            "5\n",
            "Полка добавлена. Текущий перечень полок: 1 2 3 5\n",
            "Введите команду: \n",
            "s\n",
            "Неверная команда\n",
            "Введите команду: \n",
            "ads\n",
            "Введите номер полки: \n",
            "1\n",
            "Такая полка уже существует. Текущий перечень полок: 1 2 3 5\n",
            "Введите команду: \n",
            "q\n",
            "Всего хорошего\n"
          ]
        }
      ]
    },
    {
      "cell_type": "code",
      "metadata": {
        "id": "fF92fO7q0B-j"
      },
      "source": [
        "def add_shelf(new_num_shelf):\n",
        "    \"\"\"\n",
        "    Функция для добавления новой полки - нового ключа с пустым значением в словарь directories\n",
        "    \"\"\"\n",
        "    if new_num_shelf not in directories:\n",
        "        directories[new_num_shelf] = []\n",
        "        return(f'Полка добавлена. Текущий перечень полок: {\" \".join(list(directories))}')\n",
        "    return(f'Такая полка уже существует. Текущий перечень полок: {\" \".join(list(directories))}')"
      ],
      "execution_count": 18,
      "outputs": []
    },
    {
      "cell_type": "code",
      "metadata": {
        "colab": {
          "base_uri": "https://localhost:8080/",
          "height": 69
        },
        "id": "ALZeQ9bsEitZ",
        "outputId": "91e56af7-0c9a-4941-e3fc-6114a94f02bf"
      },
      "source": [
        "new_num_shelf = input('Введите номер полки: \\n')\n",
        "add_shelf (new_num_shelf)"
      ],
      "execution_count": 19,
      "outputs": [
        {
          "name": "stdout",
          "output_type": "stream",
          "text": [
            "Введите номер полки: \n",
            "5\n"
          ]
        },
        {
          "output_type": "execute_result",
          "data": {
            "application/vnd.google.colaboratory.intrinsic+json": {
              "type": "string"
            },
            "text/plain": [
              "'Такая полка уже существует. Текущий перечень полок: 1 2 3 5'"
            ]
          },
          "metadata": {},
          "execution_count": 19
        }
      ]
    },
    {
      "cell_type": "markdown",
      "metadata": {
        "id": "T3X6EB8v7nAx"
      },
      "source": [
        "### Пункт 5. Пользователь по команде \"*ds*\" может удалить существующую полку из данных (только если она пустая)\n",
        "\n",
        "Примеры работы:\n",
        "\n",
        "1.\n",
        "\n",
        "```\n",
        "Введите команду:\n",
        "ds\n",
        "\n",
        "Введите номер полки:\n",
        "3\n",
        "```\n",
        "Результат:  \n",
        "`Полка удалена. Текущий перечень полок: 1, 2.`\n",
        "\n",
        "2.\n",
        "```\n",
        "Введите команду:\n",
        "ds\n",
        "\n",
        "Введите номер полки:\n",
        "1\n",
        "```\n",
        "Результат:  \n",
        "`На полке есть документа, удалите их перед удалением полки. Текущий перечень полок: 1, 2, 3.`\n",
        "\n",
        "3.\n",
        "```\n",
        "Введите команду:\n",
        "ds\n",
        "\n",
        "Введите номер полки:\n",
        "4\n",
        "```\n",
        "Результат:  \n",
        "`Такой полки не существует. Текущий перечень полок: 1, 2, 3.`"
      ]
    },
    {
      "cell_type": "code",
      "metadata": {
        "colab": {
          "base_uri": "https://localhost:8080/"
        },
        "id": "Tm5ZGkR6E3yu",
        "outputId": "596305e3-387b-4877-d9e0-e005fcc2ddcc"
      },
      "source": [
        "# если просто отработка по команде ds с проверкой команды\n",
        "while True:\n",
        "    order = input('Введите команду: \\n').lower()\n",
        "    if order == 'q':\n",
        "        print('Всего хорошего')\n",
        "        break\n",
        "    elif order == 'ds':\n",
        "        num_shelf = input('Введите номер полки: \\n')\n",
        "        if num_shelf not in directories:\n",
        "            print (f'Такой полки не существует. Текущий перечень полок: {\" \".join(list(directories))}')\n",
        "        else:\n",
        "            if directories[num_shelf] != []:\n",
        "                print(f'На полке есть документы, удалите их перед удалением полки. Текущий перечень полок: {\" \".join(list(directories))}')\n",
        "            else:\n",
        "                del directories[num_shelf]\n",
        "                print(f'Полка удалена. Текущий перечень полок: {\" \".join(list(directories))}')\n",
        "    else:\n",
        "        print('Неверная команда')"
      ],
      "execution_count": 21,
      "outputs": [
        {
          "output_type": "stream",
          "name": "stdout",
          "text": [
            "Введите команду: \n",
            "k\n",
            "Неверная команда\n",
            "Введите команду: \n",
            "ds\n",
            "Введите номер полки: \n",
            "10\n",
            "Такой полки не существует. Текущий перечень полок: 1 2 3 5\n",
            "Введите команду: \n",
            "ds\n",
            "Введите номер полки: \n",
            "5\n",
            "Полка удалена. Текущий перечень полок: 1 2 3\n",
            "Введите команду: \n",
            "ds\n",
            "Введите номер полки: \n",
            "1\n",
            "На полке есть документы, удалите их перед удалением полки. Текущий перечень полок: 1 2 3\n",
            "Введите команду: \n",
            "q\n",
            "Всего хорошего\n"
          ]
        }
      ]
    },
    {
      "cell_type": "code",
      "metadata": {
        "id": "-Dup30sEcxbS"
      },
      "source": [
        "def del_shelf(num_shelf):\n",
        "    \"\"\"\n",
        "    Функция для удаления полки  если она пустая - проверка на наличие ключа в словаре directories и не пустого знаяения по данному ключу\n",
        "    \"\"\"\n",
        "    if num_shelf  in directories:\n",
        "      if directories[num_shelf] != []:\n",
        "         return(f'На полке есть документы, удалите их перед удалением полки. Текущий перечень полок: {\" \".join(list(directories))}')\n",
        "      else:\n",
        "         del directories[num_shelf]\n",
        "         return(f'Полка удалена. Текущий перечень полок: {\" \".join(list(directories))}')\n",
        "    return(f'Такой полки не существует. Текущий перечень полок: {\" \".join(list(directories))}')\n",
        "        "
      ],
      "execution_count": 22,
      "outputs": []
    },
    {
      "cell_type": "code",
      "metadata": {
        "colab": {
          "base_uri": "https://localhost:8080/",
          "height": 69
        },
        "id": "hcCBKZmefJkx",
        "outputId": "b167126e-2ce6-4c1a-f017-f33cb91710f1"
      },
      "source": [
        "num_shelf = input('Введите номер полки: \\n')\n",
        "del_shelf(num_shelf)"
      ],
      "execution_count": 24,
      "outputs": [
        {
          "name": "stdout",
          "output_type": "stream",
          "text": [
            "Введите номер полки: \n",
            "1\n"
          ]
        },
        {
          "output_type": "execute_result",
          "data": {
            "application/vnd.google.colaboratory.intrinsic+json": {
              "type": "string"
            },
            "text/plain": [
              "'На полке есть документы, удалите их перед удалением полки. Текущий перечень полок: 1 2 3'"
            ]
          },
          "metadata": {},
          "execution_count": 24
        }
      ]
    },
    {
      "cell_type": "markdown",
      "metadata": {
        "id": "Eq6nqf9MFF3X"
      },
      "source": [
        "## Задание 2 (необязательное)\n",
        "\n",
        "Вам необходимо дополнить программу из задания 1 более продвинутыми командами.\n",
        "\n",
        "### Пункт 1. Пользователь по команде \"*ad*\" может добавить новый документ в данные\n",
        "\n",
        "Примеры работы:\n",
        "\n",
        "1.\n",
        "\n",
        "```\n",
        "Введите команду:\n",
        "ad\n",
        "\n",
        "Введите номер документа:\n",
        "42\n",
        "Введите тип документа:\n",
        "multipassport\n",
        "Введите владельца документа:\n",
        "R2D2\n",
        "Введите полку для хранения:\n",
        "3\n",
        "```\n",
        "Результат:  \n",
        "```\n",
        "Документ добавлен. Текущий список документов:\n",
        "№: 2207 876234, тип: passport, владелец: Василий Гупкин, полка хранения: 1\n",
        "№: 11-2, тип: invoice, владелец: Геннадий Покемонов, полка хранения: 1\n",
        "№: 10006, тип: insurance, владелец: Аристарх Павлов, полка хранения: 2\n",
        "№: 42, тип: multipassport, владелец: R2D2, полка хранения: 3\n",
        "```\n",
        "\n",
        "2.\n",
        "```\n",
        "Введите команду:\n",
        "ad\n",
        "\n",
        "Введите номер документа:\n",
        "42\n",
        "Введите тип документа:\n",
        "multipassport\n",
        "Введите владельца документа:\n",
        "R2D2\n",
        "Введите полку для хранения:\n",
        "4\n",
        "```\n",
        "Результат:  \n",
        "```\n",
        "Такой полки не существует. Добавьте полку командой as. \n",
        "Текущий список документов:\n",
        "№: 2207 876234, тип: passport, владелец: Василий Гупкин, полка хранения: 1\n",
        "№: 11-2, тип: invoice, владелец: Геннадий Покемонов, полка хранения: 1\n",
        "№: 10006, тип: insurance, владелец: Аристарх Павлов, полка хранения: 2\n",
        "```"
      ]
    },
    {
      "cell_type": "code",
      "metadata": {
        "colab": {
          "base_uri": "https://localhost:8080/"
        },
        "id": "ha0_OkgxFNAP",
        "outputId": "22feba84-46d9-410d-f5ca-db0ebf51a0e7"
      },
      "source": [
        "# если просто отработка по команде ad с проверкой команды\n",
        "while True:\n",
        "    order = input('Введите команду: \\n').lower()\n",
        "    if order == 'q':\n",
        "        print('Всего хорошего')\n",
        "        break\n",
        "    elif order == 'ad':\n",
        "        new_num_doc = input('Введите номер документа: \\n')\n",
        "        if new_num_doc in [doc for doc_list in [values for values in directories.values()] for doc in doc_list]:\n",
        "            print(f'такой документ уже существует')\n",
        "        else:\n",
        "            new_type_doc = input('Введите тип документа: \\n')\n",
        "            new_owner_doc = input('Введите владельца документа: \\n')\n",
        "            num_shelf = input('Введите полку для хранения: \\n')\n",
        "            \n",
        "            if num_shelf not in directories:\n",
        "                print (f'Такой полки не существует. Добавьте полку командой as.')\n",
        "                print (f'Текущий список документов:')\n",
        "                full_info()\n",
        "            else:\n",
        "                directories[num_shelf] += [new_num_doc]\n",
        "                documents.append({'type': new_type_doc, 'number': new_num_doc, 'name': new_owner_doc})\n",
        "                print(f'Документ добавлен. Текущий список документов:')\n",
        "                full_info()\n",
        "    else:\n",
        "        print('Неверная команда')"
      ],
      "execution_count": 48,
      "outputs": [
        {
          "output_type": "stream",
          "name": "stdout",
          "text": [
            "Введите команду: \n",
            "ad\n",
            "Введите номер документа: \n",
            "456\n",
            "такой документ уже существует\n",
            "Введите команду: \n",
            "ad\n",
            "Введите номер документа: \n",
            "789\n",
            "Введите тип документа: \n",
            "instruction\n",
            "Введите владельца документа: \n",
            "C3PO\n",
            "Введите полку для хранения: \n",
            "2\n",
            "Документ добавлен. Текущий список документов:\n",
            "№ 2207 876234, тип: passport, владелец: Василий Гупкин, полка хранения: 1\n",
            "№ 11-2, тип: invoice, владелец: Геннадий Покемонов, полка хранения: 1\n",
            "№ 10006, тип: insurance, владелец: Аристарх Павлов, полка хранения: 2\n",
            "№ 456, тип: multy, владелец: r2d2, полка хранения: 3\n",
            "№ 789, тип: instruction, владелец: C3PO, полка хранения: 2\n",
            "Введите команду: \n",
            "q\n",
            "Всего хорошего\n"
          ]
        }
      ]
    },
    {
      "cell_type": "code",
      "metadata": {
        "id": "FfoSK_vbcy2v"
      },
      "source": [
        "def add_docs(new_num_doc):\n",
        "    \"\"\"\n",
        "    Функция для добавления нового документа - осуществляется проверка на наличие документа и на возможность  положить его в хранилище\n",
        "    \"\"\"\n",
        "    if new_num_doc not in [doc for doc_list in [values for values in directories.values()] for doc in doc_list]:\n",
        "        new_type_doc = input('Введите тип документа: \\n')\n",
        "        new_owner_doc = input('Введите владельца документа: \\n')\n",
        "        num_shelf = input('Введите полку для хранения: \\n')\n",
        "            \n",
        "        if num_shelf not in directories:\n",
        "            return print(f'Такой полки не существует. Добавьте полку командой as. \\nТекущий список документов: '), full_info()\n",
        "        directories[num_shelf] += [new_num_doc]\n",
        "        documents.append({'type': new_type_doc, 'number': new_num_doc, 'name': new_owner_doc})\n",
        "        return print(f'Документ добавлен. Текущий список документов:'), full_info()\n",
        "\n",
        "    return print(f'Такой документ уже существует. Текущий список документов:'),full_info()"
      ],
      "execution_count": 66,
      "outputs": []
    },
    {
      "cell_type": "code",
      "metadata": {
        "colab": {
          "base_uri": "https://localhost:8080/"
        },
        "id": "XmH0cyfIgmam",
        "outputId": "013a2ea0-cbc5-4451-b2ea-3d083456a4b8"
      },
      "source": [
        "new_num_doc = input('Введите номер документа: \\n')\n",
        "add_docs (new_num_doc)"
      ],
      "execution_count": 65,
      "outputs": [
        {
          "output_type": "stream",
          "name": "stdout",
          "text": [
            "Введите номер документа: \n",
            "4785\n",
            "Введите тип документа: \n",
            "ghk\n",
            "Введите владельца документа: \n",
            "гне\n",
            "Введите полку для хранения: \n",
            "5\n",
            "Такой полки не существует. Добавьте полку командой as. \n",
            "Текущий список документов: \n",
            "№ 2207 876234, тип: passport, владелец: Василий Гупкин, полка хранения: 1\n",
            "№ 11-2, тип: invoice, владелец: Геннадий Покемонов, полка хранения: 1\n",
            "№ 10006, тип: insurance, владелец: Аристарх Павлов, полка хранения: 2\n",
            "№ 456, тип: multy, владелец: r2d2, полка хранения: 3\n",
            "№ 789, тип: instruction, владелец: C3PO, полка хранения: 2\n"
          ]
        },
        {
          "output_type": "execute_result",
          "data": {
            "text/plain": [
              "(None, None)"
            ]
          },
          "metadata": {},
          "execution_count": 65
        }
      ]
    },
    {
      "cell_type": "code",
      "metadata": {
        "colab": {
          "base_uri": "https://localhost:8080/"
        },
        "id": "mtm8H4HrNpdK",
        "outputId": "fce18e16-6466-4912-d4ad-8c09205e85c9"
      },
      "source": [
        "full_info()"
      ],
      "execution_count": 46,
      "outputs": [
        {
          "output_type": "stream",
          "name": "stdout",
          "text": [
            "№ 2207 876234, тип: passport, владелец: Василий Гупкин, полка хранения: 1\n",
            "№ 11-2, тип: invoice, владелец: Геннадий Покемонов, полка хранения: 1\n",
            "№ 10006, тип: insurance, владелец: Аристарх Павлов, полка хранения: 2\n",
            "№ 456, тип: multy, владелец: r2d2, полка хранения: 3\n"
          ]
        }
      ]
    },
    {
      "cell_type": "markdown",
      "metadata": {
        "id": "qjzBymuckWrY"
      },
      "source": [
        "\n",
        "### Пункт 2. Пользователь по команде \"*d*\" может удалить документ из данных\n",
        "\n",
        "Примеры работы:\n",
        "\n",
        "1.\n",
        "\n",
        "```\n",
        "Введите команду:\n",
        "d\n",
        "\n",
        "Введите номер документа:\n",
        "10006\n",
        "```\n",
        "Результат:  \n",
        "```\n",
        "Документ удален. \n",
        "Текущий список документов:\n",
        "№: 2207 876234, тип: passport, владелец: Василий Гупкин, полка хранения: 1\n",
        "№: 11-2, тип: invoice, владелец: Геннадий Покемонов, полка хранения: 1\n",
        "```\n",
        "\n",
        "2.\n",
        "```\n",
        "Введите команду:\n",
        "d\n",
        "\n",
        "Введите номер документа:\n",
        "123456\n",
        "```\n",
        "Результат:  \n",
        "```\n",
        "Документ не найден в базе. \n",
        "Текущий список документов:\n",
        "№: 2207 876234, тип: passport, владелец: Василий Гупкин, полка хранения: 1\n",
        "№: 11-2, тип: invoice, владелец: Геннадий Покемонов, полка хранения: 1\n",
        "№: 10006, тип: insurance, владелец: Аристарх Павлов, полка хранения: 2\n",
        "```\n"
      ]
    },
    {
      "cell_type": "code",
      "metadata": {
        "id": "qq3f0vZ4kZsI"
      },
      "source": [
        "def del_docs(num_doc):\n",
        "    \"\"\"\n",
        "    Функция для удаления документа - осуществляется проверка на наличие документа и удаление его в списке documents и словаре directories\n",
        "    \"\"\"\n",
        "    for shelf, docs in directories.items():\n",
        "        if num_doc in docs:\n",
        "           docs.remove(num_doc)\n",
        "    for doc in documents:\n",
        "        if num_doc == doc['number']:\n",
        "          documents.remove(doc)\n",
        "          return print(f'Документ удален. \\nТекущий список документов: '), full_info()\n",
        "\n",
        "    return print(f'Документ не найден в базе. \\nТекущий список документов:'),full_info()"
      ],
      "execution_count": 71,
      "outputs": []
    },
    {
      "cell_type": "code",
      "metadata": {
        "colab": {
          "base_uri": "https://localhost:8080/"
        },
        "id": "GS5Ej4-6n_7k",
        "outputId": "29eba103-6f2f-42ca-d3fc-4f157fc0e0ea"
      },
      "source": [
        "num_doc = input('Введите номер документа: \\n')\n",
        "del_docs (num_doc)"
      ],
      "execution_count": 73,
      "outputs": [
        {
          "output_type": "stream",
          "name": "stdout",
          "text": [
            "Введите номер документа: \n",
            "11-2\n",
            "Документ удален. \n",
            "Текущий список документов: \n",
            "№ 2207 876234, тип: passport, владелец: Василий Гупкин, полка хранения: 1\n",
            "№ 10006, тип: insurance, владелец: Аристарх Павлов, полка хранения: 2\n",
            "№ 456, тип: multy, владелец: r2d2, полка хранения: 3\n",
            "№ 789, тип: instruction, владелец: C3PO, полка хранения: 2\n"
          ]
        },
        {
          "output_type": "execute_result",
          "data": {
            "text/plain": [
              "(None, None)"
            ]
          },
          "metadata": {},
          "execution_count": 73
        }
      ]
    },
    {
      "cell_type": "markdown",
      "metadata": {
        "id": "WEpV-9bv7nA2"
      },
      "source": [
        "\n",
        "\n",
        "### Пункт 3. Пользователь по команде \"*m*\" может переместить документ с полки на полку\n",
        "\n",
        "Примеры работы:\n",
        "\n",
        "1.\n",
        "\n",
        "```\n",
        "Введите команду:\n",
        "m\n",
        "\n",
        "Введите номер документа:\n",
        "11-2\n",
        "Введите номер полки:\n",
        "3\n",
        "```\n",
        "Результат:  \n",
        "```\n",
        "Документ перемещен. \n",
        "Текущий список документов:\n",
        "№: 2207 876234, тип: passport, владелец: Василий Гупкин, полка хранения: 1\n",
        "№: 11-2, тип: invoice, владелец: Геннадий Покемонов, полка хранения: 3\n",
        "№: 10006, тип: insurance, владелец: Аристарх Павлов, полка хранения: 2\n",
        "```\n",
        "\n",
        "2.\n",
        "```\n",
        "Введите команду:\n",
        "m\n",
        "\n",
        "Введите номер документа:\n",
        "11-2\n",
        "Введите номер полки:\n",
        "10\n",
        "```\n",
        "Результат:  \n",
        "`Такой полки не существует. Текущий перечень полок: 1, 2, 3.`\n",
        "\n",
        "3.\n",
        "```\n",
        "Введите команду:\n",
        "m\n",
        "\n",
        "Введите номер документа:\n",
        "42\n",
        "Введите номер полки:\n",
        "2\n",
        "```\n",
        "Результат:  \n",
        "```\n",
        "Документ не найден в базе. \n",
        "Текущий список документов:\n",
        "№: 2207 876234, тип: passport, владелец: Василий Гупкин, полка хранения: 1\n",
        "№: 11-2, тип: invoice, владелец: Геннадий Покемонов, полка хранения: 1\n",
        "№: 10006, тип: insurance, владелец: Аристарх Павлов, полка хранения: 2\n",
        "```"
      ]
    },
    {
      "cell_type": "code",
      "metadata": {
        "id": "8fKb5XxYoxa7"
      },
      "source": [
        "def move_docs(num_doc, num_shelf):\n",
        "    \"\"\"\n",
        "    Функция для перемещения документа в хранилище- осуществляется проверка на наличие документа в значениях словаря directories  и полки(ключа в данном словаре) и перемещение\n",
        "    \"\"\"\n",
        "    if num_shelf not in directories:\n",
        "        return (f'Такой полки не существует. Текущий перечень полок: {\" \".join(list(directories))} ')\n",
        "\n",
        "    for shelf, docs in directories.items():\n",
        "        if num_doc in docs:\n",
        "            docs.remove(num_doc)\n",
        "            directories[num_shelf] += [num_doc]\n",
        "            return print(f'Документ перемещен. \\nТекущий список документов: '), full_info()\n",
        "            return print(f'Документ не найден в базе. \\nТекущий список документов:'), full_info()"
      ],
      "execution_count": 112,
      "outputs": []
    },
    {
      "cell_type": "code",
      "metadata": {
        "colab": {
          "base_uri": "https://localhost:8080/"
        },
        "id": "EUj-YBGTrAYr",
        "outputId": "ff45bece-0cd3-49fd-87cf-b46b08fba448"
      },
      "source": [
        "num_doc = input('Введите номер документа, который хотите переместить: \\n')\n",
        "num_shelf = input(\"Введите номер полки на которую хотите переместить документ: \")\n",
        "move_docs (num_doc, num_shelf)"
      ],
      "execution_count": 114,
      "outputs": [
        {
          "output_type": "stream",
          "name": "stdout",
          "text": [
            "Введите номер документа, который хотите переместить: \n",
            "456\n",
            "Введите номер полки на которую хотите переместить документ: 3\n",
            "456 3 3\n",
            "Документ перемещен. \n",
            "Текущий список документов: \n",
            "№ 2207 876234, тип: passport, владелец: Василий Гупкин, полка хранения: 1\n",
            "№ 10006, тип: insurance, владелец: Аристарх Павлов, полка хранения: 2\n",
            "№ 456, тип: multy, владелец: r2d2, полка хранения: 3\n",
            "№ 789, тип: instruction, владелец: C3PO, полка хранения: 2\n"
          ]
        },
        {
          "output_type": "execute_result",
          "data": {
            "text/plain": [
              "(None, None)"
            ]
          },
          "metadata": {},
          "execution_count": 114
        }
      ]
    },
    {
      "cell_type": "code",
      "metadata": {
        "colab": {
          "base_uri": "https://localhost:8080/"
        },
        "id": "gr5Y03j9N8n0",
        "outputId": "da49542c-6ea4-41fb-dec3-36e20429c533"
      },
      "source": [
        "from pprint import pprint\n",
        "pprint(documents)\n",
        "pprint(directories)"
      ],
      "execution_count": 115,
      "outputs": [
        {
          "output_type": "stream",
          "name": "stdout",
          "text": [
            "[{'name': 'Василий Гупкин', 'number': '2207 876234', 'type': 'passport'},\n",
            " {'name': 'Аристарх Павлов', 'number': '10006', 'type': 'insurance'},\n",
            " {'name': 'r2d2', 'number': '456', 'type': 'multy'},\n",
            " {'name': 'C3PO', 'number': '789', 'type': 'instruction'}]\n",
            "{'1': ['2207 876234'], '2': ['10006', '789'], '3': ['456']}\n"
          ]
        }
      ]
    },
    {
      "cell_type": "code",
      "metadata": {
        "id": "i9lc1yMr0SYA"
      },
      "source": [
        "# реализуем главную функцию\n",
        "def main(instruction):\n",
        "    if instruction == 'p':\n",
        "        num_doc = input('Введите номер документа: \\n')\n",
        "        print(owner_by_document (num_doc))\n",
        "    elif instruction == 'l':\n",
        "        full_info()\n",
        "    elif instruction == 's':\n",
        "        num_doc = input('Введите номер документа, чтобы узнать на какой он полке: \\n')\n",
        "        print(shelf_by_document (num_doc))\n",
        "    elif instruction == 'ads':\n",
        "        new_num_shelf = input('Введите номер полки, которую хотите добавить: \\n')\n",
        "        print(add_shelf(new_num_shelf))\n",
        "    elif instruction == 'ds':\n",
        "        num_shelf = input('Введите номер полки, которую хотите удалить: \\n')\n",
        "        print(del_shelf(num_shelf))\n",
        "    elif instruction == 'ad':\n",
        "        new_num_doc = input('Введите номер документа, который хотите добавить: \\n')\n",
        "        add_docs (new_num_doc)\n",
        "    elif instruction == 'd':\n",
        "        num_doc = input('Введите номер документа? который хотите удалить: \\n')\n",
        "        del_docs (num_doc)\n",
        "    elif instruction == 'm':\n",
        "        num_doc = input('Введите номер документа, который хотите переместить: \\n')\n",
        "        num_shelf = input(\"Введите номер полки на которую хотите переместить документ: \")\n",
        "        move_docs(num_doc, num_shelf)        \n",
        "    else:\n",
        "        print('Введена не верная команда.')"
      ],
      "execution_count": 139,
      "outputs": []
    },
    {
      "cell_type": "code",
      "metadata": {
        "colab": {
          "base_uri": "https://localhost:8080/"
        },
        "id": "bM4TNw-10rt7",
        "outputId": "a3d96894-914c-40a6-ba06-830c707295b8"
      },
      "source": [
        "while True:\n",
        "    instruction = input ('\\nВведите команду: ').lower()\n",
        "    if instruction == 'q':\n",
        "        complete_info()\n",
        "        break\n",
        "    else:\n",
        "        main(instruction)"
      ],
      "execution_count": null,
      "outputs": [
        {
          "output_type": "stream",
          "name": "stdout",
          "text": [
            "\n",
            "Введите команду: ь\n",
            "Введена не верная команда.\n",
            "\n",
            "Введите команду: m\n",
            "Введите номер документа, который хотите переместить: \n",
            "236\n",
            "Введите номер полки на которую хотите переместить документ: 1\n",
            "Документ перемещен. \n",
            "Текущий список документов: \n",
            "№ 2207 876234, тип: passport, владелец: Василий Гупкин, полка хранения: 1\n",
            "№ 10006, тип: insurance, владелец: Аристарх Павлов, полка хранения: 2\n",
            "№ 456, тип: multy, владелец: r2d2, полка хранения: 3\n",
            "№ 789, тип: instruction, владелец: C3PO, полка хранения: 2\n",
            "№ 236, тип: lime, владелец: limon, полка хранения: 1\n"
          ]
        }
      ]
    },
    {
      "cell_type": "markdown",
      "metadata": {
        "id": "Xq6udMyS7nA7"
      },
      "source": [
        "#### ПРИМЕЧАНИЕ\n",
        "Домашнее задание сдается ссылкой [Google Colab](https://colab.research.google.com/).\n",
        "Не сможем проверить или помочь, если вы пришлете:\n",
        "- файлы;\n",
        "- архивы;\n",
        "- скриншоты кода.\n",
        "\n",
        "Все обсуждения и консультации по выполнению домашнего задания ведутся только на соответствующем канале в slack.\n",
        "\n",
        "##### Как правильно задавать вопросы аспирантам, преподавателям и коллегам\n",
        "Прежде чем задать вопрос, попробуйте найти ответ в интернете. Навык самостоятельного поиска информации — один из важнейших. Каждый практикующий специалист любого уровня делает это ежедневно.\n",
        "\n",
        "Сформулируйте вопрос по алгоритму:  \n",
        "1) Что я делаю?  \n",
        "2) Какого результата я ожидаю?  \n",
        "3) Как фактический результат отличается от ожидаемого?  \n",
        "4) Что я уже попробовал сделать, чтобы исправить проблему?  \n",
        "\n",
        "По возможности прикрепите к вопросу скриншоты либо ссылки на код. Не выкладывайте все решение, оставляйте только проблемный и воспроизводимый участок кода."
      ]
    }
  ]
}