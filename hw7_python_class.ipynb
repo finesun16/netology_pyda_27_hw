{
  "nbformat": 4,
  "nbformat_minor": 0,
  "metadata": {
    "colab": {
      "name": "hw7_python_class.ipynb",
      "provenance": [],
      "collapsed_sections": [],
      "mount_file_id": "1D7P5973iVMnLPuiuxKxaWXF1Vw-QYX9t",
      "authorship_tag": "ABX9TyODrq9pKOAYWsNrFQ7GXIsJ",
      "include_colab_link": true
    },
    "kernelspec": {
      "name": "python3",
      "display_name": "Python 3"
    },
    "language_info": {
      "name": "python"
    }
  },
  "cells": [
    {
      "cell_type": "markdown",
      "metadata": {
        "id": "view-in-github",
        "colab_type": "text"
      },
      "source": [
        "<a href=\"https://colab.research.google.com/github/finesun16/netology_pyda_27_hw/blob/master/hw7_python_class.ipynb\" target=\"_parent\"><img src=\"https://colab.research.google.com/assets/colab-badge.svg\" alt=\"Open In Colab\"/></a>"
      ]
    },
    {
      "cell_type": "code",
      "metadata": {
        "id": "RxytgSH4UWV5"
      },
      "source": [
        "import sys\n",
        "import os\n",
        "import json\n",
        "import requests\n",
        "from pprint import pprint"
      ],
      "execution_count": 35,
      "outputs": []
    },
    {
      "cell_type": "code",
      "metadata": {
        "colab": {
          "base_uri": "https://localhost:8080/"
        },
        "id": "bBilakHMXETc",
        "outputId": "d6ff584f-5eca-41cb-eb90-1e67f130f90b"
      },
      "source": [
        "sys.path"
      ],
      "execution_count": 16,
      "outputs": [
        {
          "output_type": "execute_result",
          "data": {
            "text/plain": [
              "['',\n",
              " '/content',\n",
              " '/env/python',\n",
              " '/usr/lib/python37.zip',\n",
              " '/usr/lib/python3.7',\n",
              " '/usr/lib/python3.7/lib-dynload',\n",
              " '/usr/local/lib/python3.7/dist-packages',\n",
              " '/usr/lib/python3/dist-packages',\n",
              " '/usr/local/lib/python3.7/dist-packages/IPython/extensions',\n",
              " '/root/.ipython',\n",
              " 'drive/MyDrive/Colab Notebooks/netology_pyda27_hw/libs',\n",
              " '/drive/MyDrive/Colab Notebooks/netology_pyda27_hw/libs']"
            ]
          },
          "metadata": {},
          "execution_count": 16
        }
      ]
    },
    {
      "cell_type": "code",
      "metadata": {
        "id": "7GK590_eaOff"
      },
      "source": [
        "for root, directory, file in os.walk('drive'):\n",
        "    print(root, directory, file)"
      ],
      "execution_count": null,
      "outputs": []
    },
    {
      "cell_type": "code",
      "metadata": {
        "id": "HRIvtKLaXDQw"
      },
      "source": [
        "sys.path.append('/drive/MyDrive/Colab Notebooks/netology_pyda27_hw/libs')"
      ],
      "execution_count": 15,
      "outputs": []
    },
    {
      "cell_type": "code",
      "metadata": {
        "id": "jhX4-bXeY-E6"
      },
      "source": [
        "from exchange import Rate"
      ],
      "execution_count": 18,
      "outputs": []
    },
    {
      "cell_type": "code",
      "metadata": {
        "colab": {
          "base_uri": "https://localhost:8080/"
        },
        "id": "25v8HuDkYviN",
        "outputId": "be4307ce-727a-4436-d15a-45b21fe0dc81"
      },
      "source": [
        "Rate().usd()"
      ],
      "execution_count": 19,
      "outputs": [
        {
          "output_type": "execute_result",
          "data": {
            "text/plain": [
              "71.8118"
            ]
          },
          "metadata": {},
          "execution_count": 19
        }
      ]
    },
    {
      "cell_type": "code",
      "metadata": {
        "id": "SxPdtEKSl6SU"
      },
      "source": [
        "a = Rate('full')"
      ],
      "execution_count": 45,
      "outputs": []
    },
    {
      "cell_type": "code",
      "metadata": {
        "colab": {
          "base_uri": "https://localhost:8080/"
        },
        "id": "BZ16s8QTmCrS",
        "outputId": "f71ce43d-45d2-44c8-8bad-03b87c6e14b3"
      },
      "source": [
        "a.usd()"
      ],
      "execution_count": 49,
      "outputs": [
        {
          "output_type": "execute_result",
          "data": {
            "text/plain": [
              "{'CharCode': 'USD',\n",
              " 'ID': 'R01235',\n",
              " 'Name': 'Доллар США',\n",
              " 'Nominal': 1,\n",
              " 'NumCode': '840',\n",
              " 'Previous': 71.1964,\n",
              " 'Value': 71.8118}"
            ]
          },
          "metadata": {},
          "execution_count": 49
        }
      ]
    },
    {
      "cell_type": "code",
      "metadata": {
        "colab": {
          "base_uri": "https://localhost:8080/"
        },
        "id": "ipf-WCkbmTlH",
        "outputId": "27c598c6-8213-4c07-ba52-aafd743e1ce8"
      },
      "source": [
        "a.make_format('USD')"
      ],
      "execution_count": 51,
      "outputs": [
        {
          "output_type": "execute_result",
          "data": {
            "text/plain": [
              "{'CharCode': 'USD',\n",
              " 'ID': 'R01235',\n",
              " 'Name': 'Доллар США',\n",
              " 'Nominal': 1,\n",
              " 'NumCode': '840',\n",
              " 'Previous': 71.1964,\n",
              " 'Value': 71.8118}"
            ]
          },
          "metadata": {},
          "execution_count": 51
        }
      ]
    },
    {
      "cell_type": "markdown",
      "metadata": {
        "id": "bII02WxEavaW"
      },
      "source": [
        "## Задание 1\n",
        "Напишите функцию, которая возвращает название валюты (поле ‘Name’) с максимальным значением курса с помощью сервиса https://www.cbr-xml-daily.ru/daily_json.js"
      ]
    },
    {
      "cell_type": "code",
      "metadata": {
        "colab": {
          "base_uri": "https://localhost:8080/"
        },
        "id": "DdaFX4tdbkBL",
        "outputId": "886d8f02-2f50-4620-fc98-34e0c7002f75"
      },
      "source": [
        "response = requests.get('https://www.cbr-xml-daily.ru/daily_json.js').json()['Valute']\n",
        "response['AUD']\n"
      ],
      "execution_count": 73,
      "outputs": [
        {
          "output_type": "execute_result",
          "data": {
            "text/plain": [
              "{'CharCode': 'AUD',\n",
              " 'ID': 'R01010',\n",
              " 'Name': 'Австралийский доллар',\n",
              " 'Nominal': 1,\n",
              " 'NumCode': '036',\n",
              " 'Previous': 51.9093,\n",
              " 'Value': 52.4298}"
            ]
          },
          "metadata": {},
          "execution_count": 73
        }
      ]
    },
    {
      "cell_type": "markdown",
      "metadata": {
        "id": "iLMSw1ywk6hV"
      },
      "source": [
        "### 1 вариант: функция"
      ]
    },
    {
      "cell_type": "code",
      "metadata": {
        "id": "7BsWjb45eAVx"
      },
      "source": [
        "def name_max_value():\n",
        "    \"\"\"\n",
        "    получает данные с сервиса https://www.cbr-xml-daily.ru/daily_json.js\n",
        "    создает словарь с ключом - название валюты и значением  - отношение значения к номиналу\n",
        "    возвращает название валюты с максимальным значением \n",
        "    \"\"\"\n",
        "    response = requests.get('https://www.cbr-xml-daily.ru/daily_json.js').json()['Valute'] \n",
        "    dict_ = {}\n",
        "    for currency in response:\n",
        "        dict_[response[currency]['Name']]= response[currency]['Value']/response[currency]['Nominal']\n",
        "    return max(dict_, key=dict_.get)"
      ],
      "execution_count": 44,
      "outputs": []
    },
    {
      "cell_type": "code",
      "metadata": {
        "colab": {
          "base_uri": "https://localhost:8080/",
          "height": 35
        },
        "id": "4CZWeoqreg92",
        "outputId": "a471e847-e15e-426e-a810-6b747a9725de"
      },
      "source": [
        "name_max_value()"
      ],
      "execution_count": 40,
      "outputs": [
        {
          "output_type": "execute_result",
          "data": {
            "application/vnd.google.colaboratory.intrinsic+json": {
              "type": "string"
            },
            "text/plain": [
              "'СДР (специальные права заимствования)'"
            ]
          },
          "metadata": {},
          "execution_count": 40
        }
      ]
    },
    {
      "cell_type": "markdown",
      "metadata": {
        "id": "kpa8rCzDlEpE"
      },
      "source": [
        "### 2 вариант: наследование класса Rate\n"
      ]
    },
    {
      "cell_type": "code",
      "metadata": {
        "id": "ANCBQw4WlDGe"
      },
      "source": [
        "class Max_rate(Rate):\n",
        "    def __init__(self):\n",
        "        super().__init__(format='full')\n",
        "\n",
        "    def currency_name(self, currency):\n",
        "        \"\"\"Получение имени валюты\"\"\"\n",
        "        return self.make_format(currency)['Name']\n",
        "    \n",
        "    def currency_nominal_value(self, currency):\n",
        "        \"\"\"Получение курса валюты вне зависимости от номинала\"\"\"\n",
        "        return self.make_format(currency)['Value']/self.make_format(currency)['Nominal']\n",
        "    \n",
        "    def new_data(self):\n",
        "        \"\"\"получение нового словаря имя валюты - курс\"\"\"\n",
        "        result = {}\n",
        "        for currency in self.exchange_rates():\n",
        "            result[self.currency_name(currency)] = self.currency_nominal_value(currency)\n",
        "        return result\n",
        "    \n",
        "    def max_value(self):\n",
        "        \"\"\"получение назнания валюты с максимальным значением курса\"\"\"\n",
        "        return max(self.new_data(), key=self.new_data().get)"
      ],
      "execution_count": 67,
      "outputs": []
    },
    {
      "cell_type": "code",
      "metadata": {
        "id": "KQsRFKyPm6YH"
      },
      "source": [
        "b = Max_rate()"
      ],
      "execution_count": 68,
      "outputs": []
    },
    {
      "cell_type": "code",
      "metadata": {
        "colab": {
          "base_uri": "https://localhost:8080/"
        },
        "id": "kMY_MqrcnGGm",
        "outputId": "da96fc07-bbb3-44fa-e0f2-5744ba366772"
      },
      "source": [
        "b.currency_nominal_value('TRY')"
      ],
      "execution_count": 70,
      "outputs": [
        {
          "output_type": "execute_result",
          "data": {
            "text/plain": [
              "7.2262"
            ]
          },
          "metadata": {},
          "execution_count": 70
        }
      ]
    },
    {
      "cell_type": "code",
      "metadata": {
        "colab": {
          "base_uri": "https://localhost:8080/",
          "height": 35
        },
        "id": "6KPC6oMOpijP",
        "outputId": "4d9e7b70-904e-4c09-e5d5-a8da74a45868"
      },
      "source": [
        "b.max_value()"
      ],
      "execution_count": 71,
      "outputs": [
        {
          "output_type": "execute_result",
          "data": {
            "application/vnd.google.colaboratory.intrinsic+json": {
              "type": "string"
            },
            "text/plain": [
              "'СДР (специальные права заимствования)'"
            ]
          },
          "metadata": {},
          "execution_count": 71
        }
      ]
    },
    {
      "cell_type": "markdown",
      "metadata": {
        "id": "n-XNP4jr1VZf"
      },
      "source": [
        "## Задание 2\n",
        "Добавьте в класс Rate параметр diff (со значениями True или False), который в случае значения True в методах курсов валют (eur, usd итд) будет возвращать не курс валюты, а изменение по сравнению в прошлым значением. Считайте, self.diff будет принимать значение True только при возврате значения курса. При отображении всей информации о валюте он не используется."
      ]
    },
    {
      "cell_type": "markdown",
      "metadata": {
        "id": "S5oXoU0b1iFA"
      },
      "source": [
        "### 1 вариант\n",
        "Изменение класса Rate (возьмем за основу класс Rate внесем изменения  получится новый класс RateDiff)"
      ]
    },
    {
      "cell_type": "code",
      "metadata": {
        "id": "yMxjWojg1Qcp"
      },
      "source": [
        "class RateDidd:\n",
        "    def __init__(self, format='value', diff = False):\n",
        "        self.format = format\n",
        "        self.diff = diff\n",
        "    \n",
        "    def exchange_rates(self):\n",
        "        \"\"\"\n",
        "        Возвращает ответ сервиса с информацией о валютах в виде:\n",
        "        \n",
        "        {\n",
        "            'AMD': {\n",
        "                'CharCode': 'AMD',\n",
        "                'ID': 'R01060',\n",
        "                'Name': 'Армянских драмов',\n",
        "                'Nominal': 100,\n",
        "                'NumCode': '051',\n",
        "                'Previous': 14.103,\n",
        "                'Value': 14.0879\n",
        "                },\n",
        "            ...\n",
        "        }\n",
        "        \"\"\"\n",
        "        r = requests.get('https://www.cbr-xml-daily.ru/daily_json.js')\n",
        "        return r.json()['Valute']\n",
        "    \n",
        "    def make_format(self, currency):\n",
        "        \"\"\"\n",
        "        Возвращает информацию о валюте currency в трех вариантах вариантах:\n",
        "        - полная информация о валюте при self.format = 'full', не зависит от значения self.diff:\n",
        "        RateDiff('full', diff).make_format('EUR')\n",
        "        {\n",
        "            'CharCode': 'EUR',\n",
        "            'ID': 'R01239',\n",
        "            'Name': 'Евро',\n",
        "            'Nominal': 1,\n",
        "            'NumCode': '978',\n",
        "            'Previous': 79.6765,\n",
        "            'Value': 79.4966\n",
        "        }\n",
        "        возвращает значение  'Value'\n",
        "        RateDiff('value', true).make_format('EUR')\n",
        "        79.4966\n",
        "\n",
        "        возвращает измение курса по сравнению с прошлым значением. \n",
        "        RateDiff('value', diff).make_format('EUR')\n",
        "        0.1799\n",
        "        \"\"\"\n",
        "        response = self.exchange_rates()\n",
        "        \n",
        "        if currency in response:\n",
        "            if self.format == 'full':\n",
        "                return response[currency]\n",
        "            \n",
        "            if self.format == 'value' and self.diff == False:\n",
        "                return response[currency]['Value']\n",
        "            return response[currency]['Previous'] - response[currency]['Value']\n",
        "        \n",
        "        return 'Error'\n",
        "    \n",
        "    def eur(self):\n",
        "        \"\"\"Возвращает курс евро на сегодня в формате self.format\"\"\"\n",
        "        return self.make_format('EUR')\n",
        "    \n",
        "    def usd(self):\n",
        "        \"\"\"Возвращает курс доллара на сегодня в формате self.format\"\"\"\n",
        "        return self.make_format('USD')\n",
        "\n",
        "    def AZN(self):\n",
        "        \"\"\"Возвращает курс азербайджанского маната на сегодня в формате self.format\"\"\"\n",
        "        return self.make_format('AZN')"
      ],
      "execution_count": 85,
      "outputs": []
    },
    {
      "cell_type": "code",
      "metadata": {
        "colab": {
          "base_uri": "https://localhost:8080/"
        },
        "id": "whndSEW-4vU5",
        "outputId": "59941f99-5883-4ba2-9245-17c85c88bd02"
      },
      "source": [
        "a = RateDidd('value')\n",
        "a.eur()"
      ],
      "execution_count": 82,
      "outputs": [
        {
          "output_type": "execute_result",
          "data": {
            "text/plain": [
              "82.2173"
            ]
          },
          "metadata": {},
          "execution_count": 82
        }
      ]
    },
    {
      "cell_type": "code",
      "metadata": {
        "colab": {
          "base_uri": "https://localhost:8080/"
        },
        "id": "g9j853KE6IiF",
        "outputId": "17550db3-bb04-4979-86b2-28b8752d4401"
      },
      "source": [
        "a = RateDidd('value', True)\n",
        "a.eur()"
      ],
      "execution_count": 83,
      "outputs": [
        {
          "output_type": "execute_result",
          "data": {
            "text/plain": [
              "-0.5621000000000009"
            ]
          },
          "metadata": {},
          "execution_count": 83
        }
      ]
    },
    {
      "cell_type": "code",
      "metadata": {
        "colab": {
          "base_uri": "https://localhost:8080/"
        },
        "id": "wOpUbIWS56i3",
        "outputId": "b1f736be-923d-4e1c-d057-873ab648286e"
      },
      "source": [
        "a = RateDidd('full')\n",
        "a.eur()"
      ],
      "execution_count": 81,
      "outputs": [
        {
          "output_type": "execute_result",
          "data": {
            "text/plain": [
              "{'CharCode': 'EUR',\n",
              " 'ID': 'R01239',\n",
              " 'Name': 'Евро',\n",
              " 'Nominal': 1,\n",
              " 'NumCode': '978',\n",
              " 'Previous': 81.6552,\n",
              " 'Value': 82.2173}"
            ]
          },
          "metadata": {},
          "execution_count": 81
        }
      ]
    },
    {
      "cell_type": "markdown",
      "metadata": {
        "id": "TFgqCla06c70"
      },
      "source": [
        "### 2 вариант: \n",
        "создание нового класса путем наследования"
      ]
    },
    {
      "cell_type": "code",
      "metadata": {
        "id": "A1J6EqIV6bRJ"
      },
      "source": [
        "class RateDf(Rate):\n",
        "    def __init__(self, format, diff = False):\n",
        "        super().__init__(format)\n",
        "        self.diff = diff\n",
        "        \n",
        "    \n",
        "    def make_format(self, currency):\n",
        "        \"\"\"\n",
        "        Возвращает информацию о валюте currency в трех вариантах вариантах:\n",
        "        - полная информация о валюте при self.format = 'full', не зависит от значения self.diff:\n",
        "        RateDf('full', diff).make_format('EUR')\n",
        "        {\n",
        "            'CharCode': 'EUR',\n",
        "            'ID': 'R01239',\n",
        "            'Name': 'Евро',\n",
        "            'Nominal': 1,\n",
        "            'NumCode': '978',\n",
        "            'Previous': 79.6765,\n",
        "            'Value': 79.4966\n",
        "        }\n",
        "        возвращает значение  'Value'\n",
        "        RateDf('value', true).make_format('EUR')\n",
        "        79.4966\n",
        "\n",
        "        возвращает измение курса по сравнению с прошлым значением. \n",
        "        RateDf('value', diff).make_format('EUR')\n",
        "        0.1799\n",
        "        \"\"\"\n",
        "        response = self.exchange_rates()\n",
        "        \n",
        "        if currency in response:\n",
        "            if self.format == 'full':\n",
        "                return response[currency]\n",
        "            \n",
        "            if self.format == 'value' and self.diff == False:\n",
        "                return response[currency]['Value']\n",
        "            return response[currency]['Previous'] - response[currency]['Value']\n",
        "        \n",
        "        return 'Error'"
      ],
      "execution_count": 117,
      "outputs": []
    },
    {
      "cell_type": "code",
      "metadata": {
        "colab": {
          "base_uri": "https://localhost:8080/"
        },
        "id": "E-MZYHtH7-lA",
        "outputId": "a1b4848e-0b0e-433f-a623-48368c7c7d40"
      },
      "source": [
        "b = RateDf('value', True)\n",
        "b.eur()"
      ],
      "execution_count": 118,
      "outputs": [
        {
          "output_type": "execute_result",
          "data": {
            "text/plain": [
              "-0.5621000000000009"
            ]
          },
          "metadata": {},
          "execution_count": 118
        }
      ]
    },
    {
      "cell_type": "code",
      "metadata": {
        "colab": {
          "base_uri": "https://localhost:8080/"
        },
        "id": "8VP4mJ-e9wWQ",
        "outputId": "1b514320-27fe-4410-caf6-2c7bb6bee907"
      },
      "source": [
        "b = RateDf('value')\n",
        "b.eur()"
      ],
      "execution_count": 119,
      "outputs": [
        {
          "output_type": "execute_result",
          "data": {
            "text/plain": [
              "82.2173"
            ]
          },
          "metadata": {},
          "execution_count": 119
        }
      ]
    },
    {
      "cell_type": "code",
      "metadata": {
        "colab": {
          "base_uri": "https://localhost:8080/"
        },
        "id": "mbt6oCy891Vp",
        "outputId": "856d4e2b-382f-4c7b-894f-483b5080186c"
      },
      "source": [
        "b = RateDf('full')\n",
        "b.eur()"
      ],
      "execution_count": 120,
      "outputs": [
        {
          "output_type": "execute_result",
          "data": {
            "text/plain": [
              "{'CharCode': 'EUR',\n",
              " 'ID': 'R01239',\n",
              " 'Name': 'Евро',\n",
              " 'Nominal': 1,\n",
              " 'NumCode': '978',\n",
              " 'Previous': 81.6552,\n",
              " 'Value': 82.2173}"
            ]
          },
          "metadata": {},
          "execution_count": 120
        }
      ]
    },
    {
      "cell_type": "markdown",
      "metadata": {
        "id": "0tsLTCYu-ZMl"
      },
      "source": [
        "## Задание 3\n",
        "Напишите класс **Designer**, который учитывает количество международных премий. Подсказки в коде занятия в разделе “Домашнее задание задача 3”.\n",
        "\n",
        "Комментарий по классу Designer такой:\n",
        "Напишите класс Designer, который учитывает количество международных премий для дизайнеров (из презентации: “Повышение на 1 грейд за каждые 7 баллов. Получение международной премии – это +2 балла”). Считайте, что при выходе на работу сотрудник уже имеет две премии и их количество не меняется со стажем (конечно если хотите это можно вручную менять).\n",
        "\n",
        "Класс Designer пишется по аналогии с классом Developer из материалов занятия."
      ]
    },
    {
      "cell_type": "markdown",
      "metadata": {
        "id": "GHsscyldRxm7"
      },
      "source": [
        "# Система повышения сотрудников"
      ]
    },
    {
      "cell_type": "code",
      "metadata": {
        "id": "cZz_7MmsRxm7"
      },
      "source": [
        "class Employee:\n",
        "    def __init__(self, name, seniority):\n",
        "        self.name = name\n",
        "        self.seniority = seniority\n",
        "        \n",
        "        self.grade = 1\n",
        "    \n",
        "    def grade_up(self):\n",
        "        \"\"\"Повышает уровень сотрудника\"\"\"\n",
        "        self.grade += 1\n",
        "    \n",
        "    def publish_grade(self):\n",
        "        \"\"\"Публикация результатов аккредитации сотрудников\"\"\"\n",
        "        print(self.name, self.grade)\n",
        "    \n",
        "    def check_if_it_is_time_for_upgrade(self):\n",
        "        pass"
      ],
      "execution_count": 124,
      "outputs": []
    },
    {
      "cell_type": "code",
      "metadata": {
        "id": "99SvIPplDlxF"
      },
      "source": [
        "class Developer(Employee):\n",
        "    def __init__(self, name, seniority):\n",
        "        super().__init__(name, seniority)\n",
        "    \n",
        "    def check_if_it_is_time_for_upgrade(self):\n",
        "        # для каждой аккредитации увеличиваем счетчик на 1\n",
        "        # пока считаем, что все разработчики проходят аккредитацию\n",
        "        self.seniority += 1\n",
        "        \n",
        "        # условие повышения сотрудника из презентации\n",
        "        if self.seniority % 5 == 0:\n",
        "            self.grade_up()\n",
        "        \n",
        "        # публикация результатов\n",
        "        return self.publish_grade()"
      ],
      "execution_count": null,
      "outputs": []
    },
    {
      "cell_type": "code",
      "metadata": {
        "id": "uWiovgrXRxm7"
      },
      "source": [
        "class Designer(Employee):\n",
        "    def __init__(self, name, seniority, awards):\n",
        "        super().__init__(name, seniority)\n",
        "        self.awards = awards\n",
        "\n",
        "    def check_awards(self):\n",
        "        self.seniority += 2 * self.awards \n",
        "\n",
        "    def awards_up(self):\n",
        "        \"\"\"Повышает количество премий сотрудника\"\"\"\n",
        "        self.awards += 1\n",
        "    \n",
        "    def check_if_it_is_time_for_upgrade(self):\n",
        "        if self.seniority == 0 or self.seniority % 4 == 0:\n",
        "            self.check_awards()\n",
        "        # для каждой аккредитации увеличиваем счетчик на 1\n",
        "        # пока считаем, что все дизайнеры проходят аккредитацию\n",
        "        self.seniority += 1\n",
        "\n",
        "        if self.grade % 2 == 0:\n",
        "            self.awards_up()\n",
        "        \n",
        "        # условие повышения сотрудника из презентации\n",
        "        if self.seniority % 7 == 0:\n",
        "            self.grade_up()\n",
        "        \n",
        "        # публикация результатов\n",
        "        return self.publish_grade()"
      ],
      "execution_count": 178,
      "outputs": []
    },
    {
      "cell_type": "code",
      "metadata": {
        "id": "gjqzWZaZG5Uw"
      },
      "source": [
        "# проверяем как работает система повышения сотрудников на примере отдела разработки\n",
        "m = Designer('Maria', 0, 2)"
      ],
      "execution_count": 179,
      "outputs": []
    },
    {
      "cell_type": "code",
      "metadata": {
        "colab": {
          "base_uri": "https://localhost:8080/"
        },
        "id": "RRgRCFQEII03",
        "outputId": "6f5059ca-2854-481f-ea93-4f82b42e0b7b"
      },
      "source": [
        "for i in range(20):\n",
        "    m.check_if_it_is_time_for_upgrade()"
      ],
      "execution_count": 181,
      "outputs": [
        {
          "output_type": "stream",
          "name": "stdout",
          "text": [
            "Maria 1\n",
            "Maria 1\n",
            "Maria 2\n",
            "Maria 2\n",
            "Maria 2\n",
            "Maria 2\n",
            "Maria 2\n",
            "Maria 3\n",
            "Maria 3\n",
            "Maria 3\n",
            "Maria 3\n",
            "Maria 3\n",
            "Maria 3\n",
            "Maria 3\n",
            "Maria 4\n",
            "Maria 4\n",
            "Maria 4\n",
            "Maria 4\n",
            "Maria 4\n",
            "Maria 5\n"
          ]
        }
      ]
    },
    {
      "cell_type": "code",
      "metadata": {
        "id": "rk6P5jOoRxm8"
      },
      "source": [
        "# проверяем как работает система повышения сотрудников на примере отдела разработки\n",
        "\n",
        "# разработчик Александр только что пришел в компанию\n",
        "alex = Developer('Александр', 0)"
      ],
      "execution_count": 109,
      "outputs": []
    },
    {
      "cell_type": "code",
      "metadata": {
        "colab": {
          "base_uri": "https://localhost:8080/",
          "height": 35
        },
        "id": "U4ESRG8IC85A",
        "outputId": "1462d5b7-6b3f-4b0d-f712-c812a92e5fce"
      },
      "source": [
        "alex.name"
      ],
      "execution_count": 111,
      "outputs": [
        {
          "output_type": "execute_result",
          "data": {
            "application/vnd.google.colaboratory.intrinsic+json": {
              "type": "string"
            },
            "text/plain": [
              "'Александр'"
            ]
          },
          "metadata": {},
          "execution_count": 111
        }
      ]
    },
    {
      "cell_type": "code",
      "metadata": {
        "colab": {
          "base_uri": "https://localhost:8080/"
        },
        "id": "EIX59-EDDD6G",
        "outputId": "a0681c3d-8d3b-455b-eeaf-8baafbb10061"
      },
      "source": [
        "alex.grade"
      ],
      "execution_count": 112,
      "outputs": [
        {
          "output_type": "execute_result",
          "data": {
            "text/plain": [
              "1"
            ]
          },
          "metadata": {},
          "execution_count": 112
        }
      ]
    },
    {
      "cell_type": "code",
      "metadata": {
        "colab": {
          "base_uri": "https://localhost:8080/"
        },
        "id": "MRqiPPb2GwXg",
        "outputId": "02f7fa83-d644-4e94-dae9-d5bc065d95fb"
      },
      "source": [
        "alex.seniority"
      ],
      "execution_count": 121,
      "outputs": [
        {
          "output_type": "execute_result",
          "data": {
            "text/plain": [
              "0"
            ]
          },
          "metadata": {},
          "execution_count": 121
        }
      ]
    },
    {
      "cell_type": "code",
      "metadata": {
        "id": "e_5ZcSQ9Rxm8",
        "outputId": "ab717233-d60a-4e98-fa80-8abbbcc22da4"
      },
      "source": [
        "for i in range(20):\n",
        "    alex.check_if_it_is_time_for_upgrade()"
      ],
      "execution_count": null,
      "outputs": [
        {
          "name": "stdout",
          "output_type": "stream",
          "text": [
            "Александр 1\n",
            "Александр 1\n",
            "Александр 1\n",
            "Александр 1\n",
            "Александр 2\n",
            "Александр 2\n",
            "Александр 2\n",
            "Александр 2\n",
            "Александр 2\n",
            "Александр 3\n",
            "Александр 3\n",
            "Александр 3\n",
            "Александр 3\n",
            "Александр 3\n",
            "Александр 4\n",
            "Александр 4\n",
            "Александр 4\n",
            "Александр 4\n",
            "Александр 4\n",
            "Александр 5\n"
          ]
        }
      ]
    }
  ]
}